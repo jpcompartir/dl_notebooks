{
  "cells": [
    {
      "cell_type": "markdown",
      "metadata": {
        "id": "view-in-github",
        "colab_type": "text"
      },
      "source": [
        "<a href=\"https://colab.research.google.com/github/jpcompartir/dl_notebooks/blob/main/colab_workflows_work.ipynb\" target=\"_parent\"><img src=\"https://colab.research.google.com/assets/colab-badge.svg\" alt=\"Open In Colab\"/></a>"
      ]
    },
    {
      "cell_type": "code",
      "execution_count": null,
      "metadata": {
        "id": "hAXr_RnNkGuN"
      },
      "outputs": [],
      "source": [
        "%%capture\n",
        "!pip install transformers --quiet\n",
        "!pip install umap-learn --quiet\n",
        "!pip install sentence_transformers --quiet"
      ]
    },
    {
      "cell_type": "code",
      "execution_count": null,
      "metadata": {
        "id": "xSMrI3wYkG_5"
      },
      "outputs": [],
      "source": [
        "import transformers\n",
        "from transformers import AutoTokenizer, AutoModelForTokenClassification, AutoModelForSequenceClassification, TextClassificationPipeline\n",
        "from transformers import pipeline\n",
        "from sentence_transformers import SentenceTransformer, util\n",
        "\n",
        "from google.colab import drive\n",
        "\n",
        "import time\n",
        "import numpy as np\n",
        "import pandas as pd\n",
        "import os\n",
        "import torch\n",
        "import umap"
      ]
    },
    {
      "cell_type": "code",
      "execution_count": null,
      "metadata": {
        "id": "oJLlK0q2kHCO",
        "colab": {
          "base_uri": "https://localhost:8080/"
        },
        "outputId": "6ccb9bad-be73-469f-bfda-dfa4662b0f3b"
      },
      "outputs": [
        {
          "output_type": "stream",
          "name": "stdout",
          "text": [
            "Mounted at /content/drive\n"
          ]
        }
      ],
      "source": [
        "drive.mount('/content/drive')"
      ]
    },
    {
      "cell_type": "code",
      "execution_count": null,
      "metadata": {
        "id": "0yGLiZsykHEj"
      },
      "outputs": [],
      "source": [
        "df = pd.read_csv(\"/content/drive/MyDrive/data_colab/tn_ar_us_clipped.csv\")"
      ]
    },
    {
      "cell_type": "code",
      "execution_count": null,
      "metadata": {
        "colab": {
          "base_uri": "https://localhost:8080/"
        },
        "id": "ezjyK5qNlYRj",
        "outputId": "dc931b74-27b5-4d1f-eea9-e341c8859a20"
      },
      "outputs": [
        {
          "output_type": "execute_result",
          "data": {
            "text/plain": [
              "<bound method NDFrame.head of                                                     text  new_id\n",
              "0      There are Whales, There are large investment f...       1\n",
              "1      @adrian_ivl @kuraine @tanikumi Bring back C418...       2\n",
              "2      @cryptocom You must open margin trading again ...       3\n",
              "3      And if I go back to 80's what idiots let relea...       4\n",
              "4      @ichimokudoc Time to sell and short the market...       5\n",
              "...                                                  ...     ...\n",
              "47843  I know exactly why i get ads for stock trading...   47844\n",
              "47844  When you sell digital currency for fiat curren...   47845\n",
              "47845  Cococokie said: When i say there is nothing th...   47846\n",
              "47846  I will try to write a whole thread on this str...   47847\n",
              "47847  Array Out of Range Problem\\nHi all,\\nI am comi...   47848\n",
              "\n",
              "[47848 rows x 2 columns]>"
            ]
          },
          "metadata": {},
          "execution_count": 10
        }
      ],
      "source": [
        "df.head"
      ]
    },
    {
      "cell_type": "code",
      "execution_count": null,
      "metadata": {
        "id": "lBOfQphfkHG7"
      },
      "outputs": [],
      "source": [
        "texts = df[\"text\"].tolist()"
      ]
    },
    {
      "cell_type": "code",
      "execution_count": null,
      "metadata": {
        "id": "BaXGmvNgkoRD"
      },
      "outputs": [],
      "source": [
        "%%capture\n",
        "#Get sentence model\n",
        "mpnet = SentenceTransformer(\"all-mpnet-base-v2\")"
      ]
    },
    {
      "cell_type": "code",
      "execution_count": null,
      "metadata": {
        "id": "AW-Cwy1YkoW0"
      },
      "outputs": [],
      "source": [
        "mpnet = mpnet.cuda()"
      ]
    },
    {
      "cell_type": "code",
      "execution_count": null,
      "metadata": {
        "colab": {
          "base_uri": "https://localhost:8080/",
          "height": 49,
          "referenced_widgets": [
            "7cbaebc666d649dfad0a299a52de5f29",
            "57ac499c7b0d4a92923fba1e34af56ac",
            "0f8fb7f2258d4aff831393d37f2e941b",
            "3f6820826764431ca22c8ac76c4b0905",
            "6cea9c1b103f47c4bedb009b0e4cb51f",
            "0c153acd3671433383196a73aed8d687",
            "67b9427926e44b4c96ff8b210bed0d77",
            "ce4c957d660540919304690cf73f5d4a",
            "113d5f8fe1924cd8b5527c3c70f2f4cf",
            "0fb61d4873a04a91a0b748819270f28d",
            "a2eef22096f14a8fae150e53842fc3e9"
          ]
        },
        "id": "289u1aaVk2Q5",
        "outputId": "53afce09-a3c5-471d-eb52-b67cf686c941"
      },
      "outputs": [
        {
          "output_type": "display_data",
          "data": {
            "text/plain": [
              "Batches:   0%|          | 0/374 [00:00<?, ?it/s]"
            ],
            "application/vnd.jupyter.widget-view+json": {
              "version_major": 2,
              "version_minor": 0,
              "model_id": "7cbaebc666d649dfad0a299a52de5f29"
            }
          },
          "metadata": {}
        }
      ],
      "source": [
        "embeddings = mpnet.encode(df[\"text\"], show_progress_bar=True, batch_size=128, device = 0)\n"
      ]
    },
    {
      "cell_type": "code",
      "execution_count": null,
      "metadata": {
        "id": "UofY_83Woj4Z"
      },
      "outputs": [],
      "source": []
    },
    {
      "cell_type": "code",
      "execution_count": null,
      "metadata": {
        "id": "mYomHmKMkHJC"
      },
      "outputs": [],
      "source": [
        "data = pd.DataFrame(embeddings)"
      ]
    },
    {
      "cell_type": "code",
      "source": [
        "data.head"
      ],
      "metadata": {
        "colab": {
          "base_uri": "https://localhost:8080/"
        },
        "id": "A_Cbraa3lROM",
        "outputId": "afd2b6bc-700e-43e9-a813-605d360a2d8b"
      },
      "execution_count": null,
      "outputs": [
        {
          "output_type": "execute_result",
          "data": {
            "text/plain": [
              "<bound method NDFrame.head of             0         1         2         3         4         5         6    \\\n",
              "0      0.026485 -0.033820 -0.015947 -0.029262  0.067772 -0.012595  0.043034   \n",
              "1      0.026080  0.042159 -0.003373 -0.009852  0.028531 -0.044802 -0.019082   \n",
              "2     -0.034258  0.021451 -0.030782  0.000553  0.061282 -0.013792  0.061802   \n",
              "3      0.010006  0.091385  0.013394  0.002038 -0.002925 -0.012558  0.036557   \n",
              "4     -0.018714 -0.008092 -0.035511 -0.024580  0.053955 -0.004057 -0.039893   \n",
              "...         ...       ...       ...       ...       ...       ...       ...   \n",
              "47843 -0.002079  0.048283 -0.013947 -0.075184  0.062359  0.007090  0.029112   \n",
              "47844  0.038814  0.036078 -0.024570  0.034043  0.039380 -0.001938  0.101123   \n",
              "47845  0.012245  0.041654 -0.018376 -0.055632  0.066711  0.029246  0.085108   \n",
              "47846  0.030203 -0.041420 -0.021506 -0.022243  0.021865 -0.016102  0.017094   \n",
              "47847 -0.025564 -0.041199 -0.026990 -0.002519  0.083714  0.001894  0.027810   \n",
              "\n",
              "            7         8         9    ...       758       759       760  \\\n",
              "0      0.003334  0.004207  0.024875  ... -0.001385 -0.012209  0.063041   \n",
              "1      0.019208 -0.103330  0.007418  ... -0.001681  0.053871 -0.036156   \n",
              "2     -0.004444 -0.039412  0.026127  ... -0.012669 -0.010096  0.069833   \n",
              "3     -0.010085 -0.011673 -0.103652  ...  0.002860  0.034861  0.010701   \n",
              "4      0.023730 -0.000171  0.024758  ... -0.016257 -0.021748  0.067251   \n",
              "...         ...       ...       ...  ...       ...       ...       ...   \n",
              "47843  0.009300  0.088388 -0.010819  ...  0.079216 -0.014153 -0.057927   \n",
              "47844  0.007697 -0.003308  0.010737  ... -0.000030 -0.022792 -0.014348   \n",
              "47845  0.033119 -0.013629  0.022399  ...  0.016911 -0.020041  0.039792   \n",
              "47846 -0.001813 -0.058133  0.024794  ... -0.049229  0.015784  0.062930   \n",
              "47847  0.015891  0.015250  0.041445  ... -0.034977  0.001498 -0.017415   \n",
              "\n",
              "            761       762       763       764       765       766       767  \n",
              "0      0.042447  0.022281  0.073623 -0.063889  0.023438  0.039412 -0.043252  \n",
              "1     -0.004569  0.018846  0.058727  0.032854 -0.010524 -0.046413 -0.040124  \n",
              "2      0.009600 -0.025307  0.041176  0.014835  0.027811  0.020709 -0.037011  \n",
              "3     -0.035380  0.035104  0.007218 -0.030460  0.025779  0.030612  0.030939  \n",
              "4      0.022318 -0.016232 -0.084265  0.039741  0.040922  0.003414 -0.052884  \n",
              "...         ...       ...       ...       ...       ...       ...       ...  \n",
              "47843 -0.016397 -0.007709  0.041195 -0.058516  0.020698  0.023971 -0.031665  \n",
              "47844  0.003456 -0.000910  0.015904 -0.036529  0.034239 -0.016941  0.025059  \n",
              "47845  0.044225 -0.014653 -0.088920 -0.038390  0.019127  0.003691  0.033544  \n",
              "47846  0.009486 -0.023945  0.005356 -0.005017  0.050038  0.017254 -0.012133  \n",
              "47847  0.021240 -0.020800  0.031049  0.002159  0.042638  0.011091 -0.000515  \n",
              "\n",
              "[47848 rows x 768 columns]>"
            ]
          },
          "metadata": {},
          "execution_count": 16
        }
      ]
    },
    {
      "cell_type": "code",
      "execution_count": null,
      "metadata": {
        "id": "lkubkYOCkHLW"
      },
      "outputs": [],
      "source": [
        "# data.to_csv(\"551_sample_embeddings_v2.csv\")"
      ]
    },
    {
      "cell_type": "code",
      "execution_count": null,
      "metadata": {
        "id": "1kZF0foznI5Q"
      },
      "outputs": [],
      "source": [
        "# !cp \"551_sample_embeddings_v2.csv\" \"/content/drive/MyDrive/Data Science Project Work/Microsoft/Project Work/551_sustainability/data/551_sample_embeddings_v2.csv\""
      ]
    },
    {
      "cell_type": "code",
      "execution_count": null,
      "metadata": {
        "id": "mT2IBrp_IP5E"
      },
      "outputs": [],
      "source": [
        "reducer = umap.UMAP(random_state=42, n_neighbors=10, verbose = True)"
      ]
    },
    {
      "cell_type": "code",
      "execution_count": null,
      "metadata": {
        "colab": {
          "base_uri": "https://localhost:8080/",
          "height": 370,
          "referenced_widgets": [
            "78708d9036744bb6a4587aa72a350cca",
            "24081334b72345b886d8c6e964b1d702",
            "d81b41c3c2e84c41aa05b88f759335dc",
            "cbcea2f4573648ea906d0049e716f7b5",
            "3d7a7cd3b95a42a1bc2a89f4501928fb",
            "a52c75ba633e49a19e1cedab83b78b70",
            "21da618ebd1c4a609162f372974fb4bc",
            "7c8a1e29dd564fdb8f43a1c633a1414f",
            "889f9b5e86204ad4b96fe7bab29f1409",
            "a12dbaac24d9491dbabddbcd9a05dce8",
            "0f6561b6f31548b694abc7a358239420"
          ]
        },
        "id": "BR9Zhm-0ljgc",
        "outputId": "1106ab6b-1f86-44e8-f58b-ae399252b765"
      },
      "outputs": [
        {
          "output_type": "stream",
          "name": "stdout",
          "text": [
            "UMAP(n_neighbors=10, random_state=42, verbose=True)\n",
            "Mon Nov  7 14:55:40 2022 Construct fuzzy simplicial set\n",
            "Mon Nov  7 14:55:40 2022 Finding Nearest Neighbors\n",
            "Mon Nov  7 14:55:40 2022 Building RP forest with 16 trees\n",
            "Mon Nov  7 14:55:45 2022 NN descent for 16 iterations\n",
            "\t 1  /  16\n",
            "\t 2  /  16\n",
            "\t 3  /  16\n",
            "\t 4  /  16\n",
            "\t 5  /  16\n",
            "\t 6  /  16\n",
            "\t 7  /  16\n",
            "\t 8  /  16\n",
            "\tStopping threshold met -- exiting after 8 iterations\n",
            "Mon Nov  7 14:56:01 2022 Finished Nearest Neighbor Search\n",
            "Mon Nov  7 14:56:04 2022 Construct embedding\n"
          ]
        },
        {
          "output_type": "display_data",
          "data": {
            "text/plain": [
              "Epochs completed:   0%|            0/200 [00:00]"
            ],
            "application/vnd.jupyter.widget-view+json": {
              "version_major": 2,
              "version_minor": 0,
              "model_id": "78708d9036744bb6a4587aa72a350cca"
            }
          },
          "metadata": {}
        },
        {
          "output_type": "stream",
          "name": "stdout",
          "text": [
            "Mon Nov  7 14:56:54 2022 Finished embedding\n"
          ]
        },
        {
          "output_type": "execute_result",
          "data": {
            "text/plain": [
              "74.85040259361267"
            ]
          },
          "metadata": {},
          "execution_count": 18
        }
      ],
      "source": [
        "start = time.time()\n",
        "umap = reducer.fit_transform(embeddings)\n",
        "end = time.time()\n",
        "\n",
        "end - start"
      ]
    },
    {
      "cell_type": "code",
      "execution_count": null,
      "metadata": {
        "id": "IgyzFhUilkxj"
      },
      "outputs": [],
      "source": [
        "umap_df = pd.DataFrame(umap)\n"
      ]
    },
    {
      "cell_type": "code",
      "source": [
        "umap_df"
      ],
      "metadata": {
        "colab": {
          "base_uri": "https://localhost:8080/",
          "height": 424
        },
        "id": "c1OCBQy9mAXv",
        "outputId": "31ed2b2d-00db-4545-afd2-add863ca0e04"
      },
      "execution_count": null,
      "outputs": [
        {
          "output_type": "execute_result",
          "data": {
            "text/plain": [
              "               0         1\n",
              "0      10.149199  6.279799\n",
              "1       5.642390  7.077702\n",
              "2      11.640479  5.683624\n",
              "3       3.575024  4.391333\n",
              "4       9.576430  8.643975\n",
              "...          ...       ...\n",
              "47843   9.785522  6.678511\n",
              "47844   7.605739  4.073271\n",
              "47845   6.673262  3.248573\n",
              "47846  11.332233  5.731156\n",
              "47847  10.857222  3.606707\n",
              "\n",
              "[47848 rows x 2 columns]"
            ],
            "text/html": [
              "\n",
              "  <div id=\"df-52ef850e-74d6-415b-a94b-32ba9b6a62a4\">\n",
              "    <div class=\"colab-df-container\">\n",
              "      <div>\n",
              "<style scoped>\n",
              "    .dataframe tbody tr th:only-of-type {\n",
              "        vertical-align: middle;\n",
              "    }\n",
              "\n",
              "    .dataframe tbody tr th {\n",
              "        vertical-align: top;\n",
              "    }\n",
              "\n",
              "    .dataframe thead th {\n",
              "        text-align: right;\n",
              "    }\n",
              "</style>\n",
              "<table border=\"1\" class=\"dataframe\">\n",
              "  <thead>\n",
              "    <tr style=\"text-align: right;\">\n",
              "      <th></th>\n",
              "      <th>0</th>\n",
              "      <th>1</th>\n",
              "    </tr>\n",
              "  </thead>\n",
              "  <tbody>\n",
              "    <tr>\n",
              "      <th>0</th>\n",
              "      <td>10.149199</td>\n",
              "      <td>6.279799</td>\n",
              "    </tr>\n",
              "    <tr>\n",
              "      <th>1</th>\n",
              "      <td>5.642390</td>\n",
              "      <td>7.077702</td>\n",
              "    </tr>\n",
              "    <tr>\n",
              "      <th>2</th>\n",
              "      <td>11.640479</td>\n",
              "      <td>5.683624</td>\n",
              "    </tr>\n",
              "    <tr>\n",
              "      <th>3</th>\n",
              "      <td>3.575024</td>\n",
              "      <td>4.391333</td>\n",
              "    </tr>\n",
              "    <tr>\n",
              "      <th>4</th>\n",
              "      <td>9.576430</td>\n",
              "      <td>8.643975</td>\n",
              "    </tr>\n",
              "    <tr>\n",
              "      <th>...</th>\n",
              "      <td>...</td>\n",
              "      <td>...</td>\n",
              "    </tr>\n",
              "    <tr>\n",
              "      <th>47843</th>\n",
              "      <td>9.785522</td>\n",
              "      <td>6.678511</td>\n",
              "    </tr>\n",
              "    <tr>\n",
              "      <th>47844</th>\n",
              "      <td>7.605739</td>\n",
              "      <td>4.073271</td>\n",
              "    </tr>\n",
              "    <tr>\n",
              "      <th>47845</th>\n",
              "      <td>6.673262</td>\n",
              "      <td>3.248573</td>\n",
              "    </tr>\n",
              "    <tr>\n",
              "      <th>47846</th>\n",
              "      <td>11.332233</td>\n",
              "      <td>5.731156</td>\n",
              "    </tr>\n",
              "    <tr>\n",
              "      <th>47847</th>\n",
              "      <td>10.857222</td>\n",
              "      <td>3.606707</td>\n",
              "    </tr>\n",
              "  </tbody>\n",
              "</table>\n",
              "<p>47848 rows × 2 columns</p>\n",
              "</div>\n",
              "      <button class=\"colab-df-convert\" onclick=\"convertToInteractive('df-52ef850e-74d6-415b-a94b-32ba9b6a62a4')\"\n",
              "              title=\"Convert this dataframe to an interactive table.\"\n",
              "              style=\"display:none;\">\n",
              "        \n",
              "  <svg xmlns=\"http://www.w3.org/2000/svg\" height=\"24px\"viewBox=\"0 0 24 24\"\n",
              "       width=\"24px\">\n",
              "    <path d=\"M0 0h24v24H0V0z\" fill=\"none\"/>\n",
              "    <path d=\"M18.56 5.44l.94 2.06.94-2.06 2.06-.94-2.06-.94-.94-2.06-.94 2.06-2.06.94zm-11 1L8.5 8.5l.94-2.06 2.06-.94-2.06-.94L8.5 2.5l-.94 2.06-2.06.94zm10 10l.94 2.06.94-2.06 2.06-.94-2.06-.94-.94-2.06-.94 2.06-2.06.94z\"/><path d=\"M17.41 7.96l-1.37-1.37c-.4-.4-.92-.59-1.43-.59-.52 0-1.04.2-1.43.59L10.3 9.45l-7.72 7.72c-.78.78-.78 2.05 0 2.83L4 21.41c.39.39.9.59 1.41.59.51 0 1.02-.2 1.41-.59l7.78-7.78 2.81-2.81c.8-.78.8-2.07 0-2.86zM5.41 20L4 18.59l7.72-7.72 1.47 1.35L5.41 20z\"/>\n",
              "  </svg>\n",
              "      </button>\n",
              "      \n",
              "  <style>\n",
              "    .colab-df-container {\n",
              "      display:flex;\n",
              "      flex-wrap:wrap;\n",
              "      gap: 12px;\n",
              "    }\n",
              "\n",
              "    .colab-df-convert {\n",
              "      background-color: #E8F0FE;\n",
              "      border: none;\n",
              "      border-radius: 50%;\n",
              "      cursor: pointer;\n",
              "      display: none;\n",
              "      fill: #1967D2;\n",
              "      height: 32px;\n",
              "      padding: 0 0 0 0;\n",
              "      width: 32px;\n",
              "    }\n",
              "\n",
              "    .colab-df-convert:hover {\n",
              "      background-color: #E2EBFA;\n",
              "      box-shadow: 0px 1px 2px rgba(60, 64, 67, 0.3), 0px 1px 3px 1px rgba(60, 64, 67, 0.15);\n",
              "      fill: #174EA6;\n",
              "    }\n",
              "\n",
              "    [theme=dark] .colab-df-convert {\n",
              "      background-color: #3B4455;\n",
              "      fill: #D2E3FC;\n",
              "    }\n",
              "\n",
              "    [theme=dark] .colab-df-convert:hover {\n",
              "      background-color: #434B5C;\n",
              "      box-shadow: 0px 1px 3px 1px rgba(0, 0, 0, 0.15);\n",
              "      filter: drop-shadow(0px 1px 2px rgba(0, 0, 0, 0.3));\n",
              "      fill: #FFFFFF;\n",
              "    }\n",
              "  </style>\n",
              "\n",
              "      <script>\n",
              "        const buttonEl =\n",
              "          document.querySelector('#df-52ef850e-74d6-415b-a94b-32ba9b6a62a4 button.colab-df-convert');\n",
              "        buttonEl.style.display =\n",
              "          google.colab.kernel.accessAllowed ? 'block' : 'none';\n",
              "\n",
              "        async function convertToInteractive(key) {\n",
              "          const element = document.querySelector('#df-52ef850e-74d6-415b-a94b-32ba9b6a62a4');\n",
              "          const dataTable =\n",
              "            await google.colab.kernel.invokeFunction('convertToInteractive',\n",
              "                                                     [key], {});\n",
              "          if (!dataTable) return;\n",
              "\n",
              "          const docLinkHtml = 'Like what you see? Visit the ' +\n",
              "            '<a target=\"_blank\" href=https://colab.research.google.com/notebooks/data_table.ipynb>data table notebook</a>'\n",
              "            + ' to learn more about interactive tables.';\n",
              "          element.innerHTML = '';\n",
              "          dataTable['output_type'] = 'display_data';\n",
              "          await google.colab.output.renderOutput(dataTable, element);\n",
              "          const docLink = document.createElement('div');\n",
              "          docLink.innerHTML = docLinkHtml;\n",
              "          element.appendChild(docLink);\n",
              "        }\n",
              "      </script>\n",
              "    </div>\n",
              "  </div>\n",
              "  "
            ]
          },
          "metadata": {},
          "execution_count": 20
        }
      ]
    },
    {
      "cell_type": "code",
      "source": [
        "umap_df['new_id'] = df[\"new_id\"]"
      ],
      "metadata": {
        "id": "rdbTZvxdlyeE"
      },
      "execution_count": null,
      "outputs": []
    },
    {
      "cell_type": "code",
      "source": [
        "umap_df.to_csv(\"tn_umap_reduced.csv\")"
      ],
      "metadata": {
        "id": "AfXISjnQmMDk"
      },
      "execution_count": null,
      "outputs": []
    },
    {
      "cell_type": "code",
      "source": [
        "!cp \"tn_umap_reduced.csv\" \"/content/drive/MyDrive/Data Science Project Work/Trade Nation/project_work/audience_refresh/data/tn_umap_reduced.csv\""
      ],
      "metadata": {
        "id": "Gu_-MfGkmQY5"
      },
      "execution_count": null,
      "outputs": []
    },
    {
      "cell_type": "code",
      "source": [
        "import matplotlib.pyplot as plt\n",
        "\n",
        "plt.scatter(umap_df[0], umap_df[1], cmap = \"spectral\")\n",
        "plt.show()"
      ],
      "metadata": {
        "colab": {
          "base_uri": "https://localhost:8080/",
          "height": 265
        },
        "id": "FcSD4DBmlf3B",
        "outputId": "f9b2ee36-ec27-4b39-963d-e0a99bea5dd4"
      },
      "execution_count": null,
      "outputs": [
        {
          "output_type": "display_data",
          "data": {
            "text/plain": [
              "<Figure size 432x288 with 1 Axes>"
            ],
            "image/png": "[encoded data removed]"
          },
          "metadata": {
            "needs_background": "light"
          }
        }
      ]
    },
    {
      "cell_type": "code",
      "execution_count": null,
      "metadata": {
        "id": "CVzej79KlmCz"
      },
      "outputs": [],
      "source": [
        "# umap_df.to_csv(\"551_umap_30_python.csv\", index = False)\n",
        "# !cp \"551_umap_30_python.csv\" \"/content/drive/MyDrive/Data Science Project Work/Microsoft/Project Work/551_sustainability/data/551_umap_30.csv\""
      ]
    },
    {
      "cell_type": "code",
      "execution_count": null,
      "metadata": {
        "id": "Nuiw1_tiq9Uc"
      },
      "outputs": [],
      "source": [
        "from sklearn.cluster import KMeans\n"
      ]
    },
    {
      "cell_type": "code",
      "execution_count": null,
      "metadata": {
        "id": "453m00amsO59"
      },
      "outputs": [],
      "source": [
        "kmeans = KMeans(n_clusters=6, random_state=0).fit(embeddings)"
      ]
    },
    {
      "cell_type": "code",
      "execution_count": null,
      "metadata": {
        "id": "cY1hJMKRsYU5"
      },
      "outputs": [],
      "source": [
        "clusters = kmeans.fit_transform(embeddings)"
      ]
    },
    {
      "cell_type": "code",
      "execution_count": null,
      "metadata": {
        "id": "V-NffuqqssiG"
      },
      "outputs": [],
      "source": [
        "clusters =pd.DataFrame(kmeans.labels_)"
      ]
    },
    {
      "cell_type": "code",
      "source": [
        "umap_df[\"cluster\"] = clusters[0]\n",
        "umap_df[\"universal_message_id\"] = df[\"universal_message_id\"]\n",
        "umap_df[\"date\"] = df[\"date\"]"
      ],
      "metadata": {
        "id": "E1YK8rmEmKof"
      },
      "execution_count": null,
      "outputs": []
    },
    {
      "cell_type": "code",
      "source": [
        "umap_df"
      ],
      "metadata": {
        "id": "jVv5LqFdmVvv"
      },
      "execution_count": null,
      "outputs": []
    },
    {
      "cell_type": "code",
      "execution_count": null,
      "metadata": {
        "id": "_N_f8LlEtI7g"
      },
      "outputs": [],
      "source": [
        "# clusters.to_csv(\"551_clusters_sklearn.csv\")"
      ]
    },
    {
      "cell_type": "code",
      "execution_count": null,
      "metadata": {
        "id": "0R8YkdQFtRA-"
      },
      "outputs": [],
      "source": [
        "# !cp \"551_clusters_sklearn.csv\" \"/content/drive/MyDrive/Data Science Project Work/Microsoft/Project Work/551_sustainability/data/551_kmeans_python.csv\""
      ]
    },
    {
      "cell_type": "code",
      "execution_count": null,
      "metadata": {
        "id": "FgYs1xois-2M"
      },
      "outputs": [],
      "source": [
        "# pd.DataFrame(clusters)"
      ]
    },
    {
      "cell_type": "markdown",
      "source": [
        "Get sentiment while here:"
      ],
      "metadata": {
        "id": "Qd5c5icpmcCz"
      }
    },
    {
      "cell_type": "code",
      "source": [
        "%%capture\n",
        "model_id = \"cardiffnlp/twitter-roberta-base-sentiment-latest\"\n",
        "tokenizer = AutoTokenizer.from_pretrained(model_id, max_length = 450, truncation = True, padding = True, return_tensors = \"pt\")\n",
        "model = AutoModelForSequenceClassification.from_pretrained(model_id)\n",
        "model.to('cuda')\n",
        "tokenizer.model_max_length = 511"
      ],
      "metadata": {
        "colab": {
          "base_uri": "https://localhost:8080/",
          "height": 91
        },
        "id": "4SyL6Ccamat8",
        "outputId": "51baba18-c7b3-42c8-d756-e31684abf3d6"
      },
      "execution_count": null,
      "outputs": [
        {
          "output_type": "stream",
          "name": "stderr",
          "text": [
            "Some weights of the model checkpoint at cardiffnlp/twitter-roberta-base-sentiment-latest were not used when initializing RobertaForSequenceClassification: ['roberta.pooler.dense.weight', 'roberta.pooler.dense.bias']\n",
            "- This IS expected if you are initializing RobertaForSequenceClassification from the checkpoint of a model trained on another task or with another architecture (e.g. initializing a BertForSequenceClassification model from a BertForPreTraining model).\n",
            "- This IS NOT expected if you are initializing RobertaForSequenceClassification from the checkpoint of a model that you expect to be exactly identical (initializing a BertForSequenceClassification model from a BertForSequenceClassification model).\n"
          ]
        }
      ]
    },
    {
      "cell_type": "code",
      "execution_count": null,
      "metadata": {
        "id": "_RtNWfSntAMa",
        "colab": {
          "base_uri": "https://localhost:8080/"
        },
        "outputId": "dd979077-7dcd-4b43-a1de-07b57e45d4ee"
      },
      "outputs": [
        {
          "output_type": "stream",
          "name": "stderr",
          "text": [
            "/usr/local/lib/python3.7/dist-packages/transformers/pipelines/text_classification.py:92: UserWarning: `return_all_scores` is now deprecated,  if want a similar funcionality use `top_k=None` instead of `return_all_scores=True` or `top_k=1` instead of `return_all_scores=False`.\n",
            "  UserWarning,\n"
          ]
        }
      ],
      "source": [
        "pipe = TextClassificationPipeline(tokenizer = tokenizer, model = model, device = 0, return_all_scores = True, max_length = 512, truncation = True, padding = True, verbose = True)"
      ]
    },
    {
      "cell_type": "code",
      "source": [
        "results = pipe(df[\"message\"].tolist())"
      ],
      "metadata": {
        "id": "tLYdpHjNmra-"
      },
      "execution_count": null,
      "outputs": []
    },
    {
      "cell_type": "code",
      "source": [
        "sentiment = pd.DataFrame(results)"
      ],
      "metadata": {
        "id": "Q2zFYhgNmwxu"
      },
      "execution_count": null,
      "outputs": []
    },
    {
      "cell_type": "code",
      "source": [],
      "metadata": {
        "colab": {
          "base_uri": "https://localhost:8080/"
        },
        "id": "dMQ-3ZacnZaY",
        "outputId": "976fd32f-dca8-4e07-c3e1-2e56b5a978a1"
      },
      "execution_count": null,
      "outputs": [
        {
          "output_type": "execute_result",
          "data": {
            "text/plain": [
              "<bound method NDFrame.head of                                                        0  \\\n",
              "0      {'label': 'Negative', 'score': 0.0165733285248...   \n",
              "1      {'label': 'Negative', 'score': 0.0106464391574...   \n",
              "2      {'label': 'Negative', 'score': 0.8923171758651...   \n",
              "3      {'label': 'Negative', 'score': 0.3695480823516...   \n",
              "4      {'label': 'Negative', 'score': 0.1830233037471...   \n",
              "...                                                  ...   \n",
              "11599  {'label': 'Negative', 'score': 0.3556941151618...   \n",
              "11600  {'label': 'Negative', 'score': 0.0205883029848...   \n",
              "11601  {'label': 'Negative', 'score': 0.9421704411506...   \n",
              "11602  {'label': 'Negative', 'score': 0.0118754431605...   \n",
              "11603  {'label': 'Negative', 'score': 0.9179616570472...   \n",
              "\n",
              "                                                       1  \\\n",
              "0      {'label': 'Neutral', 'score': 0.20349811017513...   \n",
              "1      {'label': 'Neutral', 'score': 0.23623375594615...   \n",
              "2      {'label': 'Neutral', 'score': 0.09429983794689...   \n",
              "3      {'label': 'Neutral', 'score': 0.5481852293014526}   \n",
              "4      {'label': 'Neutral', 'score': 0.6165636777877808}   \n",
              "...                                                  ...   \n",
              "11599  {'label': 'Neutral', 'score': 0.6176759004592896}   \n",
              "11600  {'label': 'Neutral', 'score': 0.5772654414176941}   \n",
              "11601  {'label': 'Neutral', 'score': 0.05170654132962...   \n",
              "11602  {'label': 'Neutral', 'score': 0.5737891793251038}   \n",
              "11603  {'label': 'Neutral', 'score': 0.07563110440969...   \n",
              "\n",
              "                                                       2  \n",
              "0      {'label': 'Positive', 'score': 0.7799286246299...  \n",
              "1      {'label': 'Positive', 'score': 0.7531198263168...  \n",
              "2      {'label': 'Positive', 'score': 0.0133829265832...  \n",
              "3      {'label': 'Positive', 'score': 0.0822667405009...  \n",
              "4      {'label': 'Positive', 'score': 0.2004129588603...  \n",
              "...                                                  ...  \n",
              "11599  {'label': 'Positive', 'score': 0.0266299340873...  \n",
              "11600  {'label': 'Positive', 'score': 0.4021461904048...  \n",
              "11601  {'label': 'Positive', 'score': 0.0061229639686...  \n",
              "11602  {'label': 'Positive', 'score': 0.4143353700637...  \n",
              "11603  {'label': 'Positive', 'score': 0.0064071761444...  \n",
              "\n",
              "[11604 rows x 3 columns]>"
            ]
          },
          "metadata": {},
          "execution_count": 39
        }
      ]
    },
    {
      "cell_type": "code",
      "source": [
        "sentiment.columns = [\"negative\", \"neutral\", \"positive\"]"
      ],
      "metadata": {
        "id": "wWbmZmLMm4Uz"
      },
      "execution_count": null,
      "outputs": []
    },
    {
      "cell_type": "code",
      "source": [
        "sentiment[\"negative\"].str.extract(r\"'score': (\\d+\\.\\d+)\", expand=False)"
      ],
      "metadata": {
        "colab": {
          "base_uri": "https://localhost:8080/"
        },
        "id": "Dm0p1BnoncZf",
        "outputId": "41078623-151c-4997-a71e-72176cb76b71"
      },
      "execution_count": null,
      "outputs": [
        {
          "output_type": "execute_result",
          "data": {
            "text/plain": [
              "0       NaN\n",
              "1       NaN\n",
              "2       NaN\n",
              "3       NaN\n",
              "4       NaN\n",
              "         ..\n",
              "11599   NaN\n",
              "11600   NaN\n",
              "11601   NaN\n",
              "11602   NaN\n",
              "11603   NaN\n",
              "Name: negative, Length: 11604, dtype: float64"
            ]
          },
          "metadata": {},
          "execution_count": 42
        }
      ]
    },
    {
      "cell_type": "code",
      "source": [
        "umap_df[\"negative\"] = sentiment[\"negative\"]\n",
        "umap_df[\"positive\"] = sentiment[\"positive\"]\n",
        "umap_df[\"neutral\"] = sentiment[\"neutral\"]\n",
        "umap_df.head"
      ],
      "metadata": {
        "colab": {
          "base_uri": "https://localhost:8080/"
        },
        "id": "bzjPmP3poTJI",
        "outputId": "0c840562-7867-4a24-b55e-fa9bf1f8f5f5"
      },
      "execution_count": null,
      "outputs": [
        {
          "output_type": "execute_result",
          "data": {
            "text/plain": [
              "<bound method NDFrame.head of               0         1  cluster  \\\n",
              "0      4.572609 -1.201144        1   \n",
              "1     -1.382660  1.951915        4   \n",
              "2     -1.910355  2.490575        4   \n",
              "3      0.746951  3.075345        3   \n",
              "4      1.110697  2.244775        2   \n",
              "...         ...       ...      ...   \n",
              "11599  1.873953 -0.422931        5   \n",
              "11600  4.180357 -2.018442        1   \n",
              "11601 -0.050218  1.089579        4   \n",
              "11602  0.311266 -1.254390        0   \n",
              "11603  1.679388  1.887412        4   \n",
              "\n",
              "                              universal_message_id        date  \\\n",
              "0                    TWITTER_2_1520654001179553792  2022-05-01   \n",
              "1      WEB_100_sg_D61208C61FB9E9AA3C8879A7737F3E16  2022-05-01   \n",
              "2                    TWITTER_7_1520567797335482373  2022-05-01   \n",
              "3                    TWITTER_7_1520563768740040704  2022-05-01   \n",
              "4                    TWITTER_7_1520562840582643713  2022-05-01   \n",
              "...                                            ...         ...   \n",
              "11599                TWITTER_2_1443823137632759823  2021-10-01   \n",
              "11600               INSTAGRAM_36_17940668992615438  2021-10-01   \n",
              "11601                TWITTER_7_1443809568899969055  2021-10-01   \n",
              "11602                TWITTER_4_1443802852779044864  2021-10-01   \n",
              "11603                TWITTER_7_1443795821816737793  2021-10-01   \n",
              "\n",
              "                                                negative  \\\n",
              "0      {'label': 'Negative', 'score': 0.0165733285248...   \n",
              "1      {'label': 'Negative', 'score': 0.0106464391574...   \n",
              "2      {'label': 'Negative', 'score': 0.8923171758651...   \n",
              "3      {'label': 'Negative', 'score': 0.3695480823516...   \n",
              "4      {'label': 'Negative', 'score': 0.1830233037471...   \n",
              "...                                                  ...   \n",
              "11599  {'label': 'Negative', 'score': 0.3556941151618...   \n",
              "11600  {'label': 'Negative', 'score': 0.0205883029848...   \n",
              "11601  {'label': 'Negative', 'score': 0.9421704411506...   \n",
              "11602  {'label': 'Negative', 'score': 0.0118754431605...   \n",
              "11603  {'label': 'Negative', 'score': 0.9179616570472...   \n",
              "\n",
              "                                                positive  \\\n",
              "0      {'label': 'Positive', 'score': 0.7799286246299...   \n",
              "1      {'label': 'Positive', 'score': 0.7531198263168...   \n",
              "2      {'label': 'Positive', 'score': 0.0133829265832...   \n",
              "3      {'label': 'Positive', 'score': 0.0822667405009...   \n",
              "4      {'label': 'Positive', 'score': 0.2004129588603...   \n",
              "...                                                  ...   \n",
              "11599  {'label': 'Positive', 'score': 0.0266299340873...   \n",
              "11600  {'label': 'Positive', 'score': 0.4021461904048...   \n",
              "11601  {'label': 'Positive', 'score': 0.0061229639686...   \n",
              "11602  {'label': 'Positive', 'score': 0.4143353700637...   \n",
              "11603  {'label': 'Positive', 'score': 0.0064071761444...   \n",
              "\n",
              "                                                 neutral  \n",
              "0      {'label': 'Neutral', 'score': 0.20349811017513...  \n",
              "1      {'label': 'Neutral', 'score': 0.23623375594615...  \n",
              "2      {'label': 'Neutral', 'score': 0.09429983794689...  \n",
              "3      {'label': 'Neutral', 'score': 0.5481852293014526}  \n",
              "4      {'label': 'Neutral', 'score': 0.6165636777877808}  \n",
              "...                                                  ...  \n",
              "11599  {'label': 'Neutral', 'score': 0.6176759004592896}  \n",
              "11600  {'label': 'Neutral', 'score': 0.5772654414176941}  \n",
              "11601  {'label': 'Neutral', 'score': 0.05170654132962...  \n",
              "11602  {'label': 'Neutral', 'score': 0.5737891793251038}  \n",
              "11603  {'label': 'Neutral', 'score': 0.07563110440969...  \n",
              "\n",
              "[11604 rows x 8 columns]>"
            ]
          },
          "metadata": {},
          "execution_count": 46
        }
      ]
    },
    {
      "cell_type": "markdown",
      "source": [
        "Get entities"
      ],
      "metadata": {
        "id": "pY7BDDehnRl1"
      }
    },
    {
      "cell_type": "code",
      "source": [
        "from transformers import AutoTokenizer, AutoModelForTokenClassification"
      ],
      "metadata": {
        "id": "oWW-CFxbnRD_"
      },
      "execution_count": null,
      "outputs": []
    },
    {
      "cell_type": "code",
      "source": [
        "nlp = pipeline(\"ner\", model=\"xlm-roberta-large-finetuned-conll03-english\", device = 0,  aggregation_strategy = \"simple\")"
      ],
      "metadata": {
        "colab": {
          "base_uri": "https://localhost:8080/",
          "height": 145,
          "referenced_widgets": [
            "1c88cd6fdfb44585b9309c7a820a2d9c",
            "7cc1e165740646688451527fc7d33be4",
            "f884ea6d7cf749f7b16846166a59899b",
            "db19dc376d1840628bed7c17b292fc42",
            "8c88562216334e4f8223421128e55074",
            "515648eb93f34b138a28adf260af27dc",
            "9e262ac62b20400a9f4e947e78c418ac",
            "eeba76c3921942e3802392597b296fb6",
            "1eca89cd40f2449cb6b5d4c20fcee5f4",
            "746d1c0514de4e01a78dbaa6adc8d7d4",
            "d21615dca0ef4145aaff28cb76e89696",
            "aab002495a294fd6b6e66c01cfee602e",
            "626ebc424e834c5194c71125b014dc49",
            "7eb8e554717746b29871bc3c8f490906",
            "050bb3697e1a473096e8edb0dba16619",
            "9b950111204749248496c0053d7a5ad7",
            "0694b871922c403ab9ae8f53b240bafa",
            "b69ca2a08e7240deb093dce2b9907c3e",
            "b156a186f3504d46867994c034152976",
            "85e76b799bd6455ea7b8cbe6367092dd",
            "b1505d62ca1b419dab13b6e6f40e6aa8",
            "604e141b288347429f3085ac73ff0d2f",
            "78e6257dedf547c4bc1e149fb7f8c806",
            "13b1a837a43c4f328376eea54c3a8ceb",
            "c8aab70aa6de40b98945106791981417",
            "e8541b7bc0db4cb490863a92c4b9b96b",
            "6c55b79b377242e7a42ec06ba0782880",
            "5adcf33ec2fa4105a62f55b9136c617c",
            "a26359c2a22b4bb1a18f352d4a4be321",
            "67bf1d57c61d477090d87ff6fd7a709c",
            "bc653ae8c467428cab08712405e92791",
            "71867143787e4502a8747729b225eb5d",
            "6c7febc51108492ab3742b2dc095b68e",
            "e857d335fa4945faa2e09aa0f0e4fdc4",
            "5f404ec23cfb4bf7867aca9a8ed94ee1",
            "db20a00465244b67ad8b4681b00745b9",
            "149e6ce476af457e863dc0175e03b148",
            "6cca164453424eb0ba33b9d3f7a3dd98",
            "8324bd5926b944a7b536aae00d3c6d52",
            "42f8df5f90554ea69c90edbbdc8e4421",
            "981a3c97b207409d92e13f33de85be5a",
            "b10194a1528247a29368cb3f7c8ebb23",
            "ed534e5dfaf34d24942de054ff0c5f8d",
            "5424f9664a9a4f819c16015dc5325ec8"
          ]
        },
        "id": "L3M9q2DUnV3i",
        "outputId": "e3c1ee3e-085b-4102-dd1b-980be3dc5f36"
      },
      "execution_count": null,
      "outputs": [
        {
          "output_type": "display_data",
          "data": {
            "text/plain": [
              "Downloading:   0%|          | 0.00/852 [00:00<?, ?B/s]"
            ],
            "application/vnd.jupyter.widget-view+json": {
              "version_major": 2,
              "version_minor": 0,
              "model_id": "1c88cd6fdfb44585b9309c7a820a2d9c"
            }
          },
          "metadata": {}
        },
        {
          "output_type": "display_data",
          "data": {
            "text/plain": [
              "Downloading:   0%|          | 0.00/2.24G [00:00<?, ?B/s]"
            ],
            "application/vnd.jupyter.widget-view+json": {
              "version_major": 2,
              "version_minor": 0,
              "model_id": "aab002495a294fd6b6e66c01cfee602e"
            }
          },
          "metadata": {}
        },
        {
          "output_type": "display_data",
          "data": {
            "text/plain": [
              "Downloading:   0%|          | 0.00/5.07M [00:00<?, ?B/s]"
            ],
            "application/vnd.jupyter.widget-view+json": {
              "version_major": 2,
              "version_minor": 0,
              "model_id": "78e6257dedf547c4bc1e149fb7f8c806"
            }
          },
          "metadata": {}
        },
        {
          "output_type": "display_data",
          "data": {
            "text/plain": [
              "Downloading:   0%|          | 0.00/9.10M [00:00<?, ?B/s]"
            ],
            "application/vnd.jupyter.widget-view+json": {
              "version_major": 2,
              "version_minor": 0,
              "model_id": "e857d335fa4945faa2e09aa0f0e4fdc4"
            }
          },
          "metadata": {}
        }
      ]
    },
    {
      "cell_type": "code",
      "source": [
        "entities = nlp(df[\"message\"].tolist())"
      ],
      "metadata": {
        "id": "K9HmoRCjnYaS"
      },
      "execution_count": null,
      "outputs": []
    },
    {
      "cell_type": "code",
      "source": [
        "entities = pd.DataFrame(entities)"
      ],
      "metadata": {
        "id": "AtQNRvCooDGj"
      },
      "execution_count": null,
      "outputs": []
    },
    {
      "cell_type": "code",
      "source": [
        "entities.head"
      ],
      "metadata": {
        "id": "GrDSxHUEo6NH"
      },
      "execution_count": null,
      "outputs": []
    },
    {
      "cell_type": "code",
      "source": [
        "umap_df"
      ],
      "metadata": {
        "colab": {
          "base_uri": "https://localhost:8080/",
          "height": 835
        },
        "id": "zYQTy4z7o6tz",
        "outputId": "3bcbe1c5-97cd-4860-85f9-3addcea846a7"
      },
      "execution_count": null,
      "outputs": [
        {
          "output_type": "execute_result",
          "data": {
            "text/plain": [
              "              0         1  cluster  \\\n",
              "0      4.572609 -1.201144        1   \n",
              "1     -1.382660  1.951915        4   \n",
              "2     -1.910355  2.490575        4   \n",
              "3      0.746951  3.075345        3   \n",
              "4      1.110697  2.244775        2   \n",
              "...         ...       ...      ...   \n",
              "11599  1.873953 -0.422931        5   \n",
              "11600  4.180357 -2.018442        1   \n",
              "11601 -0.050218  1.089579        4   \n",
              "11602  0.311266 -1.254390        0   \n",
              "11603  1.679388  1.887412        4   \n",
              "\n",
              "                              universal_message_id        date  \\\n",
              "0                    TWITTER_2_1520654001179553792  2022-05-01   \n",
              "1      WEB_100_sg_D61208C61FB9E9AA3C8879A7737F3E16  2022-05-01   \n",
              "2                    TWITTER_7_1520567797335482373  2022-05-01   \n",
              "3                    TWITTER_7_1520563768740040704  2022-05-01   \n",
              "4                    TWITTER_7_1520562840582643713  2022-05-01   \n",
              "...                                            ...         ...   \n",
              "11599                TWITTER_2_1443823137632759823  2021-10-01   \n",
              "11600               INSTAGRAM_36_17940668992615438  2021-10-01   \n",
              "11601                TWITTER_7_1443809568899969055  2021-10-01   \n",
              "11602                TWITTER_4_1443802852779044864  2021-10-01   \n",
              "11603                TWITTER_7_1443795821816737793  2021-10-01   \n",
              "\n",
              "                                                negative  \\\n",
              "0      {'label': 'Negative', 'score': 0.0165733285248...   \n",
              "1      {'label': 'Negative', 'score': 0.0106464391574...   \n",
              "2      {'label': 'Negative', 'score': 0.8923171758651...   \n",
              "3      {'label': 'Negative', 'score': 0.3695480823516...   \n",
              "4      {'label': 'Negative', 'score': 0.1830233037471...   \n",
              "...                                                  ...   \n",
              "11599  {'label': 'Negative', 'score': 0.3556941151618...   \n",
              "11600  {'label': 'Negative', 'score': 0.0205883029848...   \n",
              "11601  {'label': 'Negative', 'score': 0.9421704411506...   \n",
              "11602  {'label': 'Negative', 'score': 0.0118754431605...   \n",
              "11603  {'label': 'Negative', 'score': 0.9179616570472...   \n",
              "\n",
              "                                                positive  \\\n",
              "0      {'label': 'Positive', 'score': 0.7799286246299...   \n",
              "1      {'label': 'Positive', 'score': 0.7531198263168...   \n",
              "2      {'label': 'Positive', 'score': 0.0133829265832...   \n",
              "3      {'label': 'Positive', 'score': 0.0822667405009...   \n",
              "4      {'label': 'Positive', 'score': 0.2004129588603...   \n",
              "...                                                  ...   \n",
              "11599  {'label': 'Positive', 'score': 0.0266299340873...   \n",
              "11600  {'label': 'Positive', 'score': 0.4021461904048...   \n",
              "11601  {'label': 'Positive', 'score': 0.0061229639686...   \n",
              "11602  {'label': 'Positive', 'score': 0.4143353700637...   \n",
              "11603  {'label': 'Positive', 'score': 0.0064071761444...   \n",
              "\n",
              "                                                 neutral  \n",
              "0      {'label': 'Neutral', 'score': 0.20349811017513...  \n",
              "1      {'label': 'Neutral', 'score': 0.23623375594615...  \n",
              "2      {'label': 'Neutral', 'score': 0.09429983794689...  \n",
              "3      {'label': 'Neutral', 'score': 0.5481852293014526}  \n",
              "4      {'label': 'Neutral', 'score': 0.6165636777877808}  \n",
              "...                                                  ...  \n",
              "11599  {'label': 'Neutral', 'score': 0.6176759004592896}  \n",
              "11600  {'label': 'Neutral', 'score': 0.5772654414176941}  \n",
              "11601  {'label': 'Neutral', 'score': 0.05170654132962...  \n",
              "11602  {'label': 'Neutral', 'score': 0.5737891793251038}  \n",
              "11603  {'label': 'Neutral', 'score': 0.07563110440969...  \n",
              "\n",
              "[11604 rows x 8 columns]"
            ],
            "text/html": [
              "\n",
              "  <div id=\"df-466176c9-f01a-4751-a7b4-8f5fa2e5ff09\">\n",
              "    <div class=\"colab-df-container\">\n",
              "      <div>\n",
              "<style scoped>\n",
              "    .dataframe tbody tr th:only-of-type {\n",
              "        vertical-align: middle;\n",
              "    }\n",
              "\n",
              "    .dataframe tbody tr th {\n",
              "        vertical-align: top;\n",
              "    }\n",
              "\n",
              "    .dataframe thead th {\n",
              "        text-align: right;\n",
              "    }\n",
              "</style>\n",
              "<table border=\"1\" class=\"dataframe\">\n",
              "  <thead>\n",
              "    <tr style=\"text-align: right;\">\n",
              "      <th></th>\n",
              "      <th>0</th>\n",
              "      <th>1</th>\n",
              "      <th>cluster</th>\n",
              "      <th>universal_message_id</th>\n",
              "      <th>date</th>\n",
              "      <th>negative</th>\n",
              "      <th>positive</th>\n",
              "      <th>neutral</th>\n",
              "    </tr>\n",
              "  </thead>\n",
              "  <tbody>\n",
              "    <tr>\n",
              "      <th>0</th>\n",
              "      <td>4.572609</td>\n",
              "      <td>-1.201144</td>\n",
              "      <td>1</td>\n",
              "      <td>TWITTER_2_1520654001179553792</td>\n",
              "      <td>2022-05-01</td>\n",
              "      <td>{'label': 'Negative', 'score': 0.0165733285248...</td>\n",
              "      <td>{'label': 'Positive', 'score': 0.7799286246299...</td>\n",
              "      <td>{'label': 'Neutral', 'score': 0.20349811017513...</td>\n",
              "    </tr>\n",
              "    <tr>\n",
              "      <th>1</th>\n",
              "      <td>-1.382660</td>\n",
              "      <td>1.951915</td>\n",
              "      <td>4</td>\n",
              "      <td>WEB_100_sg_D61208C61FB9E9AA3C8879A7737F3E16</td>\n",
              "      <td>2022-05-01</td>\n",
              "      <td>{'label': 'Negative', 'score': 0.0106464391574...</td>\n",
              "      <td>{'label': 'Positive', 'score': 0.7531198263168...</td>\n",
              "      <td>{'label': 'Neutral', 'score': 0.23623375594615...</td>\n",
              "    </tr>\n",
              "    <tr>\n",
              "      <th>2</th>\n",
              "      <td>-1.910355</td>\n",
              "      <td>2.490575</td>\n",
              "      <td>4</td>\n",
              "      <td>TWITTER_7_1520567797335482373</td>\n",
              "      <td>2022-05-01</td>\n",
              "      <td>{'label': 'Negative', 'score': 0.8923171758651...</td>\n",
              "      <td>{'label': 'Positive', 'score': 0.0133829265832...</td>\n",
              "      <td>{'label': 'Neutral', 'score': 0.09429983794689...</td>\n",
              "    </tr>\n",
              "    <tr>\n",
              "      <th>3</th>\n",
              "      <td>0.746951</td>\n",
              "      <td>3.075345</td>\n",
              "      <td>3</td>\n",
              "      <td>TWITTER_7_1520563768740040704</td>\n",
              "      <td>2022-05-01</td>\n",
              "      <td>{'label': 'Negative', 'score': 0.3695480823516...</td>\n",
              "      <td>{'label': 'Positive', 'score': 0.0822667405009...</td>\n",
              "      <td>{'label': 'Neutral', 'score': 0.5481852293014526}</td>\n",
              "    </tr>\n",
              "    <tr>\n",
              "      <th>4</th>\n",
              "      <td>1.110697</td>\n",
              "      <td>2.244775</td>\n",
              "      <td>2</td>\n",
              "      <td>TWITTER_7_1520562840582643713</td>\n",
              "      <td>2022-05-01</td>\n",
              "      <td>{'label': 'Negative', 'score': 0.1830233037471...</td>\n",
              "      <td>{'label': 'Positive', 'score': 0.2004129588603...</td>\n",
              "      <td>{'label': 'Neutral', 'score': 0.6165636777877808}</td>\n",
              "    </tr>\n",
              "    <tr>\n",
              "      <th>...</th>\n",
              "      <td>...</td>\n",
              "      <td>...</td>\n",
              "      <td>...</td>\n",
              "      <td>...</td>\n",
              "      <td>...</td>\n",
              "      <td>...</td>\n",
              "      <td>...</td>\n",
              "      <td>...</td>\n",
              "    </tr>\n",
              "    <tr>\n",
              "      <th>11599</th>\n",
              "      <td>1.873953</td>\n",
              "      <td>-0.422931</td>\n",
              "      <td>5</td>\n",
              "      <td>TWITTER_2_1443823137632759823</td>\n",
              "      <td>2021-10-01</td>\n",
              "      <td>{'label': 'Negative', 'score': 0.3556941151618...</td>\n",
              "      <td>{'label': 'Positive', 'score': 0.0266299340873...</td>\n",
              "      <td>{'label': 'Neutral', 'score': 0.6176759004592896}</td>\n",
              "    </tr>\n",
              "    <tr>\n",
              "      <th>11600</th>\n",
              "      <td>4.180357</td>\n",
              "      <td>-2.018442</td>\n",
              "      <td>1</td>\n",
              "      <td>INSTAGRAM_36_17940668992615438</td>\n",
              "      <td>2021-10-01</td>\n",
              "      <td>{'label': 'Negative', 'score': 0.0205883029848...</td>\n",
              "      <td>{'label': 'Positive', 'score': 0.4021461904048...</td>\n",
              "      <td>{'label': 'Neutral', 'score': 0.5772654414176941}</td>\n",
              "    </tr>\n",
              "    <tr>\n",
              "      <th>11601</th>\n",
              "      <td>-0.050218</td>\n",
              "      <td>1.089579</td>\n",
              "      <td>4</td>\n",
              "      <td>TWITTER_7_1443809568899969055</td>\n",
              "      <td>2021-10-01</td>\n",
              "      <td>{'label': 'Negative', 'score': 0.9421704411506...</td>\n",
              "      <td>{'label': 'Positive', 'score': 0.0061229639686...</td>\n",
              "      <td>{'label': 'Neutral', 'score': 0.05170654132962...</td>\n",
              "    </tr>\n",
              "    <tr>\n",
              "      <th>11602</th>\n",
              "      <td>0.311266</td>\n",
              "      <td>-1.254390</td>\n",
              "      <td>0</td>\n",
              "      <td>TWITTER_4_1443802852779044864</td>\n",
              "      <td>2021-10-01</td>\n",
              "      <td>{'label': 'Negative', 'score': 0.0118754431605...</td>\n",
              "      <td>{'label': 'Positive', 'score': 0.4143353700637...</td>\n",
              "      <td>{'label': 'Neutral', 'score': 0.5737891793251038}</td>\n",
              "    </tr>\n",
              "    <tr>\n",
              "      <th>11603</th>\n",
              "      <td>1.679388</td>\n",
              "      <td>1.887412</td>\n",
              "      <td>4</td>\n",
              "      <td>TWITTER_7_1443795821816737793</td>\n",
              "      <td>2021-10-01</td>\n",
              "      <td>{'label': 'Negative', 'score': 0.9179616570472...</td>\n",
              "      <td>{'label': 'Positive', 'score': 0.0064071761444...</td>\n",
              "      <td>{'label': 'Neutral', 'score': 0.07563110440969...</td>\n",
              "    </tr>\n",
              "  </tbody>\n",
              "</table>\n",
              "<p>11604 rows × 8 columns</p>\n",
              "</div>\n",
              "      <button class=\"colab-df-convert\" onclick=\"convertToInteractive('df-466176c9-f01a-4751-a7b4-8f5fa2e5ff09')\"\n",
              "              title=\"Convert this dataframe to an interactive table.\"\n",
              "              style=\"display:none;\">\n",
              "        \n",
              "  <svg xmlns=\"http://www.w3.org/2000/svg\" height=\"24px\"viewBox=\"0 0 24 24\"\n",
              "       width=\"24px\">\n",
              "    <path d=\"M0 0h24v24H0V0z\" fill=\"none\"/>\n",
              "    <path d=\"M18.56 5.44l.94 2.06.94-2.06 2.06-.94-2.06-.94-.94-2.06-.94 2.06-2.06.94zm-11 1L8.5 8.5l.94-2.06 2.06-.94-2.06-.94L8.5 2.5l-.94 2.06-2.06.94zm10 10l.94 2.06.94-2.06 2.06-.94-2.06-.94-.94-2.06-.94 2.06-2.06.94z\"/><path d=\"M17.41 7.96l-1.37-1.37c-.4-.4-.92-.59-1.43-.59-.52 0-1.04.2-1.43.59L10.3 9.45l-7.72 7.72c-.78.78-.78 2.05 0 2.83L4 21.41c.39.39.9.59 1.41.59.51 0 1.02-.2 1.41-.59l7.78-7.78 2.81-2.81c.8-.78.8-2.07 0-2.86zM5.41 20L4 18.59l7.72-7.72 1.47 1.35L5.41 20z\"/>\n",
              "  </svg>\n",
              "      </button>\n",
              "      \n",
              "  <style>\n",
              "    .colab-df-container {\n",
              "      display:flex;\n",
              "      flex-wrap:wrap;\n",
              "      gap: 12px;\n",
              "    }\n",
              "\n",
              "    .colab-df-convert {\n",
              "      background-color: #E8F0FE;\n",
              "      border: none;\n",
              "      border-radius: 50%;\n",
              "      cursor: pointer;\n",
              "      display: none;\n",
              "      fill: #1967D2;\n",
              "      height: 32px;\n",
              "      padding: 0 0 0 0;\n",
              "      width: 32px;\n",
              "    }\n",
              "\n",
              "    .colab-df-convert:hover {\n",
              "      background-color: #E2EBFA;\n",
              "      box-shadow: 0px 1px 2px rgba(60, 64, 67, 0.3), 0px 1px 3px 1px rgba(60, 64, 67, 0.15);\n",
              "      fill: #174EA6;\n",
              "    }\n",
              "\n",
              "    [theme=dark] .colab-df-convert {\n",
              "      background-color: #3B4455;\n",
              "      fill: #D2E3FC;\n",
              "    }\n",
              "\n",
              "    [theme=dark] .colab-df-convert:hover {\n",
              "      background-color: #434B5C;\n",
              "      box-shadow: 0px 1px 3px 1px rgba(0, 0, 0, 0.15);\n",
              "      filter: drop-shadow(0px 1px 2px rgba(0, 0, 0, 0.3));\n",
              "      fill: #FFFFFF;\n",
              "    }\n",
              "  </style>\n",
              "\n",
              "      <script>\n",
              "        const buttonEl =\n",
              "          document.querySelector('#df-466176c9-f01a-4751-a7b4-8f5fa2e5ff09 button.colab-df-convert');\n",
              "        buttonEl.style.display =\n",
              "          google.colab.kernel.accessAllowed ? 'block' : 'none';\n",
              "\n",
              "        async function convertToInteractive(key) {\n",
              "          const element = document.querySelector('#df-466176c9-f01a-4751-a7b4-8f5fa2e5ff09');\n",
              "          const dataTable =\n",
              "            await google.colab.kernel.invokeFunction('convertToInteractive',\n",
              "                                                     [key], {});\n",
              "          if (!dataTable) return;\n",
              "\n",
              "          const docLinkHtml = 'Like what you see? Visit the ' +\n",
              "            '<a target=\"_blank\" href=https://colab.research.google.com/notebooks/data_table.ipynb>data table notebook</a>'\n",
              "            + ' to learn more about interactive tables.';\n",
              "          element.innerHTML = '';\n",
              "          dataTable['output_type'] = 'display_data';\n",
              "          await google.colab.output.renderOutput(dataTable, element);\n",
              "          const docLink = document.createElement('div');\n",
              "          docLink.innerHTML = docLinkHtml;\n",
              "          element.appendChild(docLink);\n",
              "        }\n",
              "      </script>\n",
              "    </div>\n",
              "  </div>\n",
              "  "
            ]
          },
          "metadata": {},
          "execution_count": 50
        }
      ]
    },
    {
      "cell_type": "code",
      "source": [
        "umap_df.to_csv(\"551_ewaste_larger_output.csv\")"
      ],
      "metadata": {
        "id": "EpqbfG4Upqlf"
      },
      "execution_count": null,
      "outputs": []
    },
    {
      "cell_type": "code",
      "source": [
        "entities.to_csv(\"551_ewaste_larger_entities.csv\")"
      ],
      "metadata": {
        "id": "K6xGiqnupzlg"
      },
      "execution_count": null,
      "outputs": []
    },
    {
      "cell_type": "code",
      "source": [
        "!cp \"551_ewaste_larger_output.csv\" \"/content/drive/MyDrive/Data Science Project Work/Microsoft/Project Work/551_sustainability/data/551_ewaste_larger_output.csv\"\n",
        "\n"
      ],
      "metadata": {
        "id": "-3XavBWFp1kN"
      },
      "execution_count": null,
      "outputs": []
    },
    {
      "cell_type": "code",
      "source": [
        "!cp \"551_ewaste_larger_entities.csv\" \"/content/drive/MyDrive/Data Science Project Work/Microsoft/Project Work/551_sustainability/data/551_ewaste_larger_entities.csv\"\n"
      ],
      "metadata": {
        "id": "7_ZP2038qKl1"
      },
      "execution_count": null,
      "outputs": []
    },
    {
      "cell_type": "code",
      "source": [],
      "metadata": {
        "id": "uklMp3a5qOHf"
      },
      "execution_count": null,
      "outputs": []
    }
  ],
  "metadata": {
    "accelerator": "GPU",
    "colab": {
      "machine_shape": "hm",
      "provenance": [],
      "authorship_tag": "ABX9TyP4Mdfs+4ANzCPAbd3BZNmb",
      "include_colab_link": true
    },
    "gpuClass": "premium",
    "kernelspec": {
      "display_name": "Python 3",
      "name": "python3"
    },
    "language_info": {
      "name": "python"
    },
    "widgets": {
      "application/vnd.jupyter.widget-state+json": {
        "1c88cd6fdfb44585b9309c7a820a2d9c": {
          "model_module": "@jupyter-widgets/controls",
          "model_name": "HBoxModel",
          "model_module_version": "1.5.0",
          "state": {
            "_dom_classes": [],
            "_model_module": "@jupyter-widgets/controls",
            "_model_module_version": "1.5.0",
            "_model_name": "HBoxModel",
            "_view_count": null,
            "_view_module": "@jupyter-widgets/controls",
            "_view_module_version": "1.5.0",
            "_view_name": "HBoxView",
            "box_style": "",
            "children": [
              "IPY_MODEL_7cc1e165740646688451527fc7d33be4",
              "IPY_MODEL_f884ea6d7cf749f7b16846166a59899b",
              "IPY_MODEL_db19dc376d1840628bed7c17b292fc42"
            ],
            "layout": "IPY_MODEL_8c88562216334e4f8223421128e55074"
          }
        },
        "7cc1e165740646688451527fc7d33be4": {
          "model_module": "@jupyter-widgets/controls",
          "model_name": "HTMLModel",
          "model_module_version": "1.5.0",
          "state": {
            "_dom_classes": [],
            "_model_module": "@jupyter-widgets/controls",
            "_model_module_version": "1.5.0",
            "_model_name": "HTMLModel",
            "_view_count": null,
            "_view_module": "@jupyter-widgets/controls",
            "_view_module_version": "1.5.0",
            "_view_name": "HTMLView",
            "description": "",
            "description_tooltip": null,
            "layout": "IPY_MODEL_515648eb93f34b138a28adf260af27dc",
            "placeholder": "​",
            "style": "IPY_MODEL_9e262ac62b20400a9f4e947e78c418ac",
            "value": "Downloading: 100%"
          }
        },
        "f884ea6d7cf749f7b16846166a59899b": {
          "model_module": "@jupyter-widgets/controls",
          "model_name": "FloatProgressModel",
          "model_module_version": "1.5.0",
          "state": {
            "_dom_classes": [],
            "_model_module": "@jupyter-widgets/controls",
            "_model_module_version": "1.5.0",
            "_model_name": "FloatProgressModel",
            "_view_count": null,
            "_view_module": "@jupyter-widgets/controls",
            "_view_module_version": "1.5.0",
            "_view_name": "ProgressView",
            "bar_style": "success",
            "description": "",
            "description_tooltip": null,
            "layout": "IPY_MODEL_eeba76c3921942e3802392597b296fb6",
            "max": 852,
            "min": 0,
            "orientation": "horizontal",
            "style": "IPY_MODEL_1eca89cd40f2449cb6b5d4c20fcee5f4",
            "value": 852
          }
        },
        "db19dc376d1840628bed7c17b292fc42": {
          "model_module": "@jupyter-widgets/controls",
          "model_name": "HTMLModel",
          "model_module_version": "1.5.0",
          "state": {
            "_dom_classes": [],
            "_model_module": "@jupyter-widgets/controls",
            "_model_module_version": "1.5.0",
            "_model_name": "HTMLModel",
            "_view_count": null,
            "_view_module": "@jupyter-widgets/controls",
            "_view_module_version": "1.5.0",
            "_view_name": "HTMLView",
            "description": "",
            "description_tooltip": null,
            "layout": "IPY_MODEL_746d1c0514de4e01a78dbaa6adc8d7d4",
            "placeholder": "​",
            "style": "IPY_MODEL_d21615dca0ef4145aaff28cb76e89696",
            "value": " 852/852 [00:00&lt;00:00, 24.7kB/s]"
          }
        },
        "8c88562216334e4f8223421128e55074": {
          "model_module": "@jupyter-widgets/base",
          "model_name": "LayoutModel",
          "model_module_version": "1.2.0",
          "state": {
            "_model_module": "@jupyter-widgets/base",
            "_model_module_version": "1.2.0",
            "_model_name": "LayoutModel",
            "_view_count": null,
            "_view_module": "@jupyter-widgets/base",
            "_view_module_version": "1.2.0",
            "_view_name": "LayoutView",
            "align_content": null,
            "align_items": null,
            "align_self": null,
            "border": null,
            "bottom": null,
            "display": null,
            "flex": null,
            "flex_flow": null,
            "grid_area": null,
            "grid_auto_columns": null,
            "grid_auto_flow": null,
            "grid_auto_rows": null,
            "grid_column": null,
            "grid_gap": null,
            "grid_row": null,
            "grid_template_areas": null,
            "grid_template_columns": null,
            "grid_template_rows": null,
            "height": null,
            "justify_content": null,
            "justify_items": null,
            "left": null,
            "margin": null,
            "max_height": null,
            "max_width": null,
            "min_height": null,
            "min_width": null,
            "object_fit": null,
            "object_position": null,
            "order": null,
            "overflow": null,
            "overflow_x": null,
            "overflow_y": null,
            "padding": null,
            "right": null,
            "top": null,
            "visibility": null,
            "width": null
          }
        },
        "515648eb93f34b138a28adf260af27dc": {
          "model_module": "@jupyter-widgets/base",
          "model_name": "LayoutModel",
          "model_module_version": "1.2.0",
          "state": {
            "_model_module": "@jupyter-widgets/base",
            "_model_module_version": "1.2.0",
            "_model_name": "LayoutModel",
            "_view_count": null,
            "_view_module": "@jupyter-widgets/base",
            "_view_module_version": "1.2.0",
            "_view_name": "LayoutView",
            "align_content": null,
            "align_items": null,
            "align_self": null,
            "border": null,
            "bottom": null,
            "display": null,
            "flex": null,
            "flex_flow": null,
            "grid_area": null,
            "grid_auto_columns": null,
            "grid_auto_flow": null,
            "grid_auto_rows": null,
            "grid_column": null,
            "grid_gap": null,
            "grid_row": null,
            "grid_template_areas": null,
            "grid_template_columns": null,
            "grid_template_rows": null,
            "height": null,
            "justify_content": null,
            "justify_items": null,
            "left": null,
            "margin": null,
            "max_height": null,
            "max_width": null,
            "min_height": null,
            "min_width": null,
            "object_fit": null,
            "object_position": null,
            "order": null,
            "overflow": null,
            "overflow_x": null,
            "overflow_y": null,
            "padding": null,
            "right": null,
            "top": null,
            "visibility": null,
            "width": null
          }
        },
        "9e262ac62b20400a9f4e947e78c418ac": {
          "model_module": "@jupyter-widgets/controls",
          "model_name": "DescriptionStyleModel",
          "model_module_version": "1.5.0",
          "state": {
            "_model_module": "@jupyter-widgets/controls",
            "_model_module_version": "1.5.0",
            "_model_name": "DescriptionStyleModel",
            "_view_count": null,
            "_view_module": "@jupyter-widgets/base",
            "_view_module_version": "1.2.0",
            "_view_name": "StyleView",
            "description_width": ""
          }
        },
        "eeba76c3921942e3802392597b296fb6": {
          "model_module": "@jupyter-widgets/base",
          "model_name": "LayoutModel",
          "model_module_version": "1.2.0",
          "state": {
            "_model_module": "@jupyter-widgets/base",
            "_model_module_version": "1.2.0",
            "_model_name": "LayoutModel",
            "_view_count": null,
            "_view_module": "@jupyter-widgets/base",
            "_view_module_version": "1.2.0",
            "_view_name": "LayoutView",
            "align_content": null,
            "align_items": null,
            "align_self": null,
            "border": null,
            "bottom": null,
            "display": null,
            "flex": null,
            "flex_flow": null,
            "grid_area": null,
            "grid_auto_columns": null,
            "grid_auto_flow": null,
            "grid_auto_rows": null,
            "grid_column": null,
            "grid_gap": null,
            "grid_row": null,
            "grid_template_areas": null,
            "grid_template_columns": null,
            "grid_template_rows": null,
            "height": null,
            "justify_content": null,
            "justify_items": null,
            "left": null,
            "margin": null,
            "max_height": null,
            "max_width": null,
            "min_height": null,
            "min_width": null,
            "object_fit": null,
            "object_position": null,
            "order": null,
            "overflow": null,
            "overflow_x": null,
            "overflow_y": null,
            "padding": null,
            "right": null,
            "top": null,
            "visibility": null,
            "width": null
          }
        },
        "1eca89cd40f2449cb6b5d4c20fcee5f4": {
          "model_module": "@jupyter-widgets/controls",
          "model_name": "ProgressStyleModel",
          "model_module_version": "1.5.0",
          "state": {
            "_model_module": "@jupyter-widgets/controls",
            "_model_module_version": "1.5.0",
            "_model_name": "ProgressStyleModel",
            "_view_count": null,
            "_view_module": "@jupyter-widgets/base",
            "_view_module_version": "1.2.0",
            "_view_name": "StyleView",
            "bar_color": null,
            "description_width": ""
          }
        },
        "746d1c0514de4e01a78dbaa6adc8d7d4": {
          "model_module": "@jupyter-widgets/base",
          "model_name": "LayoutModel",
          "model_module_version": "1.2.0",
          "state": {
            "_model_module": "@jupyter-widgets/base",
            "_model_module_version": "1.2.0",
            "_model_name": "LayoutModel",
            "_view_count": null,
            "_view_module": "@jupyter-widgets/base",
            "_view_module_version": "1.2.0",
            "_view_name": "LayoutView",
            "align_content": null,
            "align_items": null,
            "align_self": null,
            "border": null,
            "bottom": null,
            "display": null,
            "flex": null,
            "flex_flow": null,
            "grid_area": null,
            "grid_auto_columns": null,
            "grid_auto_flow": null,
            "grid_auto_rows": null,
            "grid_column": null,
            "grid_gap": null,
            "grid_row": null,
            "grid_template_areas": null,
            "grid_template_columns": null,
            "grid_template_rows": null,
            "height": null,
            "justify_content": null,
            "justify_items": null,
            "left": null,
            "margin": null,
            "max_height": null,
            "max_width": null,
            "min_height": null,
            "min_width": null,
            "object_fit": null,
            "object_position": null,
            "order": null,
            "overflow": null,
            "overflow_x": null,
            "overflow_y": null,
            "padding": null,
            "right": null,
            "top": null,
            "visibility": null,
            "width": null
          }
        },
        "d21615dca0ef4145aaff28cb76e89696": {
          "model_module": "@jupyter-widgets/controls",
          "model_name": "DescriptionStyleModel",
          "model_module_version": "1.5.0",
          "state": {
            "_model_module": "@jupyter-widgets/controls",
            "_model_module_version": "1.5.0",
            "_model_name": "DescriptionStyleModel",
            "_view_count": null,
            "_view_module": "@jupyter-widgets/base",
            "_view_module_version": "1.2.0",
            "_view_name": "StyleView",
            "description_width": ""
          }
        },
        "aab002495a294fd6b6e66c01cfee602e": {
          "model_module": "@jupyter-widgets/controls",
          "model_name": "HBoxModel",
          "model_module_version": "1.5.0",
          "state": {
            "_dom_classes": [],
            "_model_module": "@jupyter-widgets/controls",
            "_model_module_version": "1.5.0",
            "_model_name": "HBoxModel",
            "_view_count": null,
            "_view_module": "@jupyter-widgets/controls",
            "_view_module_version": "1.5.0",
            "_view_name": "HBoxView",
            "box_style": "",
            "children": [
              "IPY_MODEL_626ebc424e834c5194c71125b014dc49",
              "IPY_MODEL_7eb8e554717746b29871bc3c8f490906",
              "IPY_MODEL_050bb3697e1a473096e8edb0dba16619"
            ],
            "layout": "IPY_MODEL_9b950111204749248496c0053d7a5ad7"
          }
        },
        "626ebc424e834c5194c71125b014dc49": {
          "model_module": "@jupyter-widgets/controls",
          "model_name": "HTMLModel",
          "model_module_version": "1.5.0",
          "state": {
            "_dom_classes": [],
            "_model_module": "@jupyter-widgets/controls",
            "_model_module_version": "1.5.0",
            "_model_name": "HTMLModel",
            "_view_count": null,
            "_view_module": "@jupyter-widgets/controls",
            "_view_module_version": "1.5.0",
            "_view_name": "HTMLView",
            "description": "",
            "description_tooltip": null,
            "layout": "IPY_MODEL_0694b871922c403ab9ae8f53b240bafa",
            "placeholder": "​",
            "style": "IPY_MODEL_b69ca2a08e7240deb093dce2b9907c3e",
            "value": "Downloading: 100%"
          }
        },
        "7eb8e554717746b29871bc3c8f490906": {
          "model_module": "@jupyter-widgets/controls",
          "model_name": "FloatProgressModel",
          "model_module_version": "1.5.0",
          "state": {
            "_dom_classes": [],
            "_model_module": "@jupyter-widgets/controls",
            "_model_module_version": "1.5.0",
            "_model_name": "FloatProgressModel",
            "_view_count": null,
            "_view_module": "@jupyter-widgets/controls",
            "_view_module_version": "1.5.0",
            "_view_name": "ProgressView",
            "bar_style": "success",
            "description": "",
            "description_tooltip": null,
            "layout": "IPY_MODEL_b156a186f3504d46867994c034152976",
            "max": 2239692364,
            "min": 0,
            "orientation": "horizontal",
            "style": "IPY_MODEL_85e76b799bd6455ea7b8cbe6367092dd",
            "value": 2239692364
          }
        },
        "050bb3697e1a473096e8edb0dba16619": {
          "model_module": "@jupyter-widgets/controls",
          "model_name": "HTMLModel",
          "model_module_version": "1.5.0",
          "state": {
            "_dom_classes": [],
            "_model_module": "@jupyter-widgets/controls",
            "_model_module_version": "1.5.0",
            "_model_name": "HTMLModel",
            "_view_count": null,
            "_view_module": "@jupyter-widgets/controls",
            "_view_module_version": "1.5.0",
            "_view_name": "HTMLView",
            "description": "",
            "description_tooltip": null,
            "layout": "IPY_MODEL_b1505d62ca1b419dab13b6e6f40e6aa8",
            "placeholder": "​",
            "style": "IPY_MODEL_604e141b288347429f3085ac73ff0d2f",
            "value": " 2.24G/2.24G [00:37&lt;00:00, 60.5MB/s]"
          }
        },
        "9b950111204749248496c0053d7a5ad7": {
          "model_module": "@jupyter-widgets/base",
          "model_name": "LayoutModel",
          "model_module_version": "1.2.0",
          "state": {
            "_model_module": "@jupyter-widgets/base",
            "_model_module_version": "1.2.0",
            "_model_name": "LayoutModel",
            "_view_count": null,
            "_view_module": "@jupyter-widgets/base",
            "_view_module_version": "1.2.0",
            "_view_name": "LayoutView",
            "align_content": null,
            "align_items": null,
            "align_self": null,
            "border": null,
            "bottom": null,
            "display": null,
            "flex": null,
            "flex_flow": null,
            "grid_area": null,
            "grid_auto_columns": null,
            "grid_auto_flow": null,
            "grid_auto_rows": null,
            "grid_column": null,
            "grid_gap": null,
            "grid_row": null,
            "grid_template_areas": null,
            "grid_template_columns": null,
            "grid_template_rows": null,
            "height": null,
            "justify_content": null,
            "justify_items": null,
            "left": null,
            "margin": null,
            "max_height": null,
            "max_width": null,
            "min_height": null,
            "min_width": null,
            "object_fit": null,
            "object_position": null,
            "order": null,
            "overflow": null,
            "overflow_x": null,
            "overflow_y": null,
            "padding": null,
            "right": null,
            "top": null,
            "visibility": null,
            "width": null
          }
        },
        "0694b871922c403ab9ae8f53b240bafa": {
          "model_module": "@jupyter-widgets/base",
          "model_name": "LayoutModel",
          "model_module_version": "1.2.0",
          "state": {
            "_model_module": "@jupyter-widgets/base",
            "_model_module_version": "1.2.0",
            "_model_name": "LayoutModel",
            "_view_count": null,
            "_view_module": "@jupyter-widgets/base",
            "_view_module_version": "1.2.0",
            "_view_name": "LayoutView",
            "align_content": null,
            "align_items": null,
            "align_self": null,
            "border": null,
            "bottom": null,
            "display": null,
            "flex": null,
            "flex_flow": null,
            "grid_area": null,
            "grid_auto_columns": null,
            "grid_auto_flow": null,
            "grid_auto_rows": null,
            "grid_column": null,
            "grid_gap": null,
            "grid_row": null,
            "grid_template_areas": null,
            "grid_template_columns": null,
            "grid_template_rows": null,
            "height": null,
            "justify_content": null,
            "justify_items": null,
            "left": null,
            "margin": null,
            "max_height": null,
            "max_width": null,
            "min_height": null,
            "min_width": null,
            "object_fit": null,
            "object_position": null,
            "order": null,
            "overflow": null,
            "overflow_x": null,
            "overflow_y": null,
            "padding": null,
            "right": null,
            "top": null,
            "visibility": null,
            "width": null
          }
        },
        "b69ca2a08e7240deb093dce2b9907c3e": {
          "model_module": "@jupyter-widgets/controls",
          "model_name": "DescriptionStyleModel",
          "model_module_version": "1.5.0",
          "state": {
            "_model_module": "@jupyter-widgets/controls",
            "_model_module_version": "1.5.0",
            "_model_name": "DescriptionStyleModel",
            "_view_count": null,
            "_view_module": "@jupyter-widgets/base",
            "_view_module_version": "1.2.0",
            "_view_name": "StyleView",
            "description_width": ""
          }
        },
        "b156a186f3504d46867994c034152976": {
          "model_module": "@jupyter-widgets/base",
          "model_name": "LayoutModel",
          "model_module_version": "1.2.0",
          "state": {
            "_model_module": "@jupyter-widgets/base",
            "_model_module_version": "1.2.0",
            "_model_name": "LayoutModel",
            "_view_count": null,
            "_view_module": "@jupyter-widgets/base",
            "_view_module_version": "1.2.0",
            "_view_name": "LayoutView",
            "align_content": null,
            "align_items": null,
            "align_self": null,
            "border": null,
            "bottom": null,
            "display": null,
            "flex": null,
            "flex_flow": null,
            "grid_area": null,
            "grid_auto_columns": null,
            "grid_auto_flow": null,
            "grid_auto_rows": null,
            "grid_column": null,
            "grid_gap": null,
            "grid_row": null,
            "grid_template_areas": null,
            "grid_template_columns": null,
            "grid_template_rows": null,
            "height": null,
            "justify_content": null,
            "justify_items": null,
            "left": null,
            "margin": null,
            "max_height": null,
            "max_width": null,
            "min_height": null,
            "min_width": null,
            "object_fit": null,
            "object_position": null,
            "order": null,
            "overflow": null,
            "overflow_x": null,
            "overflow_y": null,
            "padding": null,
            "right": null,
            "top": null,
            "visibility": null,
            "width": null
          }
        },
        "85e76b799bd6455ea7b8cbe6367092dd": {
          "model_module": "@jupyter-widgets/controls",
          "model_name": "ProgressStyleModel",
          "model_module_version": "1.5.0",
          "state": {
            "_model_module": "@jupyter-widgets/controls",
            "_model_module_version": "1.5.0",
            "_model_name": "ProgressStyleModel",
            "_view_count": null,
            "_view_module": "@jupyter-widgets/base",
            "_view_module_version": "1.2.0",
            "_view_name": "StyleView",
            "bar_color": null,
            "description_width": ""
          }
        },
        "b1505d62ca1b419dab13b6e6f40e6aa8": {
          "model_module": "@jupyter-widgets/base",
          "model_name": "LayoutModel",
          "model_module_version": "1.2.0",
          "state": {
            "_model_module": "@jupyter-widgets/base",
            "_model_module_version": "1.2.0",
            "_model_name": "LayoutModel",
            "_view_count": null,
            "_view_module": "@jupyter-widgets/base",
            "_view_module_version": "1.2.0",
            "_view_name": "LayoutView",
            "align_content": null,
            "align_items": null,
            "align_self": null,
            "border": null,
            "bottom": null,
            "display": null,
            "flex": null,
            "flex_flow": null,
            "grid_area": null,
            "grid_auto_columns": null,
            "grid_auto_flow": null,
            "grid_auto_rows": null,
            "grid_column": null,
            "grid_gap": null,
            "grid_row": null,
            "grid_template_areas": null,
            "grid_template_columns": null,
            "grid_template_rows": null,
            "height": null,
            "justify_content": null,
            "justify_items": null,
            "left": null,
            "margin": null,
            "max_height": null,
            "max_width": null,
            "min_height": null,
            "min_width": null,
            "object_fit": null,
            "object_position": null,
            "order": null,
            "overflow": null,
            "overflow_x": null,
            "overflow_y": null,
            "padding": null,
            "right": null,
            "top": null,
            "visibility": null,
            "width": null
          }
        },
        "604e141b288347429f3085ac73ff0d2f": {
          "model_module": "@jupyter-widgets/controls",
          "model_name": "DescriptionStyleModel",
          "model_module_version": "1.5.0",
          "state": {
            "_model_module": "@jupyter-widgets/controls",
            "_model_module_version": "1.5.0",
            "_model_name": "DescriptionStyleModel",
            "_view_count": null,
            "_view_module": "@jupyter-widgets/base",
            "_view_module_version": "1.2.0",
            "_view_name": "StyleView",
            "description_width": ""
          }
        },
        "78e6257dedf547c4bc1e149fb7f8c806": {
          "model_module": "@jupyter-widgets/controls",
          "model_name": "HBoxModel",
          "model_module_version": "1.5.0",
          "state": {
            "_dom_classes": [],
            "_model_module": "@jupyter-widgets/controls",
            "_model_module_version": "1.5.0",
            "_model_name": "HBoxModel",
            "_view_count": null,
            "_view_module": "@jupyter-widgets/controls",
            "_view_module_version": "1.5.0",
            "_view_name": "HBoxView",
            "box_style": "",
            "children": [
              "IPY_MODEL_13b1a837a43c4f328376eea54c3a8ceb",
              "IPY_MODEL_c8aab70aa6de40b98945106791981417",
              "IPY_MODEL_e8541b7bc0db4cb490863a92c4b9b96b"
            ],
            "layout": "IPY_MODEL_6c55b79b377242e7a42ec06ba0782880"
          }
        },
        "13b1a837a43c4f328376eea54c3a8ceb": {
          "model_module": "@jupyter-widgets/controls",
          "model_name": "HTMLModel",
          "model_module_version": "1.5.0",
          "state": {
            "_dom_classes": [],
            "_model_module": "@jupyter-widgets/controls",
            "_model_module_version": "1.5.0",
            "_model_name": "HTMLModel",
            "_view_count": null,
            "_view_module": "@jupyter-widgets/controls",
            "_view_module_version": "1.5.0",
            "_view_name": "HTMLView",
            "description": "",
            "description_tooltip": null,
            "layout": "IPY_MODEL_5adcf33ec2fa4105a62f55b9136c617c",
            "placeholder": "​",
            "style": "IPY_MODEL_a26359c2a22b4bb1a18f352d4a4be321",
            "value": "Downloading: 100%"
          }
        },
        "c8aab70aa6de40b98945106791981417": {
          "model_module": "@jupyter-widgets/controls",
          "model_name": "FloatProgressModel",
          "model_module_version": "1.5.0",
          "state": {
            "_dom_classes": [],
            "_model_module": "@jupyter-widgets/controls",
            "_model_module_version": "1.5.0",
            "_model_name": "FloatProgressModel",
            "_view_count": null,
            "_view_module": "@jupyter-widgets/controls",
            "_view_module_version": "1.5.0",
            "_view_name": "ProgressView",
            "bar_style": "success",
            "description": "",
            "description_tooltip": null,
            "layout": "IPY_MODEL_67bf1d57c61d477090d87ff6fd7a709c",
            "max": 5069051,
            "min": 0,
            "orientation": "horizontal",
            "style": "IPY_MODEL_bc653ae8c467428cab08712405e92791",
            "value": 5069051
          }
        },
        "e8541b7bc0db4cb490863a92c4b9b96b": {
          "model_module": "@jupyter-widgets/controls",
          "model_name": "HTMLModel",
          "model_module_version": "1.5.0",
          "state": {
            "_dom_classes": [],
            "_model_module": "@jupyter-widgets/controls",
            "_model_module_version": "1.5.0",
            "_model_name": "HTMLModel",
            "_view_count": null,
            "_view_module": "@jupyter-widgets/controls",
            "_view_module_version": "1.5.0",
            "_view_name": "HTMLView",
            "description": "",
            "description_tooltip": null,
            "layout": "IPY_MODEL_71867143787e4502a8747729b225eb5d",
            "placeholder": "​",
            "style": "IPY_MODEL_6c7febc51108492ab3742b2dc095b68e",
            "value": " 5.07M/5.07M [00:00&lt;00:00, 18.0MB/s]"
          }
        },
        "6c55b79b377242e7a42ec06ba0782880": {
          "model_module": "@jupyter-widgets/base",
          "model_name": "LayoutModel",
          "model_module_version": "1.2.0",
          "state": {
            "_model_module": "@jupyter-widgets/base",
            "_model_module_version": "1.2.0",
            "_model_name": "LayoutModel",
            "_view_count": null,
            "_view_module": "@jupyter-widgets/base",
            "_view_module_version": "1.2.0",
            "_view_name": "LayoutView",
            "align_content": null,
            "align_items": null,
            "align_self": null,
            "border": null,
            "bottom": null,
            "display": null,
            "flex": null,
            "flex_flow": null,
            "grid_area": null,
            "grid_auto_columns": null,
            "grid_auto_flow": null,
            "grid_auto_rows": null,
            "grid_column": null,
            "grid_gap": null,
            "grid_row": null,
            "grid_template_areas": null,
            "grid_template_columns": null,
            "grid_template_rows": null,
            "height": null,
            "justify_content": null,
            "justify_items": null,
            "left": null,
            "margin": null,
            "max_height": null,
            "max_width": null,
            "min_height": null,
            "min_width": null,
            "object_fit": null,
            "object_position": null,
            "order": null,
            "overflow": null,
            "overflow_x": null,
            "overflow_y": null,
            "padding": null,
            "right": null,
            "top": null,
            "visibility": null,
            "width": null
          }
        },
        "5adcf33ec2fa4105a62f55b9136c617c": {
          "model_module": "@jupyter-widgets/base",
          "model_name": "LayoutModel",
          "model_module_version": "1.2.0",
          "state": {
            "_model_module": "@jupyter-widgets/base",
            "_model_module_version": "1.2.0",
            "_model_name": "LayoutModel",
            "_view_count": null,
            "_view_module": "@jupyter-widgets/base",
            "_view_module_version": "1.2.0",
            "_view_name": "LayoutView",
            "align_content": null,
            "align_items": null,
            "align_self": null,
            "border": null,
            "bottom": null,
            "display": null,
            "flex": null,
            "flex_flow": null,
            "grid_area": null,
            "grid_auto_columns": null,
            "grid_auto_flow": null,
            "grid_auto_rows": null,
            "grid_column": null,
            "grid_gap": null,
            "grid_row": null,
            "grid_template_areas": null,
            "grid_template_columns": null,
            "grid_template_rows": null,
            "height": null,
            "justify_content": null,
            "justify_items": null,
            "left": null,
            "margin": null,
            "max_height": null,
            "max_width": null,
            "min_height": null,
            "min_width": null,
            "object_fit": null,
            "object_position": null,
            "order": null,
            "overflow": null,
            "overflow_x": null,
            "overflow_y": null,
            "padding": null,
            "right": null,
            "top": null,
            "visibility": null,
            "width": null
          }
        },
        "a26359c2a22b4bb1a18f352d4a4be321": {
          "model_module": "@jupyter-widgets/controls",
          "model_name": "DescriptionStyleModel",
          "model_module_version": "1.5.0",
          "state": {
            "_model_module": "@jupyter-widgets/controls",
            "_model_module_version": "1.5.0",
            "_model_name": "DescriptionStyleModel",
            "_view_count": null,
            "_view_module": "@jupyter-widgets/base",
            "_view_module_version": "1.2.0",
            "_view_name": "StyleView",
            "description_width": ""
          }
        },
        "67bf1d57c61d477090d87ff6fd7a709c": {
          "model_module": "@jupyter-widgets/base",
          "model_name": "LayoutModel",
          "model_module_version": "1.2.0",
          "state": {
            "_model_module": "@jupyter-widgets/base",
            "_model_module_version": "1.2.0",
            "_model_name": "LayoutModel",
            "_view_count": null,
            "_view_module": "@jupyter-widgets/base",
            "_view_module_version": "1.2.0",
            "_view_name": "LayoutView",
            "align_content": null,
            "align_items": null,
            "align_self": null,
            "border": null,
            "bottom": null,
            "display": null,
            "flex": null,
            "flex_flow": null,
            "grid_area": null,
            "grid_auto_columns": null,
            "grid_auto_flow": null,
            "grid_auto_rows": null,
            "grid_column": null,
            "grid_gap": null,
            "grid_row": null,
            "grid_template_areas": null,
            "grid_template_columns": null,
            "grid_template_rows": null,
            "height": null,
            "justify_content": null,
            "justify_items": null,
            "left": null,
            "margin": null,
            "max_height": null,
            "max_width": null,
            "min_height": null,
            "min_width": null,
            "object_fit": null,
            "object_position": null,
            "order": null,
            "overflow": null,
            "overflow_x": null,
            "overflow_y": null,
            "padding": null,
            "right": null,
            "top": null,
            "visibility": null,
            "width": null
          }
        },
        "bc653ae8c467428cab08712405e92791": {
          "model_module": "@jupyter-widgets/controls",
          "model_name": "ProgressStyleModel",
          "model_module_version": "1.5.0",
          "state": {
            "_model_module": "@jupyter-widgets/controls",
            "_model_module_version": "1.5.0",
            "_model_name": "ProgressStyleModel",
            "_view_count": null,
            "_view_module": "@jupyter-widgets/base",
            "_view_module_version": "1.2.0",
            "_view_name": "StyleView",
            "bar_color": null,
            "description_width": ""
          }
        },
        "71867143787e4502a8747729b225eb5d": {
          "model_module": "@jupyter-widgets/base",
          "model_name": "LayoutModel",
          "model_module_version": "1.2.0",
          "state": {
            "_model_module": "@jupyter-widgets/base",
            "_model_module_version": "1.2.0",
            "_model_name": "LayoutModel",
            "_view_count": null,
            "_view_module": "@jupyter-widgets/base",
            "_view_module_version": "1.2.0",
            "_view_name": "LayoutView",
            "align_content": null,
            "align_items": null,
            "align_self": null,
            "border": null,
            "bottom": null,
            "display": null,
            "flex": null,
            "flex_flow": null,
            "grid_area": null,
            "grid_auto_columns": null,
            "grid_auto_flow": null,
            "grid_auto_rows": null,
            "grid_column": null,
            "grid_gap": null,
            "grid_row": null,
            "grid_template_areas": null,
            "grid_template_columns": null,
            "grid_template_rows": null,
            "height": null,
            "justify_content": null,
            "justify_items": null,
            "left": null,
            "margin": null,
            "max_height": null,
            "max_width": null,
            "min_height": null,
            "min_width": null,
            "object_fit": null,
            "object_position": null,
            "order": null,
            "overflow": null,
            "overflow_x": null,
            "overflow_y": null,
            "padding": null,
            "right": null,
            "top": null,
            "visibility": null,
            "width": null
          }
        },
        "6c7febc51108492ab3742b2dc095b68e": {
          "model_module": "@jupyter-widgets/controls",
          "model_name": "DescriptionStyleModel",
          "model_module_version": "1.5.0",
          "state": {
            "_model_module": "@jupyter-widgets/controls",
            "_model_module_version": "1.5.0",
            "_model_name": "DescriptionStyleModel",
            "_view_count": null,
            "_view_module": "@jupyter-widgets/base",
            "_view_module_version": "1.2.0",
            "_view_name": "StyleView",
            "description_width": ""
          }
        },
        "e857d335fa4945faa2e09aa0f0e4fdc4": {
          "model_module": "@jupyter-widgets/controls",
          "model_name": "HBoxModel",
          "model_module_version": "1.5.0",
          "state": {
            "_dom_classes": [],
            "_model_module": "@jupyter-widgets/controls",
            "_model_module_version": "1.5.0",
            "_model_name": "HBoxModel",
            "_view_count": null,
            "_view_module": "@jupyter-widgets/controls",
            "_view_module_version": "1.5.0",
            "_view_name": "HBoxView",
            "box_style": "",
            "children": [
              "IPY_MODEL_5f404ec23cfb4bf7867aca9a8ed94ee1",
              "IPY_MODEL_db20a00465244b67ad8b4681b00745b9",
              "IPY_MODEL_149e6ce476af457e863dc0175e03b148"
            ],
            "layout": "IPY_MODEL_6cca164453424eb0ba33b9d3f7a3dd98"
          }
        },
        "5f404ec23cfb4bf7867aca9a8ed94ee1": {
          "model_module": "@jupyter-widgets/controls",
          "model_name": "HTMLModel",
          "model_module_version": "1.5.0",
          "state": {
            "_dom_classes": [],
            "_model_module": "@jupyter-widgets/controls",
            "_model_module_version": "1.5.0",
            "_model_name": "HTMLModel",
            "_view_count": null,
            "_view_module": "@jupyter-widgets/controls",
            "_view_module_version": "1.5.0",
            "_view_name": "HTMLView",
            "description": "",
            "description_tooltip": null,
            "layout": "IPY_MODEL_8324bd5926b944a7b536aae00d3c6d52",
            "placeholder": "​",
            "style": "IPY_MODEL_42f8df5f90554ea69c90edbbdc8e4421",
            "value": "Downloading: 100%"
          }
        },
        "db20a00465244b67ad8b4681b00745b9": {
          "model_module": "@jupyter-widgets/controls",
          "model_name": "FloatProgressModel",
          "model_module_version": "1.5.0",
          "state": {
            "_dom_classes": [],
            "_model_module": "@jupyter-widgets/controls",
            "_model_module_version": "1.5.0",
            "_model_name": "FloatProgressModel",
            "_view_count": null,
            "_view_module": "@jupyter-widgets/controls",
            "_view_module_version": "1.5.0",
            "_view_name": "ProgressView",
            "bar_style": "success",
            "description": "",
            "description_tooltip": null,
            "layout": "IPY_MODEL_981a3c97b207409d92e13f33de85be5a",
            "max": 9096718,
            "min": 0,
            "orientation": "horizontal",
            "style": "IPY_MODEL_b10194a1528247a29368cb3f7c8ebb23",
            "value": 9096718
          }
        },
        "149e6ce476af457e863dc0175e03b148": {
          "model_module": "@jupyter-widgets/controls",
          "model_name": "HTMLModel",
          "model_module_version": "1.5.0",
          "state": {
            "_dom_classes": [],
            "_model_module": "@jupyter-widgets/controls",
            "_model_module_version": "1.5.0",
            "_model_name": "HTMLModel",
            "_view_count": null,
            "_view_module": "@jupyter-widgets/controls",
            "_view_module_version": "1.5.0",
            "_view_name": "HTMLView",
            "description": "",
            "description_tooltip": null,
            "layout": "IPY_MODEL_ed534e5dfaf34d24942de054ff0c5f8d",
            "placeholder": "​",
            "style": "IPY_MODEL_5424f9664a9a4f819c16015dc5325ec8",
            "value": " 9.10M/9.10M [00:00&lt;00:00, 14.8MB/s]"
          }
        },
        "6cca164453424eb0ba33b9d3f7a3dd98": {
          "model_module": "@jupyter-widgets/base",
          "model_name": "LayoutModel",
          "model_module_version": "1.2.0",
          "state": {
            "_model_module": "@jupyter-widgets/base",
            "_model_module_version": "1.2.0",
            "_model_name": "LayoutModel",
            "_view_count": null,
            "_view_module": "@jupyter-widgets/base",
            "_view_module_version": "1.2.0",
            "_view_name": "LayoutView",
            "align_content": null,
            "align_items": null,
            "align_self": null,
            "border": null,
            "bottom": null,
            "display": null,
            "flex": null,
            "flex_flow": null,
            "grid_area": null,
            "grid_auto_columns": null,
            "grid_auto_flow": null,
            "grid_auto_rows": null,
            "grid_column": null,
            "grid_gap": null,
            "grid_row": null,
            "grid_template_areas": null,
            "grid_template_columns": null,
            "grid_template_rows": null,
            "height": null,
            "justify_content": null,
            "justify_items": null,
            "left": null,
            "margin": null,
            "max_height": null,
            "max_width": null,
            "min_height": null,
            "min_width": null,
            "object_fit": null,
            "object_position": null,
            "order": null,
            "overflow": null,
            "overflow_x": null,
            "overflow_y": null,
            "padding": null,
            "right": null,
            "top": null,
            "visibility": null,
            "width": null
          }
        },
        "8324bd5926b944a7b536aae00d3c6d52": {
          "model_module": "@jupyter-widgets/base",
          "model_name": "LayoutModel",
          "model_module_version": "1.2.0",
          "state": {
            "_model_module": "@jupyter-widgets/base",
            "_model_module_version": "1.2.0",
            "_model_name": "LayoutModel",
            "_view_count": null,
            "_view_module": "@jupyter-widgets/base",
            "_view_module_version": "1.2.0",
            "_view_name": "LayoutView",
            "align_content": null,
            "align_items": null,
            "align_self": null,
            "border": null,
            "bottom": null,
            "display": null,
            "flex": null,
            "flex_flow": null,
            "grid_area": null,
            "grid_auto_columns": null,
            "grid_auto_flow": null,
            "grid_auto_rows": null,
            "grid_column": null,
            "grid_gap": null,
            "grid_row": null,
            "grid_template_areas": null,
            "grid_template_columns": null,
            "grid_template_rows": null,
            "height": null,
            "justify_content": null,
            "justify_items": null,
            "left": null,
            "margin": null,
            "max_height": null,
            "max_width": null,
            "min_height": null,
            "min_width": null,
            "object_fit": null,
            "object_position": null,
            "order": null,
            "overflow": null,
            "overflow_x": null,
            "overflow_y": null,
            "padding": null,
            "right": null,
            "top": null,
            "visibility": null,
            "width": null
          }
        },
        "42f8df5f90554ea69c90edbbdc8e4421": {
          "model_module": "@jupyter-widgets/controls",
          "model_name": "DescriptionStyleModel",
          "model_module_version": "1.5.0",
          "state": {
            "_model_module": "@jupyter-widgets/controls",
            "_model_module_version": "1.5.0",
            "_model_name": "DescriptionStyleModel",
            "_view_count": null,
            "_view_module": "@jupyter-widgets/base",
            "_view_module_version": "1.2.0",
            "_view_name": "StyleView",
            "description_width": ""
          }
        },
        "981a3c97b207409d92e13f33de85be5a": {
          "model_module": "@jupyter-widgets/base",
          "model_name": "LayoutModel",
          "model_module_version": "1.2.0",
          "state": {
            "_model_module": "@jupyter-widgets/base",
            "_model_module_version": "1.2.0",
            "_model_name": "LayoutModel",
            "_view_count": null,
            "_view_module": "@jupyter-widgets/base",
            "_view_module_version": "1.2.0",
            "_view_name": "LayoutView",
            "align_content": null,
            "align_items": null,
            "align_self": null,
            "border": null,
            "bottom": null,
            "display": null,
            "flex": null,
            "flex_flow": null,
            "grid_area": null,
            "grid_auto_columns": null,
            "grid_auto_flow": null,
            "grid_auto_rows": null,
            "grid_column": null,
            "grid_gap": null,
            "grid_row": null,
            "grid_template_areas": null,
            "grid_template_columns": null,
            "grid_template_rows": null,
            "height": null,
            "justify_content": null,
            "justify_items": null,
            "left": null,
            "margin": null,
            "max_height": null,
            "max_width": null,
            "min_height": null,
            "min_width": null,
            "object_fit": null,
            "object_position": null,
            "order": null,
            "overflow": null,
            "overflow_x": null,
            "overflow_y": null,
            "padding": null,
            "right": null,
            "top": null,
            "visibility": null,
            "width": null
          }
        },
        "b10194a1528247a29368cb3f7c8ebb23": {
          "model_module": "@jupyter-widgets/controls",
          "model_name": "ProgressStyleModel",
          "model_module_version": "1.5.0",
          "state": {
            "_model_module": "@jupyter-widgets/controls",
            "_model_module_version": "1.5.0",
            "_model_name": "ProgressStyleModel",
            "_view_count": null,
            "_view_module": "@jupyter-widgets/base",
            "_view_module_version": "1.2.0",
            "_view_name": "StyleView",
            "bar_color": null,
            "description_width": ""
          }
        },
        "ed534e5dfaf34d24942de054ff0c5f8d": {
          "model_module": "@jupyter-widgets/base",
          "model_name": "LayoutModel",
          "model_module_version": "1.2.0",
          "state": {
            "_model_module": "@jupyter-widgets/base",
            "_model_module_version": "1.2.0",
            "_model_name": "LayoutModel",
            "_view_count": null,
            "_view_module": "@jupyter-widgets/base",
            "_view_module_version": "1.2.0",
            "_view_name": "LayoutView",
            "align_content": null,
            "align_items": null,
            "align_self": null,
            "border": null,
            "bottom": null,
            "display": null,
            "flex": null,
            "flex_flow": null,
            "grid_area": null,
            "grid_auto_columns": null,
            "grid_auto_flow": null,
            "grid_auto_rows": null,
            "grid_column": null,
            "grid_gap": null,
            "grid_row": null,
            "grid_template_areas": null,
            "grid_template_columns": null,
            "grid_template_rows": null,
            "height": null,
            "justify_content": null,
            "justify_items": null,
            "left": null,
            "margin": null,
            "max_height": null,
            "max_width": null,
            "min_height": null,
            "min_width": null,
            "object_fit": null,
            "object_position": null,
            "order": null,
            "overflow": null,
            "overflow_x": null,
            "overflow_y": null,
            "padding": null,
            "right": null,
            "top": null,
            "visibility": null,
            "width": null
          }
        },
        "5424f9664a9a4f819c16015dc5325ec8": {
          "model_module": "@jupyter-widgets/controls",
          "model_name": "DescriptionStyleModel",
          "model_module_version": "1.5.0",
          "state": {
            "_model_module": "@jupyter-widgets/controls",
            "_model_module_version": "1.5.0",
            "_model_name": "DescriptionStyleModel",
            "_view_count": null,
            "_view_module": "@jupyter-widgets/base",
            "_view_module_version": "1.2.0",
            "_view_name": "StyleView",
            "description_width": ""
          }
        },
        "7cbaebc666d649dfad0a299a52de5f29": {
          "model_module": "@jupyter-widgets/controls",
          "model_name": "HBoxModel",
          "model_module_version": "1.5.0",
          "state": {
            "_dom_classes": [],
            "_model_module": "@jupyter-widgets/controls",
            "_model_module_version": "1.5.0",
            "_model_name": "HBoxModel",
            "_view_count": null,
            "_view_module": "@jupyter-widgets/controls",
            "_view_module_version": "1.5.0",
            "_view_name": "HBoxView",
            "box_style": "",
            "children": [
              "IPY_MODEL_57ac499c7b0d4a92923fba1e34af56ac",
              "IPY_MODEL_0f8fb7f2258d4aff831393d37f2e941b",
              "IPY_MODEL_3f6820826764431ca22c8ac76c4b0905"
            ],
            "layout": "IPY_MODEL_6cea9c1b103f47c4bedb009b0e4cb51f"
          }
        },
        "57ac499c7b0d4a92923fba1e34af56ac": {
          "model_module": "@jupyter-widgets/controls",
          "model_name": "HTMLModel",
          "model_module_version": "1.5.0",
          "state": {
            "_dom_classes": [],
            "_model_module": "@jupyter-widgets/controls",
            "_model_module_version": "1.5.0",
            "_model_name": "HTMLModel",
            "_view_count": null,
            "_view_module": "@jupyter-widgets/controls",
            "_view_module_version": "1.5.0",
            "_view_name": "HTMLView",
            "description": "",
            "description_tooltip": null,
            "layout": "IPY_MODEL_0c153acd3671433383196a73aed8d687",
            "placeholder": "​",
            "style": "IPY_MODEL_67b9427926e44b4c96ff8b210bed0d77",
            "value": "Batches: 100%"
          }
        },
        "0f8fb7f2258d4aff831393d37f2e941b": {
          "model_module": "@jupyter-widgets/controls",
          "model_name": "FloatProgressModel",
          "model_module_version": "1.5.0",
          "state": {
            "_dom_classes": [],
            "_model_module": "@jupyter-widgets/controls",
            "_model_module_version": "1.5.0",
            "_model_name": "FloatProgressModel",
            "_view_count": null,
            "_view_module": "@jupyter-widgets/controls",
            "_view_module_version": "1.5.0",
            "_view_name": "ProgressView",
            "bar_style": "success",
            "description": "",
            "description_tooltip": null,
            "layout": "IPY_MODEL_ce4c957d660540919304690cf73f5d4a",
            "max": 374,
            "min": 0,
            "orientation": "horizontal",
            "style": "IPY_MODEL_113d5f8fe1924cd8b5527c3c70f2f4cf",
            "value": 374
          }
        },
        "3f6820826764431ca22c8ac76c4b0905": {
          "model_module": "@jupyter-widgets/controls",
          "model_name": "HTMLModel",
          "model_module_version": "1.5.0",
          "state": {
            "_dom_classes": [],
            "_model_module": "@jupyter-widgets/controls",
            "_model_module_version": "1.5.0",
            "_model_name": "HTMLModel",
            "_view_count": null,
            "_view_module": "@jupyter-widgets/controls",
            "_view_module_version": "1.5.0",
            "_view_name": "HTMLView",
            "description": "",
            "description_tooltip": null,
            "layout": "IPY_MODEL_0fb61d4873a04a91a0b748819270f28d",
            "placeholder": "​",
            "style": "IPY_MODEL_a2eef22096f14a8fae150e53842fc3e9",
            "value": " 374/374 [01:21&lt;00:00, 18.26it/s]"
          }
        },
        "6cea9c1b103f47c4bedb009b0e4cb51f": {
          "model_module": "@jupyter-widgets/base",
          "model_name": "LayoutModel",
          "model_module_version": "1.2.0",
          "state": {
            "_model_module": "@jupyter-widgets/base",
            "_model_module_version": "1.2.0",
            "_model_name": "LayoutModel",
            "_view_count": null,
            "_view_module": "@jupyter-widgets/base",
            "_view_module_version": "1.2.0",
            "_view_name": "LayoutView",
            "align_content": null,
            "align_items": null,
            "align_self": null,
            "border": null,
            "bottom": null,
            "display": null,
            "flex": null,
            "flex_flow": null,
            "grid_area": null,
            "grid_auto_columns": null,
            "grid_auto_flow": null,
            "grid_auto_rows": null,
            "grid_column": null,
            "grid_gap": null,
            "grid_row": null,
            "grid_template_areas": null,
            "grid_template_columns": null,
            "grid_template_rows": null,
            "height": null,
            "justify_content": null,
            "justify_items": null,
            "left": null,
            "margin": null,
            "max_height": null,
            "max_width": null,
            "min_height": null,
            "min_width": null,
            "object_fit": null,
            "object_position": null,
            "order": null,
            "overflow": null,
            "overflow_x": null,
            "overflow_y": null,
            "padding": null,
            "right": null,
            "top": null,
            "visibility": null,
            "width": null
          }
        },
        "0c153acd3671433383196a73aed8d687": {
          "model_module": "@jupyter-widgets/base",
          "model_name": "LayoutModel",
          "model_module_version": "1.2.0",
          "state": {
            "_model_module": "@jupyter-widgets/base",
            "_model_module_version": "1.2.0",
            "_model_name": "LayoutModel",
            "_view_count": null,
            "_view_module": "@jupyter-widgets/base",
            "_view_module_version": "1.2.0",
            "_view_name": "LayoutView",
            "align_content": null,
            "align_items": null,
            "align_self": null,
            "border": null,
            "bottom": null,
            "display": null,
            "flex": null,
            "flex_flow": null,
            "grid_area": null,
            "grid_auto_columns": null,
            "grid_auto_flow": null,
            "grid_auto_rows": null,
            "grid_column": null,
            "grid_gap": null,
            "grid_row": null,
            "grid_template_areas": null,
            "grid_template_columns": null,
            "grid_template_rows": null,
            "height": null,
            "justify_content": null,
            "justify_items": null,
            "left": null,
            "margin": null,
            "max_height": null,
            "max_width": null,
            "min_height": null,
            "min_width": null,
            "object_fit": null,
            "object_position": null,
            "order": null,
            "overflow": null,
            "overflow_x": null,
            "overflow_y": null,
            "padding": null,
            "right": null,
            "top": null,
            "visibility": null,
            "width": null
          }
        },
        "67b9427926e44b4c96ff8b210bed0d77": {
          "model_module": "@jupyter-widgets/controls",
          "model_name": "DescriptionStyleModel",
          "model_module_version": "1.5.0",
          "state": {
            "_model_module": "@jupyter-widgets/controls",
            "_model_module_version": "1.5.0",
            "_model_name": "DescriptionStyleModel",
            "_view_count": null,
            "_view_module": "@jupyter-widgets/base",
            "_view_module_version": "1.2.0",
            "_view_name": "StyleView",
            "description_width": ""
          }
        },
        "ce4c957d660540919304690cf73f5d4a": {
          "model_module": "@jupyter-widgets/base",
          "model_name": "LayoutModel",
          "model_module_version": "1.2.0",
          "state": {
            "_model_module": "@jupyter-widgets/base",
            "_model_module_version": "1.2.0",
            "_model_name": "LayoutModel",
            "_view_count": null,
            "_view_module": "@jupyter-widgets/base",
            "_view_module_version": "1.2.0",
            "_view_name": "LayoutView",
            "align_content": null,
            "align_items": null,
            "align_self": null,
            "border": null,
            "bottom": null,
            "display": null,
            "flex": null,
            "flex_flow": null,
            "grid_area": null,
            "grid_auto_columns": null,
            "grid_auto_flow": null,
            "grid_auto_rows": null,
            "grid_column": null,
            "grid_gap": null,
            "grid_row": null,
            "grid_template_areas": null,
            "grid_template_columns": null,
            "grid_template_rows": null,
            "height": null,
            "justify_content": null,
            "justify_items": null,
            "left": null,
            "margin": null,
            "max_height": null,
            "max_width": null,
            "min_height": null,
            "min_width": null,
            "object_fit": null,
            "object_position": null,
            "order": null,
            "overflow": null,
            "overflow_x": null,
            "overflow_y": null,
            "padding": null,
            "right": null,
            "top": null,
            "visibility": null,
            "width": null
          }
        },
        "113d5f8fe1924cd8b5527c3c70f2f4cf": {
          "model_module": "@jupyter-widgets/controls",
          "model_name": "ProgressStyleModel",
          "model_module_version": "1.5.0",
          "state": {
            "_model_module": "@jupyter-widgets/controls",
            "_model_module_version": "1.5.0",
            "_model_name": "ProgressStyleModel",
            "_view_count": null,
            "_view_module": "@jupyter-widgets/base",
            "_view_module_version": "1.2.0",
            "_view_name": "StyleView",
            "bar_color": null,
            "description_width": ""
          }
        },
        "0fb61d4873a04a91a0b748819270f28d": {
          "model_module": "@jupyter-widgets/base",
          "model_name": "LayoutModel",
          "model_module_version": "1.2.0",
          "state": {
            "_model_module": "@jupyter-widgets/base",
            "_model_module_version": "1.2.0",
            "_model_name": "LayoutModel",
            "_view_count": null,
            "_view_module": "@jupyter-widgets/base",
            "_view_module_version": "1.2.0",
            "_view_name": "LayoutView",
            "align_content": null,
            "align_items": null,
            "align_self": null,
            "border": null,
            "bottom": null,
            "display": null,
            "flex": null,
            "flex_flow": null,
            "grid_area": null,
            "grid_auto_columns": null,
            "grid_auto_flow": null,
            "grid_auto_rows": null,
            "grid_column": null,
            "grid_gap": null,
            "grid_row": null,
            "grid_template_areas": null,
            "grid_template_columns": null,
            "grid_template_rows": null,
            "height": null,
            "justify_content": null,
            "justify_items": null,
            "left": null,
            "margin": null,
            "max_height": null,
            "max_width": null,
            "min_height": null,
            "min_width": null,
            "object_fit": null,
            "object_position": null,
            "order": null,
            "overflow": null,
            "overflow_x": null,
            "overflow_y": null,
            "padding": null,
            "right": null,
            "top": null,
            "visibility": null,
            "width": null
          }
        },
        "a2eef22096f14a8fae150e53842fc3e9": {
          "model_module": "@jupyter-widgets/controls",
          "model_name": "DescriptionStyleModel",
          "model_module_version": "1.5.0",
          "state": {
            "_model_module": "@jupyter-widgets/controls",
            "_model_module_version": "1.5.0",
            "_model_name": "DescriptionStyleModel",
            "_view_count": null,
            "_view_module": "@jupyter-widgets/base",
            "_view_module_version": "1.2.0",
            "_view_name": "StyleView",
            "description_width": ""
          }
        },
        "78708d9036744bb6a4587aa72a350cca": {
          "model_module": "@jupyter-widgets/controls",
          "model_name": "HBoxModel",
          "model_module_version": "1.5.0",
          "state": {
            "_dom_classes": [],
            "_model_module": "@jupyter-widgets/controls",
            "_model_module_version": "1.5.0",
            "_model_name": "HBoxModel",
            "_view_count": null,
            "_view_module": "@jupyter-widgets/controls",
            "_view_module_version": "1.5.0",
            "_view_name": "HBoxView",
            "box_style": "",
            "children": [
              "IPY_MODEL_24081334b72345b886d8c6e964b1d702",
              "IPY_MODEL_d81b41c3c2e84c41aa05b88f759335dc",
              "IPY_MODEL_cbcea2f4573648ea906d0049e716f7b5"
            ],
            "layout": "IPY_MODEL_3d7a7cd3b95a42a1bc2a89f4501928fb"
          }
        },
        "24081334b72345b886d8c6e964b1d702": {
          "model_module": "@jupyter-widgets/controls",
          "model_name": "HTMLModel",
          "model_module_version": "1.5.0",
          "state": {
            "_dom_classes": [],
            "_model_module": "@jupyter-widgets/controls",
            "_model_module_version": "1.5.0",
            "_model_name": "HTMLModel",
            "_view_count": null,
            "_view_module": "@jupyter-widgets/controls",
            "_view_module_version": "1.5.0",
            "_view_name": "HTMLView",
            "description": "",
            "description_tooltip": null,
            "layout": "IPY_MODEL_a52c75ba633e49a19e1cedab83b78b70",
            "placeholder": "​",
            "style": "IPY_MODEL_21da618ebd1c4a609162f372974fb4bc",
            "value": "Epochs completed: 100%| "
          }
        },
        "d81b41c3c2e84c41aa05b88f759335dc": {
          "model_module": "@jupyter-widgets/controls",
          "model_name": "FloatProgressModel",
          "model_module_version": "1.5.0",
          "state": {
            "_dom_classes": [],
            "_model_module": "@jupyter-widgets/controls",
            "_model_module_version": "1.5.0",
            "_model_name": "FloatProgressModel",
            "_view_count": null,
            "_view_module": "@jupyter-widgets/controls",
            "_view_module_version": "1.5.0",
            "_view_name": "ProgressView",
            "bar_style": "success",
            "description": "",
            "description_tooltip": null,
            "layout": "IPY_MODEL_7c8a1e29dd564fdb8f43a1c633a1414f",
            "max": 200,
            "min": 0,
            "orientation": "horizontal",
            "style": "IPY_MODEL_889f9b5e86204ad4b96fe7bab29f1409",
            "value": 200
          }
        },
        "cbcea2f4573648ea906d0049e716f7b5": {
          "model_module": "@jupyter-widgets/controls",
          "model_name": "HTMLModel",
          "model_module_version": "1.5.0",
          "state": {
            "_dom_classes": [],
            "_model_module": "@jupyter-widgets/controls",
            "_model_module_version": "1.5.0",
            "_model_name": "HTMLModel",
            "_view_count": null,
            "_view_module": "@jupyter-widgets/controls",
            "_view_module_version": "1.5.0",
            "_view_name": "HTMLView",
            "description": "",
            "description_tooltip": null,
            "layout": "IPY_MODEL_a12dbaac24d9491dbabddbcd9a05dce8",
            "placeholder": "​",
            "style": "IPY_MODEL_0f6561b6f31548b694abc7a358239420",
            "value": " 200/200 [00:47]"
          }
        },
        "3d7a7cd3b95a42a1bc2a89f4501928fb": {
          "model_module": "@jupyter-widgets/base",
          "model_name": "LayoutModel",
          "model_module_version": "1.2.0",
          "state": {
            "_model_module": "@jupyter-widgets/base",
            "_model_module_version": "1.2.0",
            "_model_name": "LayoutModel",
            "_view_count": null,
            "_view_module": "@jupyter-widgets/base",
            "_view_module_version": "1.2.0",
            "_view_name": "LayoutView",
            "align_content": null,
            "align_items": null,
            "align_self": null,
            "border": null,
            "bottom": null,
            "display": null,
            "flex": null,
            "flex_flow": null,
            "grid_area": null,
            "grid_auto_columns": null,
            "grid_auto_flow": null,
            "grid_auto_rows": null,
            "grid_column": null,
            "grid_gap": null,
            "grid_row": null,
            "grid_template_areas": null,
            "grid_template_columns": null,
            "grid_template_rows": null,
            "height": null,
            "justify_content": null,
            "justify_items": null,
            "left": null,
            "margin": null,
            "max_height": null,
            "max_width": null,
            "min_height": null,
            "min_width": null,
            "object_fit": null,
            "object_position": null,
            "order": null,
            "overflow": null,
            "overflow_x": null,
            "overflow_y": null,
            "padding": null,
            "right": null,
            "top": null,
            "visibility": null,
            "width": null
          }
        },
        "a52c75ba633e49a19e1cedab83b78b70": {
          "model_module": "@jupyter-widgets/base",
          "model_name": "LayoutModel",
          "model_module_version": "1.2.0",
          "state": {
            "_model_module": "@jupyter-widgets/base",
            "_model_module_version": "1.2.0",
            "_model_name": "LayoutModel",
            "_view_count": null,
            "_view_module": "@jupyter-widgets/base",
            "_view_module_version": "1.2.0",
            "_view_name": "LayoutView",
            "align_content": null,
            "align_items": null,
            "align_self": null,
            "border": null,
            "bottom": null,
            "display": null,
            "flex": null,
            "flex_flow": null,
            "grid_area": null,
            "grid_auto_columns": null,
            "grid_auto_flow": null,
            "grid_auto_rows": null,
            "grid_column": null,
            "grid_gap": null,
            "grid_row": null,
            "grid_template_areas": null,
            "grid_template_columns": null,
            "grid_template_rows": null,
            "height": null,
            "justify_content": null,
            "justify_items": null,
            "left": null,
            "margin": null,
            "max_height": null,
            "max_width": null,
            "min_height": null,
            "min_width": null,
            "object_fit": null,
            "object_position": null,
            "order": null,
            "overflow": null,
            "overflow_x": null,
            "overflow_y": null,
            "padding": null,
            "right": null,
            "top": null,
            "visibility": null,
            "width": null
          }
        },
        "21da618ebd1c4a609162f372974fb4bc": {
          "model_module": "@jupyter-widgets/controls",
          "model_name": "DescriptionStyleModel",
          "model_module_version": "1.5.0",
          "state": {
            "_model_module": "@jupyter-widgets/controls",
            "_model_module_version": "1.5.0",
            "_model_name": "DescriptionStyleModel",
            "_view_count": null,
            "_view_module": "@jupyter-widgets/base",
            "_view_module_version": "1.2.0",
            "_view_name": "StyleView",
            "description_width": ""
          }
        },
        "7c8a1e29dd564fdb8f43a1c633a1414f": {
          "model_module": "@jupyter-widgets/base",
          "model_name": "LayoutModel",
          "model_module_version": "1.2.0",
          "state": {
            "_model_module": "@jupyter-widgets/base",
            "_model_module_version": "1.2.0",
            "_model_name": "LayoutModel",
            "_view_count": null,
            "_view_module": "@jupyter-widgets/base",
            "_view_module_version": "1.2.0",
            "_view_name": "LayoutView",
            "align_content": null,
            "align_items": null,
            "align_self": null,
            "border": null,
            "bottom": null,
            "display": null,
            "flex": null,
            "flex_flow": null,
            "grid_area": null,
            "grid_auto_columns": null,
            "grid_auto_flow": null,
            "grid_auto_rows": null,
            "grid_column": null,
            "grid_gap": null,
            "grid_row": null,
            "grid_template_areas": null,
            "grid_template_columns": null,
            "grid_template_rows": null,
            "height": null,
            "justify_content": null,
            "justify_items": null,
            "left": null,
            "margin": null,
            "max_height": null,
            "max_width": null,
            "min_height": null,
            "min_width": null,
            "object_fit": null,
            "object_position": null,
            "order": null,
            "overflow": null,
            "overflow_x": null,
            "overflow_y": null,
            "padding": null,
            "right": null,
            "top": null,
            "visibility": null,
            "width": null
          }
        },
        "889f9b5e86204ad4b96fe7bab29f1409": {
          "model_module": "@jupyter-widgets/controls",
          "model_name": "ProgressStyleModel",
          "model_module_version": "1.5.0",
          "state": {
            "_model_module": "@jupyter-widgets/controls",
            "_model_module_version": "1.5.0",
            "_model_name": "ProgressStyleModel",
            "_view_count": null,
            "_view_module": "@jupyter-widgets/base",
            "_view_module_version": "1.2.0",
            "_view_name": "StyleView",
            "bar_color": null,
            "description_width": ""
          }
        },
        "a12dbaac24d9491dbabddbcd9a05dce8": {
          "model_module": "@jupyter-widgets/base",
          "model_name": "LayoutModel",
          "model_module_version": "1.2.0",
          "state": {
            "_model_module": "@jupyter-widgets/base",
            "_model_module_version": "1.2.0",
            "_model_name": "LayoutModel",
            "_view_count": null,
            "_view_module": "@jupyter-widgets/base",
            "_view_module_version": "1.2.0",
            "_view_name": "LayoutView",
            "align_content": null,
            "align_items": null,
            "align_self": null,
            "border": null,
            "bottom": null,
            "display": null,
            "flex": null,
            "flex_flow": null,
            "grid_area": null,
            "grid_auto_columns": null,
            "grid_auto_flow": null,
            "grid_auto_rows": null,
            "grid_column": null,
            "grid_gap": null,
            "grid_row": null,
            "grid_template_areas": null,
            "grid_template_columns": null,
            "grid_template_rows": null,
            "height": null,
            "justify_content": null,
            "justify_items": null,
            "left": null,
            "margin": null,
            "max_height": null,
            "max_width": null,
            "min_height": null,
            "min_width": null,
            "object_fit": null,
            "object_position": null,
            "order": null,
            "overflow": null,
            "overflow_x": null,
            "overflow_y": null,
            "padding": null,
            "right": null,
            "top": null,
            "visibility": null,
            "width": null
          }
        },
        "0f6561b6f31548b694abc7a358239420": {
          "model_module": "@jupyter-widgets/controls",
          "model_name": "DescriptionStyleModel",
          "model_module_version": "1.5.0",
          "state": {
            "_model_module": "@jupyter-widgets/controls",
            "_model_module_version": "1.5.0",
            "_model_name": "DescriptionStyleModel",
            "_view_count": null,
            "_view_module": "@jupyter-widgets/base",
            "_view_module_version": "1.2.0",
            "_view_name": "StyleView",
            "description_width": ""
          }
        }
      }
    }
  },
  "nbformat": 4,
  "nbformat_minor": 0
}