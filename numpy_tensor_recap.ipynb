{
  "nbformat": 4,
  "nbformat_minor": 0,
  "metadata": {
    "colab": {
      "name": "numpy_tensor_recap.ipynb",
      "provenance": [],
      "collapsed_sections": [],
      "authorship_tag": "ABX9TyPaNzje0Zz7sS+dXycKTXra",
      "include_colab_link": true
    },
    "kernelspec": {
      "name": "python3",
      "display_name": "Python 3"
    },
    "language_info": {
      "name": "python"
    }
  },
  "cells": [
    {
      "cell_type": "markdown",
      "metadata": {
        "id": "view-in-github",
        "colab_type": "text"
      },
      "source": [
        "<a href=\"https://colab.research.google.com/github/jpcompartir/dl_notebooks/blob/main/numpy_tensor_recap.ipynb\" target=\"_parent\"><img src=\"https://colab.research.google.com/assets/colab-badge.svg\" alt=\"Open In Colab\"/></a>"
      ]
    },
    {
      "cell_type": "code",
      "execution_count": 1,
      "metadata": {
        "id": "uMCimU190KHM"
      },
      "outputs": [],
      "source": [
        "import numpy as np"
      ]
    },
    {
      "cell_type": "markdown",
      "source": [
        "Recapping Numpy - scalars, vectors, matrices and tensors."
      ],
      "metadata": {
        "id": "Kg72YF_X0b32"
      }
    },
    {
      "cell_type": "code",
      "source": [
        "x = np.array(12)\n",
        "x"
      ],
      "metadata": {
        "colab": {
          "base_uri": "https://localhost:8080/"
        },
        "id": "RsX7LBd00M2Q",
        "outputId": "d6753f20-4a0a-4763-a6c2-f4ad5daec063"
      },
      "execution_count": 2,
      "outputs": [
        {
          "output_type": "execute_result",
          "data": {
            "text/plain": [
              "array(12)"
            ]
          },
          "metadata": {},
          "execution_count": 2
        }
      ]
    },
    {
      "cell_type": "code",
      "source": [
        "x.ndim #Recall scalars are rank-0 tensors or single digits"
      ],
      "metadata": {
        "colab": {
          "base_uri": "https://localhost:8080/"
        },
        "id": "oNukyprb0SjE",
        "outputId": "84a8e6d6-b76a-4dfa-ce05-831fde188855"
      },
      "execution_count": 3,
      "outputs": [
        {
          "output_type": "execute_result",
          "data": {
            "text/plain": [
              "0"
            ]
          },
          "metadata": {},
          "execution_count": 3
        }
      ]
    },
    {
      "cell_type": "code",
      "source": [
        "x = np.array([12, 3, 6, 14, 7]) #A vector or rank-1 tensor - a list, or array, of scalars\n",
        "x, x.ndim, x.dtype, x.shape #shape is (5,)"
      ],
      "metadata": {
        "colab": {
          "base_uri": "https://localhost:8080/"
        },
        "id": "A-fzwN2S0XoO",
        "outputId": "323f19f8-e5ed-4801-b694-c4b63e84b518"
      },
      "execution_count": 9,
      "outputs": [
        {
          "output_type": "execute_result",
          "data": {
            "text/plain": [
              "(array([12,  3,  6, 14,  7]), 1, dtype('int64'), (5,))"
            ]
          },
          "metadata": {},
          "execution_count": 9
        }
      ]
    },
    {
      "cell_type": "code",
      "source": [
        "x = np.array([\n",
        "              [5, 78, 2, 34, 0],\n",
        "             [6, 79, 3, 35, 1],\n",
        "             [7, 80, 4, 36, 2]\n",
        "])#Now we create a matrix, a rank-2 tensor or an array of vectors, "
      ],
      "metadata": {
        "id": "Y_GSSgnb0W5b"
      },
      "execution_count": 11,
      "outputs": []
    },
    {
      "cell_type": "code",
      "source": [
        "x, x.ndim, x.dtype, x.shape "
      ],
      "metadata": {
        "colab": {
          "base_uri": "https://localhost:8080/"
        },
        "id": "GHRP9Chq1QMH",
        "outputId": "de3afd22-6470-4b25-9d62-2bae0e25a966"
      },
      "execution_count": 12,
      "outputs": [
        {
          "output_type": "execute_result",
          "data": {
            "text/plain": [
              "(array([[ 5, 78,  2, 34,  0],\n",
              "        [ 6, 79,  3, 35,  1],\n",
              "        [ 7, 80,  4, 36,  2]]), 2, dtype('int64'), (3, 5))"
            ]
          },
          "metadata": {},
          "execution_count": 12
        }
      ]
    },
    {
      "cell_type": "code",
      "source": [
        "x = np.array([[\n",
        "               [x],\n",
        "               [x],\n",
        "               [x]\n",
        "]]) #Now we create a rank-3 tensor, or 3-d tensor. We could pack rank-3 tensors into an array and create a rank-4 tensor, and so on and so forth"
      ],
      "metadata": {
        "id": "mQUI6MjV1ua5"
      },
      "execution_count": 13,
      "outputs": []
    },
    {
      "cell_type": "markdown",
      "source": [
        "The key descriptions of a tensor are its: \n",
        "number of axes, or rank, a rank-3 tensor has 3 axes, and a matrix has two axes. \n",
        "shape - a tuple of integers that describes how many dimensions the tensor has along each axis. So vectors have no shape - they have no axes, a vector has a shape with a single element, which itself has a dimension (the number of scalars in the vector)\n",
        "\n",
        "data type - float16, float32, float64, unit8 and so on. Can also be strings."
      ],
      "metadata": {
        "id": "z9eKtM7y2Te3"
      }
    },
    {
      "cell_type": "code",
      "source": [
        "from tensorflow.keras.datasets import mnist\n",
        "(train_images, train_labels), (test_images, test_labels) = mnist.load_data()"
      ],
      "metadata": {
        "colab": {
          "base_uri": "https://localhost:8080/"
        },
        "id": "TXMnPHIx1_UM",
        "outputId": "7493793a-0086-47d5-9d8b-bb6120466189"
      },
      "execution_count": 15,
      "outputs": [
        {
          "output_type": "stream",
          "name": "stdout",
          "text": [
            "Downloading data from https://storage.googleapis.com/tensorflow/tf-keras-datasets/mnist.npz\n",
            "11493376/11490434 [==============================] - 0s 0us/step\n",
            "11501568/11490434 [==============================] - 0s 0us/step\n"
          ]
        }
      ]
    },
    {
      "cell_type": "code",
      "source": [
        "train_images.ndim, train_images. shape #Rank-3 tensor, an array of 60,000 matrices of 28 x 28 integers. Each matrix is a grayscale image of coefficients between 0 and 255"
      ],
      "metadata": {
        "colab": {
          "base_uri": "https://localhost:8080/"
        },
        "id": "SliJE4h528DB",
        "outputId": "aaf66424-138b-4e87-975e-69c132aba80d"
      },
      "execution_count": 17,
      "outputs": [
        {
          "output_type": "execute_result",
          "data": {
            "text/plain": [
              "(3, (60000, 28, 28))"
            ]
          },
          "metadata": {},
          "execution_count": 17
        }
      ]
    },
    {
      "cell_type": "code",
      "source": [
        "train_images.dtype"
      ],
      "metadata": {
        "colab": {
          "base_uri": "https://localhost:8080/"
        },
        "id": "4zGctfS03Hv4",
        "outputId": "71dcf177-cbce-4f86-9d99-1f80ad021761"
      },
      "execution_count": 19,
      "outputs": [
        {
          "output_type": "execute_result",
          "data": {
            "text/plain": [
              "dtype('uint8')"
            ]
          },
          "metadata": {},
          "execution_count": 19
        }
      ]
    },
    {
      "cell_type": "code",
      "source": [
        "import matplotlib.pyplot as plt\n",
        "digit = train_images[4]\n",
        "plt.imshow(digit, cmap=plt.cm.binary)\n",
        "plt.show()"
      ],
      "metadata": {
        "colab": {
          "base_uri": "https://localhost:8080/",
          "height": 265
        },
        "id": "dQQcLjHY3Dt1",
        "outputId": "eec6da68-24fb-4346-daad-9a2887f547f7"
      },
      "execution_count": 20,
      "outputs": [
        {
          "output_type": "display_data",
          "data": {
            "text/plain": [
              "<Figure size 432x288 with 1 Axes>"
            ],
            "image/png": "[encoded data removed]"
          },
          "metadata": {
            "needs_background": "light"
          }
        }
      ]
    },
    {
      "cell_type": "markdown",
      "source": [
        "Now we we need to look into how to manipulate tensors, we'll start with slicing. \n"
      ],
      "metadata": {
        "id": "5hjxhuyj3pq_"
      }
    },
    {
      "cell_type": "code",
      "source": [
        "my_slice = train_images[10:100] #(== [10:100, :, :]) == [10:100, 0:28, 0:28] == [10:100, :28, :28]\n",
        "my_slice.shape"
      ],
      "metadata": {
        "colab": {
          "base_uri": "https://localhost:8080/"
        },
        "id": "rWYVbDyQ3l42",
        "outputId": "a5dd42e5-f565-44f5-e122-5c4361b61d8d"
      },
      "execution_count": 21,
      "outputs": [
        {
          "output_type": "execute_result",
          "data": {
            "text/plain": [
              "(90, 28, 28)"
            ]
          },
          "metadata": {},
          "execution_count": 21
        }
      ]
    },
    {
      "cell_type": "markdown",
      "source": [
        "Can also slice just the 14x14 pixels in the bottom right corner of each image:"
      ],
      "metadata": {
        "id": "4brq1YhM4WlE"
      }
    },
    {
      "cell_type": "code",
      "source": [
        "my_slice = train_images[:, 14:, 14:]"
      ],
      "metadata": {
        "id": "060S0Yky35gR"
      },
      "execution_count": 22,
      "outputs": []
    },
    {
      "cell_type": "code",
      "source": [
        "plt.imshow(my_slice[0], cmap = plt.cm.binary)"
      ],
      "metadata": {
        "colab": {
          "base_uri": "https://localhost:8080/",
          "height": 283
        },
        "id": "FLTGEzvb4MaB",
        "outputId": "6788e20d-633e-4b7d-90cd-f677af14136c"
      },
      "execution_count": 25,
      "outputs": [
        {
          "output_type": "execute_result",
          "data": {
            "text/plain": [
              "<matplotlib.image.AxesImage at 0x7f8d5c89d510>"
            ]
          },
          "metadata": {},
          "execution_count": 25
        },
        {
          "output_type": "display_data",
          "data": {
            "text/plain": [
              "<Figure size 432x288 with 1 Axes>"
            ],
            "image/png": "[encoded data removed]"
          },
          "metadata": {
            "needs_background": "light"
          }
        }
      ]
    },
    {
      "cell_type": "markdown",
      "source": [
        "Or the pixels in the centre:"
      ],
      "metadata": {
        "id": "hQPbY9MX4hRw"
      }
    },
    {
      "cell_type": "code",
      "source": [
        "my_slice = train_images[:, 7:-7, 7:-7] #Recalling that in python negative slices start counting backwards from the end."
      ],
      "metadata": {
        "id": "SanBRdd64NFx"
      },
      "execution_count": 26,
      "outputs": []
    },
    {
      "cell_type": "code",
      "source": [
        "plt.imshow(my_slice[0], cmap = plt.cm.binary)"
      ],
      "metadata": {
        "colab": {
          "base_uri": "https://localhost:8080/",
          "height": 283
        },
        "id": "DAGXojKL4r6b",
        "outputId": "ec359e86-743f-4e01-9a48-cc3ca74e2163"
      },
      "execution_count": 27,
      "outputs": [
        {
          "output_type": "execute_result",
          "data": {
            "text/plain": [
              "<matplotlib.image.AxesImage at 0x7f8d5c801f50>"
            ]
          },
          "metadata": {},
          "execution_count": 27
        },
        {
          "output_type": "display_data",
          "data": {
            "text/plain": [
              "<Figure size 432x288 with 1 Axes>"
            ],
            "image/png": "[encoded data removed]"
          },
          "metadata": {
            "needs_background": "light"
          }
        }
      ]
    },
    {
      "cell_type": "markdown",
      "source": [
        "Generally in tensorflow, and thus Keras, the first axis of a tensor is the samples axis - it tells us how many samples there are in the tensor. Due to memory-constraints, and the nature of parallelisation when using GPUs, we usually batch our data."
      ],
      "metadata": {
        "id": "Uza8I2US492B"
      }
    },
    {
      "cell_type": "code",
      "source": [
        "batch_1 = train_images[:128]\n",
        "batch_2 = train_images[128:256]"
      ],
      "metadata": {
        "id": "xbr6F6aP4w3V"
      },
      "execution_count": 28,
      "outputs": []
    },
    {
      "cell_type": "markdown",
      "source": [
        "But we wouldn't want to type out batch_3...batch_4...batch_5, so we use a bit of maths to determine the nth batch."
      ],
      "metadata": {
        "id": "cS9PvVnP5WWl"
      }
    },
    {
      "cell_type": "code",
      "source": [
        "n = 3\n",
        "batch_n = train_images[128 * n:128 * (n+1)]"
      ],
      "metadata": {
        "id": "BAVo69lO5VZL"
      },
      "execution_count": 29,
      "outputs": []
    },
    {
      "cell_type": "code",
      "source": [
        "np.arange(3,128) + (128*(n+1))"
      ],
      "metadata": {
        "colab": {
          "base_uri": "https://localhost:8080/"
        },
        "id": "mamHQerI6eZO",
        "outputId": "9ad1b0f3-be6a-4174-9632-e7f0f4491584"
      },
      "execution_count": 59,
      "outputs": [
        {
          "output_type": "execute_result",
          "data": {
            "text/plain": [
              "array([515, 516, 517, 518, 519, 520, 521, 522, 523, 524, 525, 526, 527,\n",
              "       528, 529, 530, 531, 532, 533, 534, 535, 536, 537, 538, 539, 540,\n",
              "       541, 542, 543, 544, 545, 546, 547, 548, 549, 550, 551, 552, 553,\n",
              "       554, 555, 556, 557, 558, 559, 560, 561, 562, 563, 564, 565, 566,\n",
              "       567, 568, 569, 570, 571, 572, 573, 574, 575, 576, 577, 578, 579,\n",
              "       580, 581, 582, 583, 584, 585, 586, 587, 588, 589, 590, 591, 592,\n",
              "       593, 594, 595, 596, 597, 598, 599, 600, 601, 602, 603, 604, 605,\n",
              "       606, 607, 608, 609, 610, 611, 612, 613, 614, 615, 616, 617, 618,\n",
              "       619, 620, 621, 622, 623, 624, 625, 626, 627, 628, 629, 630, 631,\n",
              "       632, 633, 634, 635, 636, 637, 638, 639])"
            ]
          },
          "metadata": {},
          "execution_count": 59
        }
      ]
    },
    {
      "cell_type": "markdown",
      "source": [
        "Making tensors more concrete with common examples:\n",
        "vector data Rank-2 tensors of shape (samples, features) - i.e. data frame\n",
        "timeseries data Rank-3 tensors of shape (samples, timesteps, features)\n",
        "images - Rank-4 tensors of shape (samples, height, width, channels)\n",
        "video - Rank-5 tensors of shape (samples, frames, height, width, channels\n",
        "\n"
      ],
      "metadata": {
        "id": "qtOgJcqj6Bsy"
      }
    },
    {
      "cell_type": "markdown",
      "source": [
        "Tensor Operations\n",
        "\n",
        "In a previous MNIST implementation we stacked two denser neural layers on top of one another. We used a RELU activation in one, and a softmax in the second. The first layer takes a matrix as an input and returns another matrix - a new representation. Where W is a matrix, and b is a vector, the transformation is an affine transformation, the matrix multiplication of the input and W, plus b. As matrices are rank-2 tensors, we can see this as a tensor * tensor multiplication, followed by a matrix + vector addition of the matrix which is output by the tensor multiplciation."
      ],
      "metadata": {
        "id": "lY_NE1UU70Uo"
      }
    },
    {
      "cell_type": "markdown",
      "source": [
        "The relu operation and the addition are element-wise operations - they are applied independently to each entry of the tensors. They can be imlemented naively as for-loops or they can be vectorised (they're open to parallelisation)"
      ],
      "metadata": {
        "id": "JkzsDtYq99J1"
      }
    },
    {
      "cell_type": "code",
      "source": [
        "def naive_relu(x):\n",
        "  assert(len(x.shape) ==2)\n",
        "  x = x.copy()\n",
        "  for i in range(x.shape[0]):\n",
        "    for j in range(x.shape[1]):\n",
        "      x[i, j] = max(x[i, j], 0)\n",
        "  return x"
      ],
      "metadata": {
        "id": "xQzt79nB742X"
      },
      "execution_count": 66,
      "outputs": []
    },
    {
      "cell_type": "code",
      "source": [
        "def naive_vector_addition(x, y ):\n",
        "  assert(len(x.shape)== 2)\n",
        "  assert(x.shape == y.shape)\n",
        "  x = x.copy()\n",
        "  for i in range(x.shape[0]):\n",
        "    for j in range(x.shape[1]):\n",
        "      x[i, j] += y[i, j]\n",
        "  return x"
      ],
      "metadata": {
        "id": "qOhs2p2p-MN6"
      },
      "execution_count": 72,
      "outputs": []
    },
    {
      "cell_type": "code",
      "source": [
        "x = np.array([\n",
        "              [2, 3, 1,2],\n",
        "              [3, 2, 1, 2]\n",
        "])\n",
        "y = x"
      ],
      "metadata": {
        "id": "BmQDx7dx-eo4"
      },
      "execution_count": 70,
      "outputs": []
    },
    {
      "cell_type": "code",
      "source": [
        "z = naive_vector_addition(x,y)\n"
      ],
      "metadata": {
        "colab": {
          "base_uri": "https://localhost:8080/"
        },
        "id": "dLFChENt-qpg",
        "outputId": "4ec84a9e-13a9-45b7-dfe0-a7259b78d5ad"
      },
      "execution_count": 76,
      "outputs": [
        {
          "output_type": "execute_result",
          "data": {
            "text/plain": [
              "array([[4, 6, 2, 4],\n",
              "       [6, 4, 2, 4]])"
            ]
          },
          "metadata": {},
          "execution_count": 76
        }
      ]
    },
    {
      "cell_type": "code",
      "source": [
        "naive_relu(x *-1)"
      ],
      "metadata": {
        "colab": {
          "base_uri": "https://localhost:8080/"
        },
        "id": "qa0etIw4-sJh",
        "outputId": "d0d021c7-f582-4921-eab3-5967d2ab0155"
      },
      "execution_count": 79,
      "outputs": [
        {
          "output_type": "execute_result",
          "data": {
            "text/plain": [
              "array([[0, 0, 0, 0],\n",
              "       [0, 0, 0, 0]])"
            ]
          },
          "metadata": {},
          "execution_count": 79
        }
      ]
    },
    {
      "cell_type": "markdown",
      "source": [
        "Or using the already-optimised numpy:"
      ],
      "metadata": {
        "id": "ReWIzgsL_nb7"
      }
    },
    {
      "cell_type": "code",
      "source": [
        "z = x + y\n",
        "z = np.maximum(z, 0.)"
      ],
      "metadata": {
        "id": "3LFeFd5Q_e7d"
      },
      "execution_count": 82,
      "outputs": []
    },
    {
      "cell_type": "code",
      "source": [
        "z"
      ],
      "metadata": {
        "colab": {
          "base_uri": "https://localhost:8080/"
        },
        "id": "5sycsFIy_rKV",
        "outputId": "e4dfb9c1-e8ae-4414-e2a3-dd5c8b2e17ab"
      },
      "execution_count": 83,
      "outputs": [
        {
          "output_type": "execute_result",
          "data": {
            "text/plain": [
              "array([[4., 6., 2., 4.],\n",
              "       [6., 4., 2., 4.]])"
            ]
          },
          "metadata": {},
          "execution_count": 83
        }
      ]
    },
    {
      "cell_type": "markdown",
      "source": [
        "This shows what the reluactivation function does, either we take the maximum value of each element, or if that maximum value is below 0, we take 0. Now we can compare the speed of our naive implementations and their numpy counterparts"
      ],
      "metadata": {
        "id": "7tnlBD8H_03z"
      }
    },
    {
      "cell_type": "code",
      "source": [
        "import time"
      ],
      "metadata": {
        "id": "aExdqlBx_v25"
      },
      "execution_count": 84,
      "outputs": []
    },
    {
      "cell_type": "code",
      "source": [
        "x = np.random.random((20, 100))\n",
        "y = np.random.random((20, 100))"
      ],
      "metadata": {
        "id": "v_Iyf3fMAE8u"
      },
      "execution_count": 87,
      "outputs": []
    },
    {
      "cell_type": "code",
      "source": [
        "t0 = time.time()\n",
        "for _ in range(1000):\n",
        "  z = x + y\n",
        "  z = np.maximum(z, 0.)\n",
        "print(\"Took: {0: .2f} s\".format(time.time()-t0))"
      ],
      "metadata": {
        "colab": {
          "base_uri": "https://localhost:8080/"
        },
        "id": "NsdThynaAJ4s",
        "outputId": "a2680f7b-f4a3-45ca-94ce-83bf6e125076"
      },
      "execution_count": 89,
      "outputs": [
        {
          "output_type": "stream",
          "name": "stdout",
          "text": [
            "Took:  0.01 s\n"
          ]
        }
      ]
    },
    {
      "cell_type": "code",
      "source": [
        "t0 = time.time()\n",
        "for _ in range(1000):\n",
        "  z = naive_vector_addition(x, y)\n",
        "  z = naive_relu(z)\n",
        "print(\"Took: {0: .2f} s\".format(time.time()- t0))"
      ],
      "metadata": {
        "colab": {
          "base_uri": "https://localhost:8080/"
        },
        "id": "DILW2HdpAYBc",
        "outputId": "0a924eda-3302-458e-a407-291835fe3355"
      },
      "execution_count": 90,
      "outputs": [
        {
          "output_type": "stream",
          "name": "stdout",
          "text": [
            "Took:  2.80 s\n"
          ]
        }
      ]
    },
    {
      "cell_type": "markdown",
      "source": [
        "About 280* faster than the naive implementation! Next we'll look at broadcasting - which is an important means of extending tensor/matrix operations to objects which don't naturally have the same shape/dimensions, or shapes/dimensions that are compatible according to the rules of tensor/matrix operations, i.e. mxn matrix can only multiply with nx? matrices"
      ],
      "metadata": {
        "id": "IRsZIHirAyj5"
      }
    },
    {
      "cell_type": "code",
      "source": [
        ""
      ],
      "metadata": {
        "id": "uS8K2xT_Avhv"
      },
      "execution_count": null,
      "outputs": []
    }
  ]
}