{
 "cells": [
  {
   "cell_type": "markdown",
   "metadata": {},
   "source": [
    "DOES COLAB"
   ]
  },
  {
   "cell_type": "code",
   "execution_count": 9,
   "metadata": {},
   "outputs": [],
   "source": [
    "import tensorflow as tf\n",
    "import tensorflow.keras as keras\n",
    "import pandas as pd\n",
    "import numpy as np\n",
    "import sklearn\n",
    "from sklearn.preprocessing import LabelEncoder\n"
   ]
  },
  {
   "cell_type": "code",
   "execution_count": 4,
   "metadata": {},
   "outputs": [],
   "source": [
    "titanic = pd.read_csv(\"~/data/titanic_dataset.csv\")"
   ]
  },
  {
   "cell_type": "code",
   "execution_count": 5,
   "metadata": {},
   "outputs": [
    {
     "data": {
      "text/plain": [
       "<bound method NDFrame.head of      Class     Sex    Age Survived\n",
       "0      3rd    Male  Child       No\n",
       "1      3rd    Male  Child       No\n",
       "2      3rd    Male  Child       No\n",
       "3      3rd    Male  Child       No\n",
       "4      3rd    Male  Child       No\n",
       "...    ...     ...    ...      ...\n",
       "2196  Crew  Female  Adult      Yes\n",
       "2197  Crew  Female  Adult      Yes\n",
       "2198  Crew  Female  Adult      Yes\n",
       "2199  Crew  Female  Adult      Yes\n",
       "2200  Crew  Female  Adult      Yes\n",
       "\n",
       "[2201 rows x 4 columns]>"
      ]
     },
     "execution_count": 5,
     "metadata": {},
     "output_type": "execute_result"
    }
   ],
   "source": [
    "titanic.head"
   ]
  },
  {
   "cell_type": "code",
   "execution_count": 6,
   "metadata": {},
   "outputs": [
    {
     "data": {
      "text/plain": [
       "class       0\n",
       "sex         0\n",
       "age         0\n",
       "survived    0\n",
       "dtype: int64"
      ]
     },
     "execution_count": 6,
     "metadata": {},
     "output_type": "execute_result"
    }
   ],
   "source": [
    "#Titanic column names to lower case:\n",
    "titanic.columns = titanic.columns.str.lower()\n",
    "titanic.columns\n",
    "\n",
    "#Count missing values in each column:\n",
    "titanic.isnull().sum()"
   ]
  },
  {
   "cell_type": "code",
   "execution_count": 10,
   "metadata": {},
   "outputs": [],
   "source": [
    "#convert to numeric values:\n",
    "le = LabelEncoder()\n",
    "\n",
    "titanic[\"sex\"] = le.fit_transform(titanic[\"sex\"])\n",
    "titanic[\"class\"] = le.fit_transform(titanic[\"class\"])\n",
    "titanic[\"survived\"] = le.fit_transform(titanic[\"survived\"])\n",
    "titanic[\"age\"] = le.fit_transform(titanic[\"age\"])\n"
   ]
  },
  {
   "cell_type": "code",
   "execution_count": 11,
   "metadata": {},
   "outputs": [
    {
     "data": {
      "text/plain": [
       "(1409, 1409)"
      ]
     },
     "execution_count": 11,
     "metadata": {},
     "output_type": "execute_result"
    }
   ],
   "source": [
    "#Split titanic into test train validation:\n",
    "titanic_train = titanic.sample(frac=0.8, random_state=0)\n",
    "titanic_test = titanic.drop(titanic_train.index)\n",
    "titanic_train, titanic_val = titanic_train.sample(frac=0.8, random_state=0), titanic_train.drop(titanic_train.index)\n",
    "\n",
    "#Split into features and labels:\n",
    "titanic_train_features = titanic_train.copy()\n",
    "titanic_train_labels = titanic_train_features.pop('survived')\n",
    "titanic_val_features = titanic_val.copy()\n",
    "titanic_val_labels = titanic_val_features.pop('survived')\n",
    "titanic_test_features = titanic_test.copy()\n",
    "titanic_test_labels = titanic_test_features.pop('survived')\n",
    "\n",
    "len(titanic_train_features), len(titanic_train_labels)"
   ]
  },
  {
   "cell_type": "code",
   "execution_count": 12,
   "metadata": {},
   "outputs": [
    {
     "name": "stdout",
     "output_type": "stream",
     "text": [
      "Metal device set to: Apple M1\n",
      "\n",
      "systemMemory: 16.00 GB\n",
      "maxCacheSize: 5.33 GB\n",
      "\n"
     ]
    },
    {
     "name": "stderr",
     "output_type": "stream",
     "text": [
      "2022-09-17 09:17:17.846795: I tensorflow/core/common_runtime/pluggable_device/pluggable_device_factory.cc:305] Could not identify NUMA node of platform GPU ID 0, defaulting to 0. Your kernel may not have been built with NUMA support.\n",
      "2022-09-17 09:17:17.846913: I tensorflow/core/common_runtime/pluggable_device/pluggable_device_factory.cc:271] Created TensorFlow device (/job:localhost/replica:0/task:0/device:GPU:0 with 0 MB memory) -> physical PluggableDevice (device: 0, name: METAL, pci bus id: <undefined>)\n"
     ]
    }
   ],
   "source": [
    "#Instantiate a deep sequential model:\n",
    "model = keras.Sequential([\n",
    "    keras.layers.Dense(512, activation= \"relu\", input_shape=(1409, 3)),\n",
    "    keras.layers.Dropout(0.2),\n",
    "    keras.layers.Dense(256, activation= \"relu\"),\n",
    "    keras.layers.Dropout(0.2),\n",
    "    keras.layers.Dense(64, activation= \"relu\"),\n",
    "    keras.layers.Dense(1, activation=\"sigmoid\")\n",
    "])"
   ]
  },
  {
   "cell_type": "code",
   "execution_count": 13,
   "metadata": {},
   "outputs": [
    {
     "name": "stdout",
     "output_type": "stream",
     "text": [
      "Model: \"sequential\"\n",
      "_________________________________________________________________\n",
      "Layer (type)                 Output Shape              Param #   \n",
      "=================================================================\n",
      "dense (Dense)                (None, 1409, 512)         2048      \n",
      "_________________________________________________________________\n",
      "dropout (Dropout)            (None, 1409, 512)         0         \n",
      "_________________________________________________________________\n",
      "dense_1 (Dense)              (None, 1409, 256)         131328    \n",
      "_________________________________________________________________\n",
      "dropout_1 (Dropout)          (None, 1409, 256)         0         \n",
      "_________________________________________________________________\n",
      "dense_2 (Dense)              (None, 1409, 64)          16448     \n",
      "_________________________________________________________________\n",
      "dense_3 (Dense)              (None, 1409, 1)           65        \n",
      "=================================================================\n",
      "Total params: 149,889\n",
      "Trainable params: 149,889\n",
      "Non-trainable params: 0\n",
      "_________________________________________________________________\n"
     ]
    }
   ],
   "source": [
    "model.summary()"
   ]
  },
  {
   "cell_type": "code",
   "execution_count": 14,
   "metadata": {},
   "outputs": [],
   "source": [
    "#Compile the model:\n",
    "model.compile(optimizer= \"adam\",\n",
    "                loss='binary_crossentropy',\n",
    "                metrics=['accuracy'])\n"
   ]
  },
  {
   "cell_type": "code",
   "execution_count": 15,
   "metadata": {},
   "outputs": [
    {
     "name": "stdout",
     "output_type": "stream",
     "text": [
      "Epoch 1/50\n",
      "WARNING:tensorflow:Model was constructed with shape (None, 1409, 3) for input KerasTensor(type_spec=TensorSpec(shape=(None, 1409, 3), dtype=tf.float32, name='dense_input'), name='dense_input', description=\"created by layer 'dense_input'\"), but it was called on an input with incompatible shape (None, 3).\n",
      "WARNING:tensorflow:Model was constructed with shape (None, 1409, 3) for input KerasTensor(type_spec=TensorSpec(shape=(None, 1409, 3), dtype=tf.float32, name='dense_input'), name='dense_input', description=\"created by layer 'dense_input'\"), but it was called on an input with incompatible shape (None, 3).\n"
     ]
    },
    {
     "name": "stderr",
     "output_type": "stream",
     "text": [
      "2022-09-17 09:17:38.772666: I tensorflow/compiler/mlir/mlir_graph_optimization_pass.cc:176] None of the MLIR Optimization Passes are enabled (registered 2)\n",
      "2022-09-17 09:17:38.772907: W tensorflow/core/platform/profile_utils/cpu_utils.cc:128] Failed to get CPU frequency: 0 Hz\n",
      "2022-09-17 09:17:38.934443: I tensorflow/core/grappler/optimizers/custom_graph_optimizer_registry.cc:112] Plugin optimizer for device_type GPU is enabled.\n"
     ]
    },
    {
     "name": "stdout",
     "output_type": "stream",
     "text": [
      "23/23 [==============================] - 5s 76ms/step - loss: 0.5760 - accuracy: 0.7097\n",
      "Epoch 2/50\n",
      "23/23 [==============================] - 0s 8ms/step - loss: 0.5411 - accuracy: 0.7700\n",
      "Epoch 3/50\n",
      "23/23 [==============================] - 0s 8ms/step - loss: 0.5281 - accuracy: 0.7800\n",
      "Epoch 4/50\n",
      "23/23 [==============================] - 0s 8ms/step - loss: 0.5019 - accuracy: 0.7842\n",
      "Epoch 5/50\n",
      "23/23 [==============================] - 0s 9ms/step - loss: 0.4913 - accuracy: 0.7878\n",
      "Epoch 6/50\n",
      "23/23 [==============================] - 0s 8ms/step - loss: 0.4926 - accuracy: 0.7835\n",
      "Epoch 7/50\n",
      "23/23 [==============================] - 0s 8ms/step - loss: 0.4840 - accuracy: 0.7786\n",
      "Epoch 8/50\n",
      "23/23 [==============================] - 0s 8ms/step - loss: 0.4861 - accuracy: 0.7828\n",
      "Epoch 9/50\n",
      "23/23 [==============================] - 0s 8ms/step - loss: 0.5228 - accuracy: 0.7757\n",
      "Epoch 10/50\n",
      "23/23 [==============================] - 0s 8ms/step - loss: 0.4840 - accuracy: 0.7857\n",
      "Epoch 11/50\n",
      "23/23 [==============================] - 0s 8ms/step - loss: 0.4807 - accuracy: 0.7906\n",
      "Epoch 12/50\n",
      "23/23 [==============================] - 0s 8ms/step - loss: 0.4836 - accuracy: 0.7857\n",
      "Epoch 13/50\n",
      "23/23 [==============================] - 0s 8ms/step - loss: 0.4755 - accuracy: 0.7892\n",
      "Epoch 14/50\n",
      "23/23 [==============================] - 0s 8ms/step - loss: 0.4762 - accuracy: 0.7899\n",
      "Epoch 15/50\n",
      "23/23 [==============================] - 0s 8ms/step - loss: 0.4790 - accuracy: 0.7892\n",
      "Epoch 16/50\n",
      "23/23 [==============================] - 0s 8ms/step - loss: 0.4823 - accuracy: 0.7892\n",
      "Epoch 17/50\n",
      "23/23 [==============================] - 0s 8ms/step - loss: 0.4961 - accuracy: 0.7906\n",
      "Epoch 18/50\n",
      "23/23 [==============================] - 0s 8ms/step - loss: 0.4827 - accuracy: 0.7913\n",
      "Epoch 19/50\n",
      "23/23 [==============================] - 0s 8ms/step - loss: 0.4794 - accuracy: 0.7885\n",
      "Epoch 20/50\n",
      "23/23 [==============================] - 0s 8ms/step - loss: 0.4814 - accuracy: 0.7921\n",
      "Epoch 21/50\n",
      "23/23 [==============================] - 0s 7ms/step - loss: 0.4794 - accuracy: 0.7906\n",
      "Epoch 22/50\n",
      "23/23 [==============================] - 0s 8ms/step - loss: 0.4782 - accuracy: 0.7864\n",
      "Epoch 23/50\n",
      "23/23 [==============================] - 0s 8ms/step - loss: 0.4770 - accuracy: 0.7913\n",
      "Epoch 24/50\n",
      "23/23 [==============================] - 0s 8ms/step - loss: 0.4797 - accuracy: 0.7885\n",
      "Epoch 25/50\n",
      "23/23 [==============================] - 0s 8ms/step - loss: 0.4802 - accuracy: 0.7878\n",
      "Epoch 26/50\n",
      "23/23 [==============================] - 0s 9ms/step - loss: 0.4793 - accuracy: 0.7850\n",
      "Epoch 27/50\n",
      "23/23 [==============================] - 0s 8ms/step - loss: 0.4762 - accuracy: 0.7850\n",
      "Epoch 28/50\n",
      "23/23 [==============================] - 0s 8ms/step - loss: 0.4813 - accuracy: 0.7878\n",
      "Epoch 29/50\n",
      "23/23 [==============================] - 0s 8ms/step - loss: 0.4769 - accuracy: 0.7928\n",
      "Epoch 30/50\n",
      "23/23 [==============================] - 0s 8ms/step - loss: 0.4751 - accuracy: 0.7949\n",
      "Epoch 31/50\n",
      "23/23 [==============================] - 0s 8ms/step - loss: 0.4739 - accuracy: 0.7921\n",
      "Epoch 32/50\n",
      "23/23 [==============================] - 0s 8ms/step - loss: 0.4733 - accuracy: 0.7906\n",
      "Epoch 33/50\n",
      "23/23 [==============================] - 0s 8ms/step - loss: 0.4746 - accuracy: 0.7928\n",
      "Epoch 34/50\n",
      "23/23 [==============================] - 0s 8ms/step - loss: 0.4761 - accuracy: 0.7970\n",
      "Epoch 35/50\n",
      "23/23 [==============================] - 0s 8ms/step - loss: 0.4756 - accuracy: 0.7963\n",
      "Epoch 36/50\n",
      "23/23 [==============================] - 0s 14ms/step - loss: 0.4741 - accuracy: 0.7963\n",
      "Epoch 37/50\n",
      "23/23 [==============================] - 0s 11ms/step - loss: 0.4769 - accuracy: 0.7928\n",
      "Epoch 38/50\n",
      "23/23 [==============================] - 0s 8ms/step - loss: 0.4755 - accuracy: 0.7942\n",
      "Epoch 39/50\n",
      "23/23 [==============================] - 0s 7ms/step - loss: 0.4744 - accuracy: 0.7942\n",
      "Epoch 40/50\n",
      "23/23 [==============================] - 0s 8ms/step - loss: 0.4843 - accuracy: 0.7892\n",
      "Epoch 41/50\n",
      "23/23 [==============================] - 0s 7ms/step - loss: 0.5012 - accuracy: 0.7928\n",
      "Epoch 42/50\n",
      "23/23 [==============================] - 0s 7ms/step - loss: 0.4775 - accuracy: 0.7928\n",
      "Epoch 43/50\n",
      "23/23 [==============================] - 0s 7ms/step - loss: 0.4741 - accuracy: 0.7913\n",
      "Epoch 44/50\n",
      "23/23 [==============================] - 0s 8ms/step - loss: 0.4741 - accuracy: 0.7991\n",
      "Epoch 45/50\n",
      "23/23 [==============================] - 0s 7ms/step - loss: 0.4753 - accuracy: 0.7999\n",
      "Epoch 46/50\n",
      "23/23 [==============================] - 0s 8ms/step - loss: 0.4748 - accuracy: 0.7977\n",
      "Epoch 47/50\n",
      "23/23 [==============================] - 0s 8ms/step - loss: 0.4894 - accuracy: 0.7906\n",
      "Epoch 48/50\n",
      "23/23 [==============================] - 0s 8ms/step - loss: 0.4767 - accuracy: 0.7928\n",
      "Epoch 49/50\n",
      "23/23 [==============================] - 0s 8ms/step - loss: 0.4741 - accuracy: 0.7942\n",
      "Epoch 50/50\n",
      "23/23 [==============================] - 0s 8ms/step - loss: 0.4774 - accuracy: 0.7899\n"
     ]
    }
   ],
   "source": [
    "#Send the model to GPU and train\n",
    "with tf.device('/gpu:0'):\n",
    "    model.fit(titanic_train_features, titanic_train_labels, epochs=50, batch_size=64, validation_data=(titanic_val_features, titanic_val_labels))\n"
   ]
  },
  {
   "cell_type": "code",
   "execution_count": 16,
   "metadata": {},
   "outputs": [
    {
     "name": "stdout",
     "output_type": "stream",
     "text": [
      "WARNING:tensorflow:Model was constructed with shape (None, 1409, 3) for input KerasTensor(type_spec=TensorSpec(shape=(None, 1409, 3), dtype=tf.float32, name='dense_input'), name='dense_input', description=\"created by layer 'dense_input'\"), but it was called on an input with incompatible shape (None, 3).\n",
      " 1/14 [=>............................] - ETA: 2s - loss: 0.2659 - accuracy: 1.0000"
     ]
    },
    {
     "name": "stderr",
     "output_type": "stream",
     "text": [
      "2022-09-17 09:17:56.452800: I tensorflow/core/grappler/optimizers/custom_graph_optimizer_registry.cc:112] Plugin optimizer for device_type GPU is enabled.\n"
     ]
    },
    {
     "name": "stdout",
     "output_type": "stream",
     "text": [
      "14/14 [==============================] - 0s 10ms/step - loss: 0.5055 - accuracy: 0.7750\n"
     ]
    },
    {
     "data": {
      "text/plain": [
       "[0.5054545402526855, 0.7750000357627869]"
      ]
     },
     "execution_count": 16,
     "metadata": {},
     "output_type": "execute_result"
    }
   ],
   "source": [
    "#Evaluate the model:\n",
    "model.evaluate(titanic_test_features, titanic_test_labels)\n"
   ]
  },
  {
   "cell_type": "code",
   "execution_count": null,
   "metadata": {},
   "outputs": [],
   "source": []
  }
 ],
 "metadata": {
  "kernelspec": {
   "display_name": "Python 3.10.4 ('tensorflow')",
   "language": "python",
   "name": "python3"
  },
  "language_info": {
   "codemirror_mode": {
    "name": "ipython",
    "version": 3
   },
   "file_extension": ".py",
   "mimetype": "text/x-python",
   "name": "python",
   "nbconvert_exporter": "python",
   "pygments_lexer": "ipython3",
   "version": "3.9.13"
  },
  "orig_nbformat": 4,
  "vscode": {
   "interpreter": {
    "hash": "40280729367b537aa62c128629206b57037fede8eb53669ebc5a303d7013a0cc"
   }
  }
 },
 "nbformat": 4,
 "nbformat_minor": 2
}
