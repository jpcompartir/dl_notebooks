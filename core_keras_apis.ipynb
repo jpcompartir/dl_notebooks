{
  "nbformat": 4,
  "nbformat_minor": 0,
  "metadata": {
    "colab": {
      "name": "core_keras_apis.ipynb",
      "provenance": [],
      "collapsed_sections": [],
      "authorship_tag": "ABX9TyPrtKACsTcrkEtPIaSLih4C",
      "include_colab_link": true
    },
    "kernelspec": {
      "name": "python3",
      "display_name": "Python 3"
    },
    "language_info": {
      "name": "python"
    },
    "accelerator": "GPU",
    "gpuClass": "standard"
  },
  "cells": [
    {
      "cell_type": "markdown",
      "metadata": {
        "id": "view-in-github",
        "colab_type": "text"
      },
      "source": [
        "<a href=\"https://colab.research.google.com/github/jpcompartir/dl_notebooks/blob/main/core_keras_apis.ipynb\" target=\"_parent\"><img src=\"https://colab.research.google.com/assets/colab-badge.svg\" alt=\"Open In Colab\"/></a>"
      ]
    },
    {
      "cell_type": "code",
      "execution_count": 1,
      "metadata": {
        "id": "jyP1B85hQqw8"
      },
      "outputs": [],
      "source": [
        "from tensorflow import keras \n",
        "import tensorflow as tf"
      ]
    },
    {
      "cell_type": "markdown",
      "source": [
        "Keras is built around the layer abstraction. A layer is an object that contains some weights (a DL model's knowledge) and a forward pass.\n",
        "\n",
        "Weights are typically defined in the build() method, but can also be defined in __init__(), the computation is defined in the call() method rather than __call__().\n",
        "\n",
        "Thinking back to our NaiveDense class from previous chapter, which comprised two Weights W and bias b, and the output was given by activation(dot( input, W) + b) - an affine transformation - implemented as follows:"
      ],
      "metadata": {
        "id": "_Bn-umZqFB_x"
      }
    },
    {
      "cell_type": "code",
      "source": [
        "class SimpleDense(keras.layers.Layer):\n",
        "    def __init__(self, units, activation = None ):\n",
        "        super(SimpleDense, self).__init__() \n",
        "        self.units = units\n",
        "        self.activation = activation\n",
        "    def build(self, input_shape):\n",
        "        input_dim = input_shape[-1]\n",
        "        self.W = self.add_weight(shape = (input_dim, self.units),\n",
        "                                 initializer = \"random_normal\")\n",
        "        self.b = self.add_weight(shape = (self.units,),\n",
        "                                 initializer = \"zeros\")\n",
        "    def call(self, inputs):\n",
        "        y = tf.matmul(inputs, self.W)+ self.b\n",
        "        if self.activation is not None:\n",
        "          y = self.activation(y)\n",
        "        return y"
      ],
      "metadata": {
        "id": "2fT5hxUuYQTM"
      },
      "execution_count": 2,
      "outputs": []
    },
    {
      "cell_type": "markdown",
      "source": [
        "Why did we define call instead of making use of __call__()? To create the state just in time.\n",
        "\n",
        "The SimpleDense class will now accept a tensorflow tensor (and other objcts) and an activation function. We can instantiate an object of the class as we'd call a function."
      ],
      "metadata": {
        "id": "bjz_Qdg6HkKd"
      }
    },
    {
      "cell_type": "code",
      "source": [
        "my_dense = SimpleDense(units=32, activation=tf.nn.relu)\n",
        "input_tensor = tf.ones(shape=(2, 784))\n",
        "output_tensor = my_dense(input_tensor)\n",
        "print(output_tensor.shape)\n"
      ],
      "metadata": {
        "colab": {
          "base_uri": "https://localhost:8080/"
        },
        "id": "BvB0iSRZThZ5",
        "outputId": "eb99a684-fed4-44a8-f58d-00db50aa7216"
      },
      "execution_count": 3,
      "outputs": [
        {
          "output_type": "stream",
          "name": "stdout",
          "text": [
            "(2, 32)\n"
          ]
        }
      ]
    },
    {
      "cell_type": "code",
      "source": [
        "input_tensor"
      ],
      "metadata": {
        "colab": {
          "base_uri": "https://localhost:8080/"
        },
        "id": "9yhAvX5HKdq6",
        "outputId": "6a8f3494-1142-48f6-cd12-ccc4c8de0fce"
      },
      "execution_count": null,
      "outputs": [
        {
          "output_type": "execute_result",
          "data": {
            "text/plain": [
              "<tf.Tensor: shape=(2, 784), dtype=float32, numpy=\n",
              "array([[1., 1., 1., ..., 1., 1., 1.],\n",
              "       [1., 1., 1., ..., 1., 1., 1.]], dtype=float32)>"
            ]
          },
          "metadata": {},
          "execution_count": 30
        }
      ]
    },
    {
      "cell_type": "markdown",
      "source": [
        "Let's see how Keras takes care of this through its layers & models abstraction."
      ],
      "metadata": {
        "id": "CIEcSIQQgEXt"
      }
    },
    {
      "cell_type": "code",
      "source": [
        "from tensorflow.keras import layers"
      ],
      "metadata": {
        "id": "85AJ3L9KTUN6"
      },
      "execution_count": 5,
      "outputs": []
    },
    {
      "cell_type": "code",
      "source": [
        "layer = layers.Dense(32, activation = \"relu\")"
      ],
      "metadata": {
        "id": "wkNJZ8WEH_7V"
      },
      "execution_count": 6,
      "outputs": []
    },
    {
      "cell_type": "code",
      "source": [
        "from tensorflow.keras import models"
      ],
      "metadata": {
        "id": "pP0rMNWLgJwY"
      },
      "execution_count": 7,
      "outputs": []
    },
    {
      "cell_type": "markdown",
      "source": [
        "Layers will infer the shape of their inputs, rather than have them stated as we did above."
      ],
      "metadata": {
        "id": "QNY7jKn3gYSy"
      }
    },
    {
      "cell_type": "code",
      "source": [
        "model = models.Sequential([\n",
        "                           layers.Dense(32, activation = \"relu\"),\n",
        "                           layers.Dense(32)\n",
        "])"
      ],
      "metadata": {
        "id": "p33fXAjigP_z"
      },
      "execution_count": 9,
      "outputs": []
    },
    {
      "cell_type": "markdown",
      "source": [
        "Recall the NaiveDense we implemented in an earlier notebook, in which we had to specify the input for each layer e.g."
      ],
      "metadata": {
        "id": "UVMcQlDOhBwX"
      }
    },
    {
      "cell_type": "code",
      "source": [
        "# model = NaiveSequntial([\n",
        "#                         NaiveDense(input_size = 784, output_size =32, activation = \"relu\"),\n",
        "#                         NaiveDense(input_size = 32, ... etc.)\n",
        "# ])"
      ],
      "metadata": {
        "id": "7bnxCLOngc1U"
      },
      "execution_count": null,
      "outputs": []
    },
    {
      "cell_type": "code",
      "source": [
        "model = keras.Sequential([\n",
        "                          SimpleDense(32, activation = \"relu\"),\n",
        "                          SimpleDense(64, activation = \"relu\"),\n",
        "                          SimpleDense(32, activation = \"relu\"),\n",
        "                          SimpleDense(10, activation = \"softmax\")\n",
        "])"
      ],
      "metadata": {
        "id": "x9iEvMslhTDJ"
      },
      "execution_count": 10,
      "outputs": []
    },
    {
      "cell_type": "markdown",
      "source": [
        "Recall in the Keras API we define our layers, then we compile our model with a loss function (representation of distance between prediction & label), optimiser (for automatic differentiation & back propagation) & metric (for validating our mdoel's performance):"
      ],
      "metadata": {
        "id": "ORIQll4uhxX-"
      }
    },
    {
      "cell_type": "code",
      "source": [
        "model = keras.Sequential([keras.layers.Dense(1)])\n"
      ],
      "metadata": {
        "id": "2ZcZgsgUhwvq"
      },
      "execution_count": 13,
      "outputs": []
    },
    {
      "cell_type": "code",
      "source": [
        "model.compile(optimizer = \"rmsprop\",\n",
        "              loss = \"mean_squared_erorr\",\n",
        "              metrics = [\"accuracy\"])"
      ],
      "metadata": {
        "id": "kjn4hqrqiROb"
      },
      "execution_count": 15,
      "outputs": []
    },
    {
      "cell_type": "markdown",
      "source": [
        "Identical is instantiating with objects:"
      ],
      "metadata": {
        "id": "OSIPlXNqim-b"
      }
    },
    {
      "cell_type": "code",
      "source": [
        "model.compile(optimizer = keras.optimizers.RMSprop(),\n",
        "              loss = keras.losses.MeanSquaredError(),\n",
        "              metrics = [keras.metrics.BinaryAccuracy()])"
      ],
      "metadata": {
        "id": "pSQvC9CSij6r"
      },
      "execution_count": 16,
      "outputs": []
    },
    {
      "cell_type": "markdown",
      "source": [
        "Why do that? In the case of passing in custom loss functions & metrics (when advanced user), or if we want to customise the objects by setting arguments e.g."
      ],
      "metadata": {
        "id": "S_VUr46Di14z"
      }
    },
    {
      "cell_type": "code",
      "source": [
        "# model.compile(optimizer = keras.optimizers.RMSpop(learning_rate = 1e-4),\n",
        "#               loss = my_custom_loss,\n",
        "#               metrics = [my_custom_metric_1, my_custom_metric_2]"
      ],
      "metadata": {
        "id": "R4_BOAhpizPM"
      },
      "execution_count": 17,
      "outputs": []
    },
    {
      "cell_type": "markdown",
      "source": [
        "Examples of optimizers: SGD, RMSpop, Adam, Adagrad etc. (RMSpop usually good enough, Adam very popular) etc. \n",
        "Losses: CategoricalCrossEntropy (classification), SparseCategoricalCrossEntropy, BinaryCrossEntropy, MeanSquaredError, KLDivergence, CosineSimilarity\n",
        "Metrics: CategoricalAccuracy, SparseCategoricalAccuracy, BinaryAccuracy, AUC, Precision, Recall etc.\n",
        "\n",
        "---\n",
        "\n",
        "After compiling the model, it's time to define the training loop, using the fit() method. In this case we'll specify the inputs, targets, epochs, batch_size"
      ],
      "metadata": {
        "id": "dSeXxr2MjWAy"
      }
    },
    {
      "cell_type": "code",
      "source": [
        "#Won't run as we haven't defined inputs, targets etc.\n",
        "history = model.fit(\n",
        "    inputs,\n",
        "    targets,\n",
        "    epochs =5,\n",
        "    batch_size = 128\n",
        ")"
      ],
      "metadata": {
        "colab": {
          "base_uri": "https://localhost:8080/",
          "height": 236
        },
        "id": "b3brB-GejO4d",
        "outputId": "a925b8fb-6101-42f7-ef34-8da8d4e1b4e6"
      },
      "execution_count": 18,
      "outputs": [
        {
          "output_type": "error",
          "ename": "NameError",
          "evalue": "ignored",
          "traceback": [
            "\u001b[0;31m---------------------------------------------------------------------------\u001b[0m",
            "\u001b[0;31mNameError\u001b[0m                                 Traceback (most recent call last)",
            "\u001b[0;32m<ipython-input-18-11493ece63b9>\u001b[0m in \u001b[0;36m<module>\u001b[0;34m()\u001b[0m\n\u001b[1;32m      1\u001b[0m history = model.fit(\n\u001b[0;32m----> 2\u001b[0;31m     \u001b[0minputs\u001b[0m\u001b[0;34m,\u001b[0m\u001b[0;34m\u001b[0m\u001b[0;34m\u001b[0m\u001b[0m\n\u001b[0m\u001b[1;32m      3\u001b[0m     \u001b[0mtargets\u001b[0m\u001b[0;34m,\u001b[0m\u001b[0;34m\u001b[0m\u001b[0;34m\u001b[0m\u001b[0m\n\u001b[1;32m      4\u001b[0m     \u001b[0mepochs\u001b[0m \u001b[0;34m=\u001b[0m\u001b[0;36m5\u001b[0m\u001b[0;34m,\u001b[0m\u001b[0;34m\u001b[0m\u001b[0;34m\u001b[0m\u001b[0m\n\u001b[1;32m      5\u001b[0m     \u001b[0mbatch_size\u001b[0m \u001b[0;34m=\u001b[0m \u001b[0;36m128\u001b[0m\u001b[0;34m\u001b[0m\u001b[0;34m\u001b[0m\u001b[0m\n",
            "\u001b[0;31mNameError\u001b[0m: name 'inputs' is not defined"
          ]
        }
      ]
    },
    {
      "cell_type": "code",
      "source": [
        ""
      ],
      "metadata": {
        "id": "OM5HZu9tr0HJ"
      },
      "execution_count": null,
      "outputs": []
    }
  ]
}