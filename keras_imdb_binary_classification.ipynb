{
  "nbformat": 4,
  "nbformat_minor": 0,
  "metadata": {
    "colab": {
      "name": "keras_imdb_binary_classification.ipynb",
      "provenance": [],
      "collapsed_sections": [],
      "machine_shape": "hm",
      "authorship_tag": "ABX9TyOepyqOevyBIm+AGZNGwx01",
      "include_colab_link": true
    },
    "kernelspec": {
      "name": "python3",
      "display_name": "Python 3"
    },
    "language_info": {
      "name": "python"
    },
    "accelerator": "GPU",
    "gpuClass": "standard"
  },
  "cells": [
    {
      "cell_type": "markdown",
      "metadata": {
        "id": "view-in-github",
        "colab_type": "text"
      },
      "source": [
        "<a href=\"https://colab.research.google.com/github/jpcompartir/dl_notebooks/blob/main/keras_imdb_binary_classification.ipynb\" target=\"_parent\"><img src=\"https://colab.research.google.com/assets/colab-badge.svg\" alt=\"Open In Colab\"/></a>"
      ]
    },
    {
      "cell_type": "code",
      "execution_count": 1,
      "metadata": {
        "id": "U60KNEpZb32a"
      },
      "outputs": [],
      "source": [
        "import tensorflow as tf\n",
        "from tensorflow.keras.datasets import imdb\n",
        "import numpy as np\n",
        "from tensorflow import keras\n",
        "from tensorflow.keras import layers\n",
        "import matplotlib.pyplot as plt\n"
      ]
    },
    {
      "cell_type": "markdown",
      "source": [
        "We'll be classifying the IMDB dataset (dejavu)according to whether the sentiment of each review is positive or negative - hence binary classification! We can get the imdb data using the familiar lod_data(), saving the outputs to two tuples, one tuple for train one tuple for test."
      ],
      "metadata": {
        "id": "YZdAZ5uJcYWY"
      }
    },
    {
      "cell_type": "code",
      "source": [
        "(train_data, train_labels), (test_data, test_labels) = imdb.load_data(num_words = 10000) #Keeping the top 10k most frequent words of the dataset's vocab. As opposed to the ~88.5k unique words in total (keeping the size of our data down)"
      ],
      "metadata": {
        "id": "5hwOlqyfcQRu",
        "outputId": "638ca5ad-fbbe-4f16-ec16-0d6a2d9cd136",
        "colab": {
          "base_uri": "https://localhost:8080/"
        }
      },
      "execution_count": 2,
      "outputs": [
        {
          "output_type": "stream",
          "name": "stdout",
          "text": [
            "Downloading data from https://storage.googleapis.com/tensorflow/tf-keras-datasets/imdb.npz\n",
            "17465344/17464789 [==============================] - 1s 0us/step\n",
            "17473536/17464789 [==============================] - 1s 0us/step\n"
          ]
        }
      ]
    },
    {
      "cell_type": "markdown",
      "source": [
        "Looking at the data we can see that each post is a series of integers - the text has come ready tokenised."
      ],
      "metadata": {
        "id": "trnxmg2pdSxs"
      }
    },
    {
      "cell_type": "code",
      "source": [
        "train_data[0], train_labels[0]"
      ],
      "metadata": {
        "colab": {
          "base_uri": "https://localhost:8080/"
        },
        "id": "x60rAXdVcXfs",
        "outputId": "70b1a279-dabe-4d10-89ad-dcba6b1c67bc"
      },
      "execution_count": 3,
      "outputs": [
        {
          "output_type": "execute_result",
          "data": {
            "text/plain": [
              "([1,\n",
              "  14,\n",
              "  22,\n",
              "  16,\n",
              "  43,\n",
              "  530,\n",
              "  973,\n",
              "  1622,\n",
              "  1385,\n",
              "  65,\n",
              "  458,\n",
              "  4468,\n",
              "  66,\n",
              "  3941,\n",
              "  4,\n",
              "  173,\n",
              "  36,\n",
              "  256,\n",
              "  5,\n",
              "  25,\n",
              "  100,\n",
              "  43,\n",
              "  838,\n",
              "  112,\n",
              "  50,\n",
              "  670,\n",
              "  2,\n",
              "  9,\n",
              "  35,\n",
              "  480,\n",
              "  284,\n",
              "  5,\n",
              "  150,\n",
              "  4,\n",
              "  172,\n",
              "  112,\n",
              "  167,\n",
              "  2,\n",
              "  336,\n",
              "  385,\n",
              "  39,\n",
              "  4,\n",
              "  172,\n",
              "  4536,\n",
              "  1111,\n",
              "  17,\n",
              "  546,\n",
              "  38,\n",
              "  13,\n",
              "  447,\n",
              "  4,\n",
              "  192,\n",
              "  50,\n",
              "  16,\n",
              "  6,\n",
              "  147,\n",
              "  2025,\n",
              "  19,\n",
              "  14,\n",
              "  22,\n",
              "  4,\n",
              "  1920,\n",
              "  4613,\n",
              "  469,\n",
              "  4,\n",
              "  22,\n",
              "  71,\n",
              "  87,\n",
              "  12,\n",
              "  16,\n",
              "  43,\n",
              "  530,\n",
              "  38,\n",
              "  76,\n",
              "  15,\n",
              "  13,\n",
              "  1247,\n",
              "  4,\n",
              "  22,\n",
              "  17,\n",
              "  515,\n",
              "  17,\n",
              "  12,\n",
              "  16,\n",
              "  626,\n",
              "  18,\n",
              "  2,\n",
              "  5,\n",
              "  62,\n",
              "  386,\n",
              "  12,\n",
              "  8,\n",
              "  316,\n",
              "  8,\n",
              "  106,\n",
              "  5,\n",
              "  4,\n",
              "  2223,\n",
              "  5244,\n",
              "  16,\n",
              "  480,\n",
              "  66,\n",
              "  3785,\n",
              "  33,\n",
              "  4,\n",
              "  130,\n",
              "  12,\n",
              "  16,\n",
              "  38,\n",
              "  619,\n",
              "  5,\n",
              "  25,\n",
              "  124,\n",
              "  51,\n",
              "  36,\n",
              "  135,\n",
              "  48,\n",
              "  25,\n",
              "  1415,\n",
              "  33,\n",
              "  6,\n",
              "  22,\n",
              "  12,\n",
              "  215,\n",
              "  28,\n",
              "  77,\n",
              "  52,\n",
              "  5,\n",
              "  14,\n",
              "  407,\n",
              "  16,\n",
              "  82,\n",
              "  2,\n",
              "  8,\n",
              "  4,\n",
              "  107,\n",
              "  117,\n",
              "  5952,\n",
              "  15,\n",
              "  256,\n",
              "  4,\n",
              "  2,\n",
              "  7,\n",
              "  3766,\n",
              "  5,\n",
              "  723,\n",
              "  36,\n",
              "  71,\n",
              "  43,\n",
              "  530,\n",
              "  476,\n",
              "  26,\n",
              "  400,\n",
              "  317,\n",
              "  46,\n",
              "  7,\n",
              "  4,\n",
              "  2,\n",
              "  1029,\n",
              "  13,\n",
              "  104,\n",
              "  88,\n",
              "  4,\n",
              "  381,\n",
              "  15,\n",
              "  297,\n",
              "  98,\n",
              "  32,\n",
              "  2071,\n",
              "  56,\n",
              "  26,\n",
              "  141,\n",
              "  6,\n",
              "  194,\n",
              "  7486,\n",
              "  18,\n",
              "  4,\n",
              "  226,\n",
              "  22,\n",
              "  21,\n",
              "  134,\n",
              "  476,\n",
              "  26,\n",
              "  480,\n",
              "  5,\n",
              "  144,\n",
              "  30,\n",
              "  5535,\n",
              "  18,\n",
              "  51,\n",
              "  36,\n",
              "  28,\n",
              "  224,\n",
              "  92,\n",
              "  25,\n",
              "  104,\n",
              "  4,\n",
              "  226,\n",
              "  65,\n",
              "  16,\n",
              "  38,\n",
              "  1334,\n",
              "  88,\n",
              "  12,\n",
              "  16,\n",
              "  283,\n",
              "  5,\n",
              "  16,\n",
              "  4472,\n",
              "  113,\n",
              "  103,\n",
              "  32,\n",
              "  15,\n",
              "  16,\n",
              "  5345,\n",
              "  19,\n",
              "  178,\n",
              "  32],\n",
              " 1)"
            ]
          },
          "metadata": {},
          "execution_count": 3
        }
      ]
    },
    {
      "cell_type": "markdown",
      "source": [
        "We can go from integers back to original tokens and original text(minus the lower frequency words which have been clipped from the dataset via the num_words = 10000 argument). Indices are off by 3 (i - 3) because tokens 0,1, and 2 are reserved indices for padding, start of sequence & unknown respectively."
      ],
      "metadata": {
        "id": "cO72XwChdawG"
      }
    },
    {
      "cell_type": "code",
      "source": [
        "word_index = imdb.get_word_index()\n",
        "reverse_word_index = dict([(value, key) for (key, value) in word_index.items()])\n",
        "decoded_review = \" \".join([reverse_word_index.get(i - 3, \"?\") for i in train_data[0]])"
      ],
      "metadata": {
        "id": "wfvs5bJGdXvI",
        "outputId": "5dfc3c15-722d-418b-ef2b-61907447fa44",
        "colab": {
          "base_uri": "https://localhost:8080/"
        }
      },
      "execution_count": 4,
      "outputs": [
        {
          "output_type": "stream",
          "name": "stdout",
          "text": [
            "Downloading data from https://storage.googleapis.com/tensorflow/tf-keras-datasets/imdb_word_index.json\n",
            "1646592/1641221 [==============================] - 0s 0us/step\n",
            "1654784/1641221 [==============================] - 0s 0us/step\n"
          ]
        }
      ]
    },
    {
      "cell_type": "markdown",
      "source": [
        "Define a quick function to do this for any review within the data, setting train_data as the default arg for data in case wanting to call the function many times etc."
      ],
      "metadata": {
        "id": "CLF7brUHgaBs"
      }
    },
    {
      "cell_type": "code",
      "source": [
        "def decode_review(index, data = train_data):\n",
        "  word_index = imdb.get_word_index()\n",
        "  reverse_word_index = dict([(value, key) for (key, value) in word_index.items()])\n",
        "  \n",
        "  return \" \".join([reverse_word_index.get(i - 3, \"?\") for i in data[index]])\n"
      ],
      "metadata": {
        "id": "7_Nmxjqde426"
      },
      "execution_count": 5,
      "outputs": []
    },
    {
      "cell_type": "code",
      "source": [
        "decode_review(2)"
      ],
      "metadata": {
        "colab": {
          "base_uri": "https://localhost:8080/",
          "height": 107
        },
        "id": "dNzzttehfeVR",
        "outputId": "7489629f-e5b4-48bf-ece2-72db85e015e6"
      },
      "execution_count": 6,
      "outputs": [
        {
          "output_type": "execute_result",
          "data": {
            "text/plain": [
              "\"? this has to be one of the worst films of the 1990s when my friends i were watching this film being the target audience it was aimed at we just sat watched the first half an hour with our jaws touching the floor at how bad it really was the rest of the time everyone else in the theatre just started talking to each other leaving or generally crying into their popcorn that they actually paid money they had ? working to watch this feeble excuse for a film it must have looked like a great idea on paper but on film it looks like no one in the film has a clue what is going on crap acting crap costumes i can't get across how ? this is to watch save yourself an hour a bit of your life\""
            ],
            "application/vnd.google.colaboratory.intrinsic+json": {
              "type": "string"
            }
          },
          "metadata": {},
          "execution_count": 6
        }
      ]
    },
    {
      "cell_type": "code",
      "source": [
        "len(train_data[0]), len(train_data[1])"
      ],
      "metadata": {
        "colab": {
          "base_uri": "https://localhost:8080/"
        },
        "id": "l8riD8Fngm7u",
        "outputId": "413864a5-73aa-4144-cf23-2a26b68e1ca0"
      },
      "execution_count": 7,
      "outputs": [
        {
          "output_type": "execute_result",
          "data": {
            "text/plain": [
              "(218, 189)"
            ]
          },
          "metadata": {},
          "execution_count": 7
        }
      ]
    },
    {
      "cell_type": "markdown",
      "source": [
        "We notice that the length of each list (each document is now a list of integers) differs, and we recall that neural networks (and more generally matrix multiplication) require inputs to be of a certain shape - in the case of neural networks we need tensors of precisely the same shape, so we need to either pad, or truncate our sequences so that they are of the same length. \n",
        "\n",
        "---\n",
        "We could either condense our lists (or vectors) into dense word embeddings, or sparsely encode with one-hot vectors i.e. if our document contains one word, which is tokenised to the integer 5, put a one in the 5th index position and put a 0 in the other 9999 index positions. For now we will one-hot encode each document by defining a vectorise_sequence function, which instatiates a tensor of the appropriate shape, then enumerates each list (gives each element an index position), maps over each index, and sequence in the enumerated list, then maps over each integer (j) in each sequence, and sets the ith jth index of the tensor as 1.\n"
      ],
      "metadata": {
        "id": "oh9jhr1SglZA"
      }
    },
    {
      "cell_type": "code",
      "source": [
        "def vectorise_sequences(sequences, dimension = 10000):\n",
        "  results = np.zeros((len(sequences), dimension))\n",
        "  for i, sequence in enumerate(sequences):\n",
        "    for j in sequence:\n",
        "      results[i, j] = 1\n",
        "  return results"
      ],
      "metadata": {
        "id": "b1MR3EgihY4C"
      },
      "execution_count": 8,
      "outputs": []
    },
    {
      "cell_type": "code",
      "source": [
        "x_train = vectorise_sequences(train_data)\n",
        "x_test = vectorise_sequences(test_data)"
      ],
      "metadata": {
        "id": "QiVHVrRZfgrt"
      },
      "execution_count": 9,
      "outputs": []
    },
    {
      "cell_type": "code",
      "source": [
        "y_train = np.asarray(train_labels).astype(\"float32\")\n",
        "y_test = np.asarray(test_labels).astype(\"float32\")"
      ],
      "metadata": {
        "id": "SFSaRogiiH2b"
      },
      "execution_count": 10,
      "outputs": []
    },
    {
      "cell_type": "markdown",
      "source": [
        " Now we have input data in the form of tensors and input labels as scalars \n",
        "(1, 0) ready for binary classification. We instantiate a model with two intermediate layers, each with 16 units and the relu activation function, followed by a classification head with a sigmoid (logisitic) activation function."
      ],
      "metadata": {
        "id": "VFIgaPMgjCkU"
      }
    },
    {
      "cell_type": "code",
      "source": [
        "model = keras.Sequential([\n",
        "                          layers.Dense(16, activation = \"relu\"),\n",
        "                          layers.Dense(16, activation = \"relu\"),\n",
        "                          layers.Dense(1, activation = \"sigmoid\")\n",
        "])"
      ],
      "metadata": {
        "id": "IHFi3zgdiwXv"
      },
      "execution_count": 11,
      "outputs": []
    },
    {
      "cell_type": "markdown",
      "source": [
        "Then compile the model with a loss function, an optimiser and some metrics. As we are attempting binary classification, we'll use an rmsprop optimiser, binary cross entropy loss function & accuracy as a metric (the labels are balanced so accuracy is fine here).\n",
        "\n"
      ],
      "metadata": {
        "id": "DqDl5TjXjxeZ"
      }
    },
    {
      "cell_type": "code",
      "source": [
        "model.compile(optimizer = \"rmsprop\",\n",
        "              loss = \"binary_crossentropy\",\n",
        "              metrics = [\"accuracy\"])"
      ],
      "metadata": {
        "id": "3mg4Z3mfpG11"
      },
      "execution_count": 12,
      "outputs": []
    },
    {
      "cell_type": "code",
      "source": [
        "(np.count_nonzero(train_labels == 0), np.count_nonzero(train_labels == 1)), (np.count_nonzero(test_labels == 0), np.count_nonzero(test_labels ==1))"
      ],
      "metadata": {
        "colab": {
          "base_uri": "https://localhost:8080/"
        },
        "id": "vnDYriILjmng",
        "outputId": "f3d95115-8527-43d0-f380-385f53d6159b"
      },
      "execution_count": 13,
      "outputs": [
        {
          "output_type": "execute_result",
          "data": {
            "text/plain": [
              "((12500, 12500), (12500, 12500))"
            ]
          },
          "metadata": {},
          "execution_count": 13
        }
      ]
    },
    {
      "cell_type": "markdown",
      "source": [
        "We have the test & training sets, but we also need a validation set that we validate the final model on."
      ],
      "metadata": {
        "id": "KIgnt59wnbAT"
      }
    },
    {
      "cell_type": "code",
      "source": [
        "x_val = x_train[:10000]\n",
        "partial_x_train = x_train[10000:]\n",
        "\n",
        "y_val = y_train[:10000]\n",
        "partial_y_train = y_train[10000:]"
      ],
      "metadata": {
        "id": "sv6N7GPCjm6n"
      },
      "execution_count": 14,
      "outputs": []
    },
    {
      "cell_type": "code",
      "source": [
        "history = model.fit(partial_x_train, partial_y_train,\n",
        "                    epochs = 20, batch_size = 512,\n",
        "                    validation_data = (x_val, y_val))"
      ],
      "metadata": {
        "colab": {
          "base_uri": "https://localhost:8080/"
        },
        "id": "lAr3E1bcoKmC",
        "outputId": "08934306-03f3-410a-f6f7-72580c3e86a8"
      },
      "execution_count": 15,
      "outputs": [
        {
          "output_type": "stream",
          "name": "stdout",
          "text": [
            "Epoch 1/20\n",
            "30/30 [==============================] - 5s 41ms/step - loss: 0.4981 - accuracy: 0.7895 - val_loss: 0.3722 - val_accuracy: 0.8729\n",
            "Epoch 2/20\n",
            "30/30 [==============================] - 1s 17ms/step - loss: 0.2953 - accuracy: 0.9065 - val_loss: 0.2973 - val_accuracy: 0.8896\n",
            "Epoch 3/20\n",
            "30/30 [==============================] - 1s 19ms/step - loss: 0.2172 - accuracy: 0.9270 - val_loss: 0.2854 - val_accuracy: 0.8870\n",
            "Epoch 4/20\n",
            "30/30 [==============================] - 0s 16ms/step - loss: 0.1712 - accuracy: 0.9432 - val_loss: 0.2970 - val_accuracy: 0.8814\n",
            "Epoch 5/20\n",
            "30/30 [==============================] - 1s 17ms/step - loss: 0.1353 - accuracy: 0.9588 - val_loss: 0.3084 - val_accuracy: 0.8789\n",
            "Epoch 6/20\n",
            "30/30 [==============================] - 1s 18ms/step - loss: 0.1149 - accuracy: 0.9643 - val_loss: 0.3295 - val_accuracy: 0.8727\n",
            "Epoch 7/20\n",
            "30/30 [==============================] - 0s 16ms/step - loss: 0.0917 - accuracy: 0.9751 - val_loss: 0.3086 - val_accuracy: 0.8836\n",
            "Epoch 8/20\n",
            "30/30 [==============================] - 1s 20ms/step - loss: 0.0764 - accuracy: 0.9803 - val_loss: 0.3374 - val_accuracy: 0.8816\n",
            "Epoch 9/20\n",
            "30/30 [==============================] - 1s 17ms/step - loss: 0.0597 - accuracy: 0.9853 - val_loss: 0.3714 - val_accuracy: 0.8774\n",
            "Epoch 10/20\n",
            "30/30 [==============================] - 1s 23ms/step - loss: 0.0465 - accuracy: 0.9892 - val_loss: 0.3805 - val_accuracy: 0.8791\n",
            "Epoch 11/20\n",
            "30/30 [==============================] - 1s 19ms/step - loss: 0.0378 - accuracy: 0.9925 - val_loss: 0.4095 - val_accuracy: 0.8776\n",
            "Epoch 12/20\n",
            "30/30 [==============================] - 0s 16ms/step - loss: 0.0284 - accuracy: 0.9951 - val_loss: 0.4420 - val_accuracy: 0.8768\n",
            "Epoch 13/20\n",
            "30/30 [==============================] - 1s 18ms/step - loss: 0.0260 - accuracy: 0.9949 - val_loss: 0.4681 - val_accuracy: 0.8764\n",
            "Epoch 14/20\n",
            "30/30 [==============================] - 0s 14ms/step - loss: 0.0137 - accuracy: 0.9991 - val_loss: 0.5134 - val_accuracy: 0.8718\n",
            "Epoch 15/20\n",
            "30/30 [==============================] - 0s 14ms/step - loss: 0.0159 - accuracy: 0.9974 - val_loss: 0.5406 - val_accuracy: 0.8721\n",
            "Epoch 16/20\n",
            "30/30 [==============================] - 0s 14ms/step - loss: 0.0110 - accuracy: 0.9987 - val_loss: 0.5611 - val_accuracy: 0.8703\n",
            "Epoch 17/20\n",
            "30/30 [==============================] - 0s 14ms/step - loss: 0.0056 - accuracy: 0.9998 - val_loss: 0.6959 - val_accuracy: 0.8535\n",
            "Epoch 18/20\n",
            "30/30 [==============================] - 0s 15ms/step - loss: 0.0072 - accuracy: 0.9990 - val_loss: 0.6413 - val_accuracy: 0.8643\n",
            "Epoch 19/20\n",
            "30/30 [==============================] - 0s 14ms/step - loss: 0.0031 - accuracy: 0.9999 - val_loss: 0.6619 - val_accuracy: 0.8677\n",
            "Epoch 20/20\n",
            "30/30 [==============================] - 0s 14ms/step - loss: 0.0053 - accuracy: 0.9990 - val_loss: 0.6945 - val_accuracy: 0.8689\n"
          ]
        }
      ]
    },
    {
      "cell_type": "markdown",
      "source": [
        "Validation accuracy @ 88.7% in best model version. We can see the overtraining effect in tha val_loss keeps increasing after about epoch ~ 10. But let's plot the outcome. We saved our results as history, so we can create a history dictionary and then plot metrics accordingly"
      ],
      "metadata": {
        "id": "S2LAmEhPpd5H"
      }
    },
    {
      "cell_type": "code",
      "source": [
        "history_dict = history.history\n",
        "history_dict.keys()"
      ],
      "metadata": {
        "colab": {
          "base_uri": "https://localhost:8080/"
        },
        "id": "ez0UnHtVoMQt",
        "outputId": "c5f555fe-3a2c-4bd4-ae9c-69a4e7cc334c"
      },
      "execution_count": 16,
      "outputs": [
        {
          "output_type": "execute_result",
          "data": {
            "text/plain": [
              "dict_keys(['loss', 'accuracy', 'val_loss', 'val_accuracy'])"
            ]
          },
          "metadata": {},
          "execution_count": 16
        }
      ]
    },
    {
      "cell_type": "code",
      "source": [
        "loss_values = history_dict[\"loss\"]\n",
        "val_loss_values = history_dict[\"val_loss\"]\n",
        "epochs = range(1, len(loss_values) + 1)\n",
        "\n",
        "plt.plot(epochs, loss_values, \"bo\", label = \"Training loss\")\n",
        "plt.plot(epochs, val_loss_values, \"b\", label = \"Validation loss\")\n",
        "plt.title(\"Training and Validation Loss\")\n",
        "plt.xlabel(\"Epochs\")\n",
        "plt.ylabel(\"Loss\")\n",
        "plt.legend()\n",
        "plt.show()"
      ],
      "metadata": {
        "id": "10-y-duTqmKf",
        "colab": {
          "base_uri": "https://localhost:8080/",
          "height": 295
        },
        "outputId": "7d457a5d-fcf9-422a-d669-13cb266d20bf"
      },
      "execution_count": 17,
      "outputs": [
        {
          "output_type": "display_data",
          "data": {
            "text/plain": [
              "<Figure size 432x288 with 1 Axes>"
            ],
            "image/png": "[encoded data removed]"
          },
          "metadata": {
            "needs_background": "light"
          }
        }
      ]
    },
    {
      "cell_type": "markdown",
      "source": [
        "Looking at the loss plot, we can track the epoch at which overitting becomes a big problem."
      ],
      "metadata": {
        "id": "BUInjHcycRZJ"
      }
    },
    {
      "cell_type": "code",
      "source": [
        "plt.clf() \n",
        "acc = history_dict[\"accuracy\"]\n",
        "val_acc = history_dict[\"val_accuracy\"]\n",
        "\n",
        "plt.plot(epochs, acc, \"bo\", label = \"Training accuracy\")\n",
        "plt.plot(epochs, val_acc, \"b\", label = \"Validation accuracy\")\n",
        "plt.title(\"Training and Validation Accuracy\")\n",
        "plt.ylabel(\"Accuracy\")\n",
        "plt.xlabel(\"Epochs\")\n",
        "plt.legend()\n",
        "plt.show()\n"
      ],
      "metadata": {
        "colab": {
          "base_uri": "https://localhost:8080/",
          "height": 295
        },
        "id": "D9VBY2n2cL0o",
        "outputId": "fba58edb-af2e-4944-a58f-3168b79179b3"
      },
      "execution_count": 18,
      "outputs": [
        {
          "output_type": "display_data",
          "data": {
            "text/plain": [
              "<Figure size 432x288 with 1 Axes>"
            ],
            "image/png": "[encoded data removed]"
          },
          "metadata": {
            "needs_background": "light"
          }
        }
      ]
    },
    {
      "cell_type": "markdown",
      "source": [
        "It looks like ~4 is the appropriate value for epochs"
      ],
      "metadata": {
        "id": "rdW-_tp5dPwx"
      }
    },
    {
      "cell_type": "code",
      "source": [
        "model = keras.Sequential([\n",
        "    layers.Dense(16, \"relu\"),\n",
        "    layers.Dense(16, \"relu\"),\n",
        "    layers.Dense(1, \"sigmoid\")\n",
        "])\n",
        "\n"
      ],
      "metadata": {
        "id": "MDgJW2CnceRm"
      },
      "execution_count": 19,
      "outputs": []
    },
    {
      "cell_type": "code",
      "source": [
        "model.compile(\n",
        "    loss = \"binary_crossentropy\",\n",
        "    optimizer = \"rmsprop\",\n",
        "    metrics = [\"accuracy\"])"
      ],
      "metadata": {
        "id": "2jzQwXUgd3MC"
      },
      "execution_count": 20,
      "outputs": []
    },
    {
      "cell_type": "code",
      "source": [
        "model.fit(x_train,y_train, epochs = 4, batch_size = 512)\n",
        "\n",
        "results = model.evaluate(x_test, y_test)"
      ],
      "metadata": {
        "colab": {
          "base_uri": "https://localhost:8080/"
        },
        "id": "V2GoEnZmeHMZ",
        "outputId": "dd14a7c2-58e9-4fd7-8b1b-6df2f814d377"
      },
      "execution_count": 21,
      "outputs": [
        {
          "output_type": "stream",
          "name": "stdout",
          "text": [
            "Epoch 1/4\n",
            "49/49 [==============================] - 1s 8ms/step - loss: 0.4467 - accuracy: 0.8221\n",
            "Epoch 2/4\n",
            "49/49 [==============================] - 0s 9ms/step - loss: 0.2554 - accuracy: 0.9098\n",
            "Epoch 3/4\n",
            "49/49 [==============================] - 0s 9ms/step - loss: 0.1995 - accuracy: 0.9294\n",
            "Epoch 4/4\n",
            "49/49 [==============================] - 0s 9ms/step - loss: 0.1681 - accuracy: 0.9394\n",
            "782/782 [==============================] - 2s 2ms/step - loss: 0.3088 - accuracy: 0.8778\n"
          ]
        }
      ]
    },
    {
      "cell_type": "code",
      "source": [
        "results"
      ],
      "metadata": {
        "colab": {
          "base_uri": "https://localhost:8080/"
        },
        "id": "MvZE561aeNi3",
        "outputId": "e6f15527-54a8-400d-c17c-eb959f649efe"
      },
      "execution_count": 22,
      "outputs": [
        {
          "output_type": "execute_result",
          "data": {
            "text/plain": [
              "[0.30880215764045715, 0.8777999877929688]"
            ]
          },
          "metadata": {},
          "execution_count": 22
        }
      ]
    },
    {
      "cell_type": "markdown",
      "source": [
        "Model is now trained, can use the predict method to predict the labels for reviews now:"
      ],
      "metadata": {
        "id": "azV333D6eyvG"
      }
    },
    {
      "cell_type": "code",
      "source": [
        "model.predict(x_test[0:5])"
      ],
      "metadata": {
        "colab": {
          "base_uri": "https://localhost:8080/"
        },
        "id": "KpakgAIZeRCc",
        "outputId": "163f93c0-f2d0-41a2-f098-b16603a0fe7b"
      },
      "execution_count": 23,
      "outputs": [
        {
          "output_type": "execute_result",
          "data": {
            "text/plain": [
              "array([[0.23361647],\n",
              "       [0.99945694],\n",
              "       [0.9779168 ],\n",
              "       [0.91287845],\n",
              "       [0.96598846]], dtype=float32)"
            ]
          },
          "metadata": {},
          "execution_count": 23
        }
      ]
    },
    {
      "cell_type": "markdown",
      "source": [
        "Later on we'll be looking at techniques for managing the generalisation vs optimisation trade-off/tension within deep learning - e.g. regularisation (L1, L2) & dropouts. But for now, to build an intuition for appropriate layer frameworks within the keras model API, we can play around with our model - add some additional layers, play with activation functions etc. \n",
        "\n",
        "---\n",
        "\n",
        "Let's build a model with more units - giving our model more freedom to construct representations (which may lead to overfitting!)"
      ],
      "metadata": {
        "id": "zDSvh8JZ2PuF"
      }
    },
    {
      "cell_type": "code",
      "source": [
        "model = keras.Sequential([\n",
        "  keras.layers.Dense(64, activation = \"relu\"),\n",
        "  keras.layers.Dense(64, activation = \"relu\"),\n",
        "  keras.layers.Dense(1, activation = \"sigmoid\")\n",
        "])\n",
        "\n"
      ],
      "metadata": {
        "id": "pnO8ZbbQe454"
      },
      "execution_count": 24,
      "outputs": []
    },
    {
      "cell_type": "code",
      "source": [
        "model.compile(\n",
        "  optimizer = \"rmsprop\",\n",
        "  loss = \"binary_crossentropy\",\n",
        "  metrics = [\"accuracy\"])"
      ],
      "metadata": {
        "id": "WlhU0pq6IiAM"
      },
      "execution_count": 25,
      "outputs": []
    },
    {
      "cell_type": "code",
      "source": [
        "history = model.fit(x_train, y_train, epochs = 10, batch_size = 256, validation_data = (x_val, y_val))"
      ],
      "metadata": {
        "id": "5QWVkjDbIzT9",
        "outputId": "e364272f-4f92-4d6e-e70a-4e67bc2d180b",
        "colab": {
          "base_uri": "https://localhost:8080/"
        }
      },
      "execution_count": 63,
      "outputs": [
        {
          "output_type": "stream",
          "name": "stdout",
          "text": [
            "Epoch 1/10\n",
            "98/98 [==============================] - 1s 13ms/step - loss: 0.0068 - accuracy: 0.9990 - val_loss: 1.1382e-04 - val_accuracy: 0.9999\n",
            "Epoch 2/10\n",
            "98/98 [==============================] - 1s 9ms/step - loss: 0.0049 - accuracy: 0.9991 - val_loss: 5.4427e-05 - val_accuracy: 1.0000\n",
            "Epoch 3/10\n",
            "98/98 [==============================] - 1s 9ms/step - loss: 0.0044 - accuracy: 0.9989 - val_loss: 5.5151e-05 - val_accuracy: 1.0000\n",
            "Epoch 4/10\n",
            "98/98 [==============================] - 1s 8ms/step - loss: 4.5374e-05 - accuracy: 1.0000 - val_loss: 1.6922e-05 - val_accuracy: 1.0000\n",
            "Epoch 5/10\n",
            "98/98 [==============================] - 1s 8ms/step - loss: 0.0019 - accuracy: 0.9996 - val_loss: 5.7746e-06 - val_accuracy: 1.0000\n",
            "Epoch 6/10\n",
            "98/98 [==============================] - 1s 8ms/step - loss: 0.0037 - accuracy: 0.9994 - val_loss: 8.3798e-06 - val_accuracy: 1.0000\n",
            "Epoch 7/10\n",
            "98/98 [==============================] - 1s 8ms/step - loss: 5.0725e-04 - accuracy: 0.9998 - val_loss: 7.2295e-06 - val_accuracy: 1.0000\n",
            "Epoch 8/10\n",
            "98/98 [==============================] - 1s 8ms/step - loss: 4.6182e-05 - accuracy: 1.0000 - val_loss: 4.1835e-06 - val_accuracy: 1.0000\n",
            "Epoch 9/10\n",
            "98/98 [==============================] - 1s 8ms/step - loss: 2.1879e-05 - accuracy: 1.0000 - val_loss: 0.0307 - val_accuracy: 0.9946\n",
            "Epoch 10/10\n",
            "98/98 [==============================] - 1s 10ms/step - loss: 0.0025 - accuracy: 0.9996 - val_loss: 1.1044e-06 - val_accuracy: 1.0000\n"
          ]
        }
      ]
    },
    {
      "cell_type": "code",
      "source": [
        "results = model.evaluate(x_test, y_test)"
      ],
      "metadata": {
        "id": "XUzLFvHPJNq0",
        "outputId": "93cd909e-9d1c-4892-c44d-1ef5656e9f56",
        "colab": {
          "base_uri": "https://localhost:8080/"
        }
      },
      "execution_count": 27,
      "outputs": [
        {
          "output_type": "stream",
          "name": "stdout",
          "text": [
            "782/782 [==============================] - 2s 2ms/step - loss: 0.9742 - accuracy: 0.8599\n"
          ]
        }
      ]
    },
    {
      "cell_type": "code",
      "source": [
        "history_dict = history.history"
      ],
      "metadata": {
        "id": "CgvgLegoJa5t"
      },
      "execution_count": 64,
      "outputs": []
    },
    {
      "cell_type": "code",
      "source": [
        "history_dict"
      ],
      "metadata": {
        "id": "bSgadyfTOohX",
        "outputId": "6354416c-0888-4a6c-f9d3-501c4027e933",
        "colab": {
          "base_uri": "https://localhost:8080/"
        }
      },
      "execution_count": 62,
      "outputs": [
        {
          "output_type": "execute_result",
          "data": {
            "text/plain": [
              "dict_items([('loss', [0.3646400272846222, 0.21435216069221497, 0.16022132337093353, 0.11990588158369064, 0.07913024723529816, 0.048146434128284454, 0.025973748415708542, 0.017729002982378006, 0.008907362818717957, 0.006936006247997284]), ('accuracy', [0.8438799977302551, 0.9167199730873108, 0.9395599961280823, 0.9546800255775452, 0.972320020198822, 0.984279990196228, 0.9923999905586243, 0.9950000047683716, 0.9980400204658508, 0.9982799887657166])])"
            ]
          },
          "metadata": {},
          "execution_count": 62
        }
      ]
    },
    {
      "cell_type": "code",
      "source": [
        "accuracy = history_dict[\"accuracy\"]\n",
        "val_accuracy = history_dict[\"val_accuracy\"]\n",
        "loss = history_dict[\"loss\"]\n",
        "val_loss = history_dict[\"val_loss\"]\n",
        "epochs = range(len(loss))"
      ],
      "metadata": {
        "id": "1gXQZLefJa-t"
      },
      "execution_count": 65,
      "outputs": []
    },
    {
      "cell_type": "code",
      "source": [
        "plt.plot(epochs, accuracy, \"bo\", label = \"Accuracy\")\n",
        "plt.plot(epochs, val_accuracy, \"b\", label = \"Validation Accuracy\")\n",
        "plt.title(\"Overfitted model\")\n",
        "plt.xlabel(\"Accuracy\")\n",
        "plt.ylabel(\"Epoch\")\n",
        "plt.legend()\n",
        "plt.show()"
      ],
      "metadata": {
        "id": "6FqVTiuEKhlY",
        "outputId": "75fb7fe7-7f4a-4002-c1dc-788cfcfaf38b",
        "colab": {
          "base_uri": "https://localhost:8080/",
          "height": 295
        }
      },
      "execution_count": 69,
      "outputs": [
        {
          "output_type": "display_data",
          "data": {
            "text/plain": [
              "<Figure size 432x288 with 1 Axes>"
            ],
            "image/png": "[encoded data removed]"
          },
          "metadata": {
            "needs_background": "light"
          }
        }
      ]
    },
    {
      "cell_type": "code",
      "source": [
        ""
      ],
      "metadata": {
        "id": "pUL-yKyAKy2X"
      },
      "execution_count": null,
      "outputs": []
    }
  ]
}