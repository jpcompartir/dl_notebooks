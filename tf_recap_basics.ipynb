{
  "nbformat": 4,
  "nbformat_minor": 0,
  "metadata": {
    "colab": {
      "name": "tf_recap_basics.ipynb",
      "provenance": [],
      "authorship_tag": "ABX9TyPPZdAoYcesIpgYoELyA7Xk",
      "include_colab_link": true
    },
    "kernelspec": {
      "name": "python3",
      "display_name": "Python 3"
    },
    "language_info": {
      "name": "python"
    }
  },
  "cells": [
    {
      "cell_type": "markdown",
      "metadata": {
        "id": "view-in-github",
        "colab_type": "text"
      },
      "source": [
        "<a href=\"https://colab.research.google.com/github/jpcompartir/dl_notebooks/blob/main/tf_recap_basics.ipynb\" target=\"_parent\"><img src=\"https://colab.research.google.com/assets/colab-badge.svg\" alt=\"Open In Colab\"/></a>"
      ]
    },
    {
      "cell_type": "code",
      "execution_count": 1,
      "metadata": {
        "id": "ZLu2__MPBRzQ"
      },
      "outputs": [],
      "source": [
        "import tensorflow as tf"
      ]
    },
    {
      "cell_type": "code",
      "source": [
        "x = tf.ones(shape = (2, 1)) #equivalent to np.ones\n",
        "x"
      ],
      "metadata": {
        "colab": {
          "base_uri": "https://localhost:8080/"
        },
        "id": "2k66oFOlBc8Z",
        "outputId": "b32c7fdb-c5b2-4c79-c6d5-cbdd75b9ca16"
      },
      "execution_count": 2,
      "outputs": [
        {
          "output_type": "execute_result",
          "data": {
            "text/plain": [
              "<tf.Tensor: shape=(2, 1), dtype=float32, numpy=\n",
              "array([[1.],\n",
              "       [1.]], dtype=float32)>"
            ]
          },
          "metadata": {},
          "execution_count": 2
        }
      ]
    },
    {
      "cell_type": "code",
      "source": [
        "x = tf.random.uniform(shape = (3, 1), minval = 0., maxval = 1.) #equivalent to np.random.unfirm\n",
        "x"
      ],
      "metadata": {
        "colab": {
          "base_uri": "https://localhost:8080/"
        },
        "id": "smzEabg7Bg2I",
        "outputId": "88f7d13f-9e33-40f2-d729-b9b1fc039bc2"
      },
      "execution_count": 5,
      "outputs": [
        {
          "output_type": "execute_result",
          "data": {
            "text/plain": [
              "<tf.Tensor: shape=(3, 1), dtype=float32, numpy=\n",
              "array([[0.52495754],\n",
              "       [0.20644116],\n",
              "       [0.00975478]], dtype=float32)>"
            ]
          },
          "metadata": {},
          "execution_count": 5
        }
      ]
    },
    {
      "cell_type": "markdown",
      "source": [
        "The first signifanct difference between TF Tensors and Numpy arrays is that TF tensors are not assignable - they are constants. So we cannot assign a tf.tensor to a variable, like we can a np.array!\n",
        "\n",
        "Instead, we need a tf.Variable() object (which we saw in our NN implementation). We can then track the variable's state and make changes to it (in this case, the weights tensor, recall the weights tensor is where our model's knowledge is stored). \n",
        "\n",
        "*Changes are made to TF Variables by their .assign() method.*"
      ],
      "metadata": {
        "id": "QrmGYzRUCWNb"
      }
    },
    {
      "cell_type": "code",
      "source": [
        " v = tf.Variable(initial_value = tf.random.normal(shape = (3, 1)))\n",
        " v"
      ],
      "metadata": {
        "colab": {
          "base_uri": "https://localhost:8080/"
        },
        "id": "Kzq1EtxVB0J4",
        "outputId": "8617c320-d395-4291-e30e-ecc1524d43ba"
      },
      "execution_count": 7,
      "outputs": [
        {
          "output_type": "execute_result",
          "data": {
            "text/plain": [
              "<tf.Variable 'Variable:0' shape=(3, 1) dtype=float32, numpy=\n",
              "array([[ 0.15181033],\n",
              "       [-1.7959397 ],\n",
              "       [-0.9345837 ]], dtype=float32)>"
            ]
          },
          "metadata": {},
          "execution_count": 7
        }
      ]
    },
    {
      "cell_type": "code",
      "source": [
        "v.assign(tf.ones((3, 1))) #We place the tuple(3, 1) to the tf.ones() call inside the assign() call\n",
        "v"
      ],
      "metadata": {
        "colab": {
          "base_uri": "https://localhost:8080/"
        },
        "id": "xhEAKgfdC_K4",
        "outputId": "663c277a-0c18-4952-ffd4-494672bc2792"
      },
      "execution_count": 9,
      "outputs": [
        {
          "output_type": "execute_result",
          "data": {
            "text/plain": [
              "<tf.Variable 'Variable:0' shape=(3, 1) dtype=float32, numpy=\n",
              "array([[1.],\n",
              "       [1.],\n",
              "       [1.]], dtype=float32)>"
            ]
          },
          "metadata": {},
          "execution_count": 9
        }
      ]
    },
    {
      "cell_type": "markdown",
      "source": [
        "We can also slice the tensor and assign separately:"
      ],
      "metadata": {
        "id": "qaKcli3uEbAq"
      }
    },
    {
      "cell_type": "code",
      "source": [
        "v[0, 0].assign(3.)\n",
        "v"
      ],
      "metadata": {
        "colab": {
          "base_uri": "https://localhost:8080/"
        },
        "id": "GRZjEhN2DVka",
        "outputId": "648740ce-76bc-4149-f528-fd57e8f75887"
      },
      "execution_count": 10,
      "outputs": [
        {
          "output_type": "execute_result",
          "data": {
            "text/plain": [
              "<tf.Variable 'Variable:0' shape=(3, 1) dtype=float32, numpy=\n",
              "array([[3.],\n",
              "       [1.],\n",
              "       [1.]], dtype=float32)>"
            ]
          },
          "metadata": {},
          "execution_count": 10
        }
      ]
    },
    {
      "cell_type": "markdown",
      "source": [
        "We can use assign_add() and assign_sub() to mimic the behaviour of += and -= respectively.\n",
        "\n",
        "There are also a number of tensor operations we can call on a TF Tensor:"
      ],
      "metadata": {
        "id": "yXJCfyw5EmKs"
      }
    },
    {
      "cell_type": "code",
      "source": [
        "a = tf.ones(\n",
        "    (2, 2)\n",
        ")\n",
        "b = tf.square(a)\n",
        "c = tf.sqrt(a)\n",
        "d = b + c\n",
        "e = tf.matmul(a, b)\n",
        "e *= d\n",
        "a, b, c, d, e"
      ],
      "metadata": {
        "colab": {
          "base_uri": "https://localhost:8080/"
        },
        "id": "PK6JcNfeEi1x",
        "outputId": "a0e397c4-4210-4441-a5fa-0af21bc9460b"
      },
      "execution_count": 13,
      "outputs": [
        {
          "output_type": "execute_result",
          "data": {
            "text/plain": [
              "(<tf.Tensor: shape=(2, 2), dtype=float32, numpy=\n",
              " array([[1., 1.],\n",
              "        [1., 1.]], dtype=float32)>,\n",
              " <tf.Tensor: shape=(2, 2), dtype=float32, numpy=\n",
              " array([[1., 1.],\n",
              "        [1., 1.]], dtype=float32)>,\n",
              " <tf.Tensor: shape=(2, 2), dtype=float32, numpy=\n",
              " array([[1., 1.],\n",
              "        [1., 1.]], dtype=float32)>,\n",
              " <tf.Tensor: shape=(2, 2), dtype=float32, numpy=\n",
              " array([[2., 2.],\n",
              "        [2., 2.]], dtype=float32)>,\n",
              " <tf.Tensor: shape=(2, 2), dtype=float32, numpy=\n",
              " array([[4., 4.],\n",
              "        [4., 4.]], dtype=float32)>)"
            ]
          },
          "metadata": {},
          "execution_count": 13
        }
      ]
    },
    {
      "cell_type": "markdown",
      "source": [
        "Moving into the GradientTape API - one of the key upgrades from Numpy to Tf. GradientTape() allows us to retrieve the gradient of any differentiable equation! Incredibly important for training neural networks!"
      ],
      "metadata": {
        "id": "JbhV9GXZFZ0s"
      }
    },
    {
      "cell_type": "code",
      "source": [
        ""
      ],
      "metadata": {
        "id": "UJY6CKRjE9v6"
      },
      "execution_count": null,
      "outputs": []
    }
  ]
}