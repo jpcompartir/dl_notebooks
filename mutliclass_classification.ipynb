{
  "nbformat": 4,
  "nbformat_minor": 0,
  "metadata": {
    "colab": {
      "name": "mutliclass_classification.ipynb",
      "provenance": [],
      "collapsed_sections": [],
      "authorship_tag": "ABX9TyN2+KQicmRDt9236iUPMNDa",
      "include_colab_link": true
    },
    "kernelspec": {
      "name": "python3",
      "display_name": "Python 3"
    },
    "language_info": {
      "name": "python"
    }
  },
  "cells": [
    {
      "cell_type": "markdown",
      "metadata": {
        "id": "view-in-github",
        "colab_type": "text"
      },
      "source": [
        "<a href=\"https://colab.research.google.com/github/jpcompartir/dl_notebooks/blob/main/mutliclass_classification.ipynb\" target=\"_parent\"><img src=\"https://colab.research.google.com/assets/colab-badge.svg\" alt=\"Open In Colab\"/></a>"
      ]
    },
    {
      "cell_type": "markdown",
      "source": [
        "Looking at a multi_class classification - following on from binary classification. Using the Keras API again, we'll build a keras.Sequential model using dense layers with relu activations into softmax classification head, we'll compile with a categorical_crossentropy loss function, rmsprop optimizer, accuracy as a metric - could add f1_precision too probably?\n",
        "\n",
        "---\n",
        "\n",
        "We'll be using the Reuters dataset to classify posts into 46 topics (which guides our architecture choices, we're going to need > 46 units in each of the hidden layers)"
      ],
      "metadata": {
        "id": "DBQaLTNATAtU"
      }
    },
    {
      "cell_type": "code",
      "execution_count": 1,
      "metadata": {
        "id": "fQVcf3lAS8lG"
      },
      "outputs": [],
      "source": [
        "import tensorflow as tf\n",
        "import numpy as np\n",
        "import matplotlib.pyplot as plt\n",
        "\n",
        "from tensorflow import keras\n",
        "from tensorflow.keras import layers\n",
        "from tensorflow.keras.datasets import reuters"
      ]
    },
    {
      "cell_type": "markdown",
      "source": [
        "Read the data in, using the familiar 2 tuples - load_data() and num_words = arguments. Then define the vectorise_sequences() function we defined in the binary classification problem - from memory and if you've forgotten, try to figure it out."
      ],
      "metadata": {
        "id": "bGMPXBstWH2M"
      }
    },
    {
      "cell_type": "code",
      "source": [
        "(train_data, train_labels), (test_data, test_labels) = reuters.load_data(num_words = 10000)"
      ],
      "metadata": {
        "id": "_hTow-4FVucC"
      },
      "execution_count": 23,
      "outputs": []
    },
    {
      "cell_type": "code",
      "source": [
        "def vectorise_sequences(sequences, dimension = 10000):\n",
        "  results = np.zeros((len(sequences), dimension))\n",
        "\n",
        "  for i, sequence in enumerate(sequences):\n",
        "    for j in sequence:\n",
        "      results[i, j] =  1\n",
        "  return results"
      ],
      "metadata": {
        "id": "1zL3sLx0UyaZ"
      },
      "execution_count": 6,
      "outputs": []
    },
    {
      "cell_type": "code",
      "source": [
        "x_train = vectorise_sequences(train_data)\n",
        "y_train = np.asarray(train_labels).astype(\"float32\")\n",
        "\n",
        "x_test = vectorise_sequences(test_data)\n",
        "y_test = np.asarray(test_labels).astype(\"float32\")"
      ],
      "metadata": {
        "id": "APotnLVSX9r1"
      },
      "execution_count": 24,
      "outputs": []
    },
    {
      "cell_type": "code",
      "source": [
        "word_index = reuters.get_word_index()\n",
        "reverse_word_index = dict([(value, key) for (key, value) in word_index.items()])\n",
        "decoded_review = \" \".join([reverse_word_index.get(i - 3, \"?\") for i in train_data[0]])\n"
      ],
      "metadata": {
        "colab": {
          "base_uri": "https://localhost:8080/"
        },
        "id": "APix7sslWU7O",
        "outputId": "18d4b21b-d41f-4242-804b-7ecf774e2458"
      },
      "execution_count": 10,
      "outputs": [
        {
          "output_type": "stream",
          "name": "stdout",
          "text": [
            "Downloading data from https://storage.googleapis.com/tensorflow/tf-keras-datasets/reuters_word_index.json\n",
            "557056/550378 [==============================] - 0s 0us/step\n",
            "565248/550378 [==============================] - 0s 0us/step\n"
          ]
        }
      ]
    },
    {
      "cell_type": "markdown",
      "source": [
        "Write this up into a function again:"
      ],
      "metadata": {
        "id": "CrD8qmpPXYxi"
      }
    },
    {
      "cell_type": "code",
      "source": [
        "def decode_review(index, data = train_data):\n",
        "  word_index = reuters.get_word_index()\n",
        "  reverse_word_index = dict([(value, key) for (key, value) in word_index.items()])\n",
        "  \n",
        "  return \" \".join([reverse_word_index.get(i - 3, \"?\") for i in data[index]])"
      ],
      "metadata": {
        "id": "A359gCMnWYQ9"
      },
      "execution_count": 14,
      "outputs": []
    },
    {
      "cell_type": "code",
      "source": [
        "decode_review(1)"
      ],
      "metadata": {
        "colab": {
          "base_uri": "https://localhost:8080/",
          "height": 53
        },
        "id": "SjTKGMBZXp0R",
        "outputId": "dc770040-f82f-410f-bec0-62cc92bb746c"
      },
      "execution_count": 15,
      "outputs": [
        {
          "output_type": "execute_result",
          "data": {
            "text/plain": [
              "'? generale de banque sa lt ? br and lt heller overseas corp of chicago have each taken 50 pct stakes in ? company sa ? factors generale de banque said in a statement it gave no financial details of the transaction sa ? ? turnover in 1986 was 17 5 billion belgian francs reuter 3'"
            ],
            "application/vnd.google.colaboratory.intrinsic+json": {
              "type": "string"
            }
          },
          "metadata": {},
          "execution_count": 15
        }
      ]
    },
    {
      "cell_type": "markdown",
      "source": [
        "Our loss function - categorical cross entropy will expect our labels to be formatted in one-hot form. We can use the Keras API or define our own function, following similar logic to our vectorise_sequences function. We'll be outputting the scores for each topic, so we'll need to set dimensions as 46."
      ],
      "metadata": {
        "id": "i7-5UQb1bytw"
      }
    },
    {
      "cell_type": "code",
      "source": [
        "def to_one_hot_labels(labels, dimension = 46):\n",
        "  results = np.zeros((len(labels), dimension))\n",
        "\n",
        "  for index, label in enumerate(labels):\n",
        "    results[index, label] = 1 \n",
        "  \n",
        "  return results"
      ],
      "metadata": {
        "id": "rYSzBNMSbtbw"
      },
      "execution_count": 20,
      "outputs": []
    },
    {
      "cell_type": "code",
      "source": [
        "y_train = to_one_hot_labels(train_labels)\n",
        "y_test = to_one_hot_labels(test_labels)"
      ],
      "metadata": {
        "id": "oAplegWbckBP"
      },
      "execution_count": 25,
      "outputs": []
    },
    {
      "cell_type": "markdown",
      "source": [
        "Or using the Keras API"
      ],
      "metadata": {
        "id": "MZZKzlPec55A"
      }
    },
    {
      "cell_type": "code",
      "source": [
        "from tensorflow.keras.utils import to_categorical\n",
        "y_train = to_categorical(train_labels)\n",
        "y_test = to_categorical(test_labels)"
      ],
      "metadata": {
        "id": "L8boFq40c5HK"
      },
      "execution_count": 27,
      "outputs": []
    },
    {
      "cell_type": "markdown",
      "source": [
        "Oki, now we can look at building the model."
      ],
      "metadata": {
        "id": "1OV63FEUXucv"
      }
    },
    {
      "cell_type": "code",
      "source": [
        "model = keras.Sequential([\n",
        "  layers.Dense(64, activation = \"relu\"),\n",
        "  layers.Dense(64, activation = \"relu\"),\n",
        "  layers.Dense(46, activation = \"softmax\")\n",
        "])"
      ],
      "metadata": {
        "id": "l_gq2SThXtG-"
      },
      "execution_count": 47,
      "outputs": []
    },
    {
      "cell_type": "code",
      "source": [
        "model.compile(\n",
        "  optimizer = \"rmsprop\",\n",
        "  loss = \"categorical_crossentropy\",\n",
        "  metrics = [\"accuracy\"]\n",
        ")"
      ],
      "metadata": {
        "id": "VkjeuRpcdH9V"
      },
      "execution_count": 48,
      "outputs": []
    },
    {
      "cell_type": "markdown",
      "source": [
        "Set up the validation splits, taking 1k labels this time:"
      ],
      "metadata": {
        "id": "dwhfVZnTdgfr"
      }
    },
    {
      "cell_type": "code",
      "source": [
        "x_val = x_train[:1000]\n",
        "y_val = y_train[:1000]\n",
        "\n",
        "partial_x_train = x_train[1000:]\n",
        "partial_y_train = y_train[1000:]"
      ],
      "metadata": {
        "id": "60lrN8DfdVw3"
      },
      "execution_count": 49,
      "outputs": []
    },
    {
      "cell_type": "markdown",
      "source": [
        "It's now model training time:"
      ],
      "metadata": {
        "id": "dtYzrWWZd0LN"
      }
    },
    {
      "cell_type": "code",
      "source": [
        "history = model.fit(partial_x_train, partial_y_train, epochs = 20, batch_size = 512, validation_data  = (x_val, y_val))"
      ],
      "metadata": {
        "colab": {
          "base_uri": "https://localhost:8080/"
        },
        "id": "9HMA79yhdzag",
        "outputId": "d917d6c8-3b93-4a8d-ae65-e9643ac526ff"
      },
      "execution_count": 50,
      "outputs": [
        {
          "output_type": "stream",
          "name": "stdout",
          "text": [
            "Epoch 1/20\n",
            "16/16 [==============================] - 1s 55ms/step - loss: 2.6332 - accuracy: 0.5099 - val_loss: 1.7391 - val_accuracy: 0.6490\n",
            "Epoch 2/20\n",
            "16/16 [==============================] - 1s 45ms/step - loss: 1.3970 - accuracy: 0.7127 - val_loss: 1.2829 - val_accuracy: 0.7120\n",
            "Epoch 3/20\n",
            "16/16 [==============================] - 1s 45ms/step - loss: 1.0200 - accuracy: 0.7831 - val_loss: 1.1212 - val_accuracy: 0.7550\n",
            "Epoch 4/20\n",
            "16/16 [==============================] - 1s 46ms/step - loss: 0.8050 - accuracy: 0.8261 - val_loss: 1.0275 - val_accuracy: 0.7890\n",
            "Epoch 5/20\n",
            "16/16 [==============================] - 1s 46ms/step - loss: 0.6424 - accuracy: 0.8648 - val_loss: 0.9650 - val_accuracy: 0.8020\n",
            "Epoch 6/20\n",
            "16/16 [==============================] - 1s 45ms/step - loss: 0.5141 - accuracy: 0.8938 - val_loss: 0.9262 - val_accuracy: 0.8090\n",
            "Epoch 7/20\n",
            "16/16 [==============================] - 1s 87ms/step - loss: 0.4150 - accuracy: 0.9141 - val_loss: 0.9367 - val_accuracy: 0.8060\n",
            "Epoch 8/20\n",
            "16/16 [==============================] - 1s 48ms/step - loss: 0.3404 - accuracy: 0.9268 - val_loss: 0.8952 - val_accuracy: 0.8110\n",
            "Epoch 9/20\n",
            "16/16 [==============================] - 1s 45ms/step - loss: 0.2796 - accuracy: 0.9399 - val_loss: 0.9067 - val_accuracy: 0.8110\n",
            "Epoch 10/20\n",
            "16/16 [==============================] - 1s 46ms/step - loss: 0.2422 - accuracy: 0.9448 - val_loss: 0.9044 - val_accuracy: 0.8230\n",
            "Epoch 11/20\n",
            "16/16 [==============================] - 1s 45ms/step - loss: 0.2057 - accuracy: 0.9489 - val_loss: 0.9344 - val_accuracy: 0.8190\n",
            "Epoch 12/20\n",
            "16/16 [==============================] - 1s 45ms/step - loss: 0.1784 - accuracy: 0.9534 - val_loss: 0.9443 - val_accuracy: 0.8150\n",
            "Epoch 13/20\n",
            "16/16 [==============================] - 1s 46ms/step - loss: 0.1642 - accuracy: 0.9541 - val_loss: 1.0005 - val_accuracy: 0.8030\n",
            "Epoch 14/20\n",
            "16/16 [==============================] - 1s 95ms/step - loss: 0.1493 - accuracy: 0.9554 - val_loss: 0.9728 - val_accuracy: 0.8160\n",
            "Epoch 15/20\n",
            "16/16 [==============================] - 1s 52ms/step - loss: 0.1389 - accuracy: 0.9569 - val_loss: 0.9991 - val_accuracy: 0.8100\n",
            "Epoch 16/20\n",
            "16/16 [==============================] - 2s 98ms/step - loss: 0.1321 - accuracy: 0.9554 - val_loss: 1.0665 - val_accuracy: 0.8060\n",
            "Epoch 17/20\n",
            "16/16 [==============================] - 2s 99ms/step - loss: 0.1258 - accuracy: 0.9546 - val_loss: 1.0624 - val_accuracy: 0.8030\n",
            "Epoch 18/20\n",
            "16/16 [==============================] - 1s 82ms/step - loss: 0.1185 - accuracy: 0.9573 - val_loss: 1.0559 - val_accuracy: 0.8080\n",
            "Epoch 19/20\n",
            "16/16 [==============================] - 1s 77ms/step - loss: 0.1158 - accuracy: 0.9569 - val_loss: 1.0695 - val_accuracy: 0.8130\n",
            "Epoch 20/20\n",
            "16/16 [==============================] - 1s 79ms/step - loss: 0.1176 - accuracy: 0.9548 - val_loss: 1.1249 - val_accuracy: 0.8040\n"
          ]
        }
      ]
    },
    {
      "cell_type": "markdown",
      "source": [
        "Plot our outputs:"
      ],
      "metadata": {
        "id": "NiEkcJffedK4"
      }
    },
    {
      "cell_type": "code",
      "source": [
        "history_dict = history.history\n",
        "accuracy = history_dict[\"accuracy\"]\n",
        "val_accuracy = history_dict[\"val_accuracy\"]\n",
        "\n",
        "loss = history_dict[\"loss\"]\n",
        "val_loss = history_dict[\"val_loss\"]\n",
        "\n",
        "epochs = range(1, len(loss) + 1)"
      ],
      "metadata": {
        "id": "oB-bModMd-x7"
      },
      "execution_count": 51,
      "outputs": []
    },
    {
      "cell_type": "code",
      "source": [
        "epochs"
      ],
      "metadata": {
        "colab": {
          "base_uri": "https://localhost:8080/"
        },
        "id": "KRzeQqQre-Gy",
        "outputId": "54ef0ef6-c142-4b5e-d048-ae0cb5607aa0"
      },
      "execution_count": 44,
      "outputs": [
        {
          "output_type": "execute_result",
          "data": {
            "text/plain": [
              "range(1, 21)"
            ]
          },
          "metadata": {},
          "execution_count": 44
        }
      ]
    },
    {
      "cell_type": "code",
      "source": [
        "plt.plot(epochs, accuracy, \"bo\", label = \"Training Accuracy\")\n",
        "plt.plot(epochs, val_accuracy, \"b\", label = \"Validation Accuracy\")\n",
        "plt.plot(title = \"Multiclass Classification Accuracy\")\n",
        "plt.plot(ylabel = \"Accuracy\")\n",
        "plt.plot(xlabel = \"Epoch\")\n",
        "plt.legend()\n",
        "plt.show()"
      ],
      "metadata": {
        "colab": {
          "base_uri": "https://localhost:8080/",
          "height": 265
        },
        "id": "cE7R-SrLem0W",
        "outputId": "37c81d85-3c37-41f8-c50f-e9287abf4bb1"
      },
      "execution_count": 52,
      "outputs": [
        {
          "output_type": "display_data",
          "data": {
            "text/plain": [
              "<Figure size 432x288 with 1 Axes>"
            ],
            "image/png": "[encoded data removed]"
          },
          "metadata": {
            "needs_background": "light"
          }
        }
      ]
    },
    {
      "cell_type": "code",
      "source": [
        "plt.clf()\n",
        "plt.plot(epochs, loss, \"bo\", label = \"Training Loss\")\n",
        "plt.plot(epochs, val_loss, \"b\", label = \"Validation Loss\")\n",
        "plt.plot(title = \"Multiclass Classifaction Loss\")\n",
        "plt.plot(xlabel = \"Epoch\")\n",
        "plt.plot(ylabel = \"Loss\")\n",
        "plt.legend()\n",
        "plt.show()"
      ],
      "metadata": {
        "colab": {
          "base_uri": "https://localhost:8080/",
          "height": 265
        },
        "id": "BCc3Lre1f-uQ",
        "outputId": "251da6c3-f956-49ba-e4e6-178899c5464c"
      },
      "execution_count": 53,
      "outputs": [
        {
          "output_type": "display_data",
          "data": {
            "text/plain": [
              "<Figure size 432x288 with 1 Axes>"
            ],
            "image/png": "[encoded data removed]"
          },
          "metadata": {
            "needs_background": "light"
          }
        }
      ]
    },
    {
      "cell_type": "code",
      "source": [
        ""
      ],
      "metadata": {
        "id": "p44ZbUPQfgAJ"
      },
      "execution_count": null,
      "outputs": []
    }
  ]
}